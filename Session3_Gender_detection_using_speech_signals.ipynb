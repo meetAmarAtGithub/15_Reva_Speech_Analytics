{
  "cells": [
    {
      "cell_type": "markdown",
      "metadata": {
        "id": "view-in-github",
        "colab_type": "text"
      },
      "source": [
        "<a href=\"https://colab.research.google.com/github/meetAmarAtGithub/15_Reva_Speech_Analytics/blob/main/Session3_Gender_detection_using_speech_signals.ipynb\" target=\"_parent\"><img src=\"https://colab.research.google.com/assets/colab-badge.svg\" alt=\"Open In Colab\"/></a>"
      ]
    },
    {
      "cell_type": "markdown",
      "id": "4be37bc5",
      "metadata": {
        "id": "4be37bc5"
      },
      "source": [
        "# Identifying the Gender of a Voice using Machine Learning"
      ]
    },
    {
      "cell_type": "markdown",
      "id": "11de97a5",
      "metadata": {
        "id": "11de97a5"
      },
      "source": [
        "https://www.primaryobjects.com/2016/06/22/identifying-the-gender-of-a-voice-using-machine-learning/\n",
        "\n",
        "Determining a person’s gender as male or female, based upon a sample of their voice seems to initially be an easy task. Often, the human ear can easily detect the difference between a male or female voice within the first few spoken words. However, designing a computer program to do this turns out to be a bit trickier.\n",
        "\n"
      ]
    },
    {
      "cell_type": "markdown",
      "id": "1b5d98e4",
      "metadata": {
        "id": "1b5d98e4"
      },
      "source": [
        "This article describes the design of experiments using Machine Learning to model acoustic analysis of voices and speech for determining gender. The model is constructed using 3,168 recorded samples of male and female voices, speech, and utterances. The samples are processed using acoustic analysis and then applied to an artificial intelligence/machine learning algorithm to learn gender-specific traits. "
      ]
    },
    {
      "cell_type": "code",
      "source": [
        "from google.colab import drive\n",
        "drive.mount('/content/gdrive')"
      ],
      "metadata": {
        "colab": {
          "base_uri": "https://localhost:8080/"
        },
        "id": "i8H6KDmO1Ud7",
        "outputId": "1cdaca22-7f8f-4f88-e806-b36516682c8f"
      },
      "id": "i8H6KDmO1Ud7",
      "execution_count": 1,
      "outputs": [
        {
          "output_type": "stream",
          "name": "stdout",
          "text": [
            "Mounted at /content/gdrive\n"
          ]
        }
      ]
    },
    {
      "cell_type": "code",
      "source": [
        "%cd \"/content/gdrive/My Drive/Colab Notebooks/Reva/15_Speech_Analytics\""
      ],
      "metadata": {
        "colab": {
          "base_uri": "https://localhost:8080/"
        },
        "id": "hizX-aC91VMG",
        "outputId": "3f8c472e-983c-489d-8365-e52b7a617f6a"
      },
      "id": "hizX-aC91VMG",
      "execution_count": 2,
      "outputs": [
        {
          "output_type": "stream",
          "name": "stdout",
          "text": [
            "/content/gdrive/My Drive/Colab Notebooks/Reva/15_Speech_Analytics\n"
          ]
        }
      ]
    },
    {
      "cell_type": "code",
      "execution_count": 3,
      "id": "c3ed1304",
      "metadata": {
        "id": "c3ed1304"
      },
      "outputs": [],
      "source": [
        "import librosa\n",
        "import numpy as np\n",
        "from scipy.stats import entropy"
      ]
    },
    {
      "cell_type": "raw",
      "id": "197dda04",
      "metadata": {
        "id": "197dda04"
      },
      "source": [
        "The following acoustic properties of each voice are measured:\n",
        "\n",
        "duration: length of signal\n",
        "meanfreq: mean frequency (in kHz)\n",
        "sd: standard deviation of frequency\n",
        "median: median frequency (in kHz)\n",
        "Q25: first quantile (in kHz)\n",
        "Q75: third quantile (in kHz)\n",
        "IQR: interquantile range (in kHz)\n",
        "skew: skewness (see note in specprop description)\n",
        "kurt: kurtosis (see note in specprop description)\n",
        "sp.ent: spectral entropy\n",
        "sfm: spectral flatness\n",
        "mode: mode frequency\n",
        "centroid: frequency centroid (see specprop)\n",
        "peakf: peak frequency (frequency with highest energy)\n",
        "meanfun: average of fundamental frequency measured across acoustic signal\n",
        "minfun: minimum fundamental frequency measured across acoustic signal\n",
        "maxfun: maximum fundamental frequency measured across acoustic signal\n",
        "meandom: average of dominant frequency measured across acoustic signal\n",
        "mindom: minimum of dominant frequency measured across acoustic signal\n",
        "maxdom: maximum of dominant frequency measured across acoustic signal\n",
        "dfrange: range of dominant frequency measured across acoustic signal\n",
        "modindx: modulation index. Calculated as the accumulated absolute difference between adjacent measurements of fundamental frequencies divided by the frequency range"
      ]
    },
    {
      "cell_type": "code",
      "execution_count": 4,
      "id": "66a4a357",
      "metadata": {
        "id": "66a4a357"
      },
      "outputs": [],
      "source": [
        "def get_audio_duration(file_path):\n",
        "    y, sr = librosa.load(file_path)\n",
        "    duration = librosa.get_duration(y=y, sr=sr)\n",
        "    return duration"
      ]
    },
    {
      "cell_type": "code",
      "execution_count": 5,
      "id": "f20a3ca2",
      "metadata": {
        "id": "f20a3ca2",
        "outputId": "53d8d890-8953-482f-fc60-d930394742dc",
        "colab": {
          "base_uri": "https://localhost:8080/"
        }
      },
      "outputs": [
        {
          "output_type": "stream",
          "name": "stdout",
          "text": [
            "Duration: 5.0 seconds\n"
          ]
        }
      ],
      "source": [
        "# Example usage\n",
        "# Specify the path to the audio file\n",
        "audio_path = \"/content/gdrive/My Drive/Colab Notebooks/Reva/15_Speech_Analytics/session1_violin-origional.wav\"\n",
        "duration = get_audio_duration(audio_path)\n",
        "print(\"Duration:\", duration, \"seconds\")"
      ]
    },
    {
      "cell_type": "code",
      "execution_count": 6,
      "id": "564e7f6e",
      "metadata": {
        "id": "564e7f6e"
      },
      "outputs": [],
      "source": [
        "def get_mean_frequency(file_path):\n",
        "    audio_data, sample_rate = librosa.load(file_path)\n",
        "    stft = librosa.stft(audio_data)\n",
        "    frequencies = librosa.fft_frequencies(sr=sample_rate, n_fft=len(stft))\n",
        "    mean_frequency = frequencies.mean()\n",
        "    return mean_frequency"
      ]
    },
    {
      "cell_type": "code",
      "execution_count": 7,
      "id": "f34999f2",
      "metadata": {
        "id": "f34999f2",
        "outputId": "9c866bd4-0f44-41b9-cc95-0399e7372bc8",
        "colab": {
          "base_uri": "https://localhost:8080/"
        }
      },
      "outputs": [
        {
          "output_type": "stream",
          "name": "stdout",
          "text": [
            "Mean frequency: 5507.121951219512 Hz\n"
          ]
        }
      ],
      "source": [
        "# Example usage\n",
        "mean_frequency = get_mean_frequency(audio_path)\n",
        "print(\"Mean frequency:\", mean_frequency, \"Hz\")"
      ]
    },
    {
      "cell_type": "code",
      "execution_count": 8,
      "id": "b1054ad2",
      "metadata": {
        "id": "b1054ad2"
      },
      "outputs": [],
      "source": [
        "def get_audio_std(file_path):\n",
        "    audio_data, _ = librosa.load(file_path)\n",
        "    std = np.std(audio_data)\n",
        "    return std"
      ]
    },
    {
      "cell_type": "code",
      "execution_count": 9,
      "id": "a59f09c9",
      "metadata": {
        "id": "a59f09c9",
        "outputId": "29bfe2f6-b690-4ccd-cc26-24bb1b34a7ca",
        "colab": {
          "base_uri": "https://localhost:8080/"
        }
      },
      "outputs": [
        {
          "output_type": "stream",
          "name": "stdout",
          "text": [
            "Standard deviation: 0.085269086 Hz\n"
          ]
        }
      ],
      "source": [
        "# Example usage\n",
        "std = get_audio_std(audio_path)\n",
        "print(\"Standard deviation:\", std, \"Hz\")"
      ]
    },
    {
      "cell_type": "code",
      "execution_count": 10,
      "id": "16f83e1c",
      "metadata": {
        "id": "16f83e1c"
      },
      "outputs": [],
      "source": [
        "def get_audio_median_frequency(file_path):\n",
        "    audio_data, sample_rate = librosa.load(file_path)\n",
        "    stft = librosa.stft(audio_data)\n",
        "    magnitudes = librosa.magphase(stft)[0]\n",
        "    median_frequency = librosa.feature.rms(S=magnitudes).mean()\n",
        "    return median_frequency"
      ]
    },
    {
      "cell_type": "code",
      "execution_count": 11,
      "id": "253a43ce",
      "metadata": {
        "id": "253a43ce",
        "outputId": "517f4958-3a7a-4fc8-93fe-183c54ace9c1",
        "colab": {
          "base_uri": "https://localhost:8080/"
        }
      },
      "outputs": [
        {
          "output_type": "stream",
          "name": "stdout",
          "text": [
            "Median Frequency: 0.0442345159563767 Hz\n"
          ]
        }
      ],
      "source": [
        "# Example usage\n",
        "median_frequency = get_audio_median_frequency(audio_path)\n",
        "print(\"Median Frequency:\",median_frequency, \"Hz\")"
      ]
    },
    {
      "cell_type": "code",
      "execution_count": 12,
      "id": "f0eabea4",
      "metadata": {
        "id": "f0eabea4"
      },
      "outputs": [],
      "source": [
        "def extract_first_quartile(file_path):\n",
        "    audio_data, _ = librosa.load(file_path)\n",
        "    first_quartile = np.percentile(audio_data, 25)\n",
        "    return first_quartile"
      ]
    },
    {
      "cell_type": "code",
      "execution_count": 13,
      "id": "96a10303",
      "metadata": {
        "id": "96a10303",
        "outputId": "ac09254f-e3f7-4eb8-de23-ee820b951473",
        "colab": {
          "base_uri": "https://localhost:8080/"
        }
      },
      "outputs": [
        {
          "output_type": "stream",
          "name": "stdout",
          "text": [
            "First Quartile: -0.042364017106592655\n"
          ]
        }
      ],
      "source": [
        "first_quartile = extract_first_quartile(audio_path)\n",
        "print(\"First Quartile:\", first_quartile)"
      ]
    },
    {
      "cell_type": "code",
      "execution_count": 14,
      "id": "fec917fe",
      "metadata": {
        "id": "fec917fe"
      },
      "outputs": [],
      "source": [
        "def get_third_quartile(file_path):\n",
        "    audio_data, _ = librosa.load(file_path)\n",
        "    third_quartile = np.percentile(audio_data, 75)\n",
        "    return third_quartile"
      ]
    },
    {
      "cell_type": "code",
      "execution_count": 15,
      "id": "ca50ee68",
      "metadata": {
        "id": "ca50ee68",
        "outputId": "62bd5316-b9bd-4c93-ce17-b4714eba54f8",
        "colab": {
          "base_uri": "https://localhost:8080/"
        }
      },
      "outputs": [
        {
          "output_type": "stream",
          "name": "stdout",
          "text": [
            "Third Quartile: 0.03800918720662594\n"
          ]
        }
      ],
      "source": [
        "third_quartile = get_third_quartile(audio_path)\n",
        "print(\"Third Quartile:\", third_quartile)"
      ]
    },
    {
      "cell_type": "code",
      "execution_count": 16,
      "id": "3d1464fd",
      "metadata": {
        "id": "3d1464fd"
      },
      "outputs": [],
      "source": [
        "def get_interquartile_range(file_path):\n",
        "    audio_data, _ = librosa.load(file_path)\n",
        "    iqr = np.percentile(audio_data, 75) - np.percentile(audio_data, 25)\n",
        "    return iqr"
      ]
    },
    {
      "cell_type": "code",
      "execution_count": 17,
      "id": "99ea9068",
      "metadata": {
        "id": "99ea9068",
        "outputId": "4396f2fd-8b5e-4cee-c9f0-c6ea0566db79",
        "colab": {
          "base_uri": "https://localhost:8080/"
        }
      },
      "outputs": [
        {
          "output_type": "stream",
          "name": "stdout",
          "text": [
            "Interquartile Range: 0.0803732043132186\n"
          ]
        }
      ],
      "source": [
        "interquartile_range = get_interquartile_range(audio_path)\n",
        "print(\"Interquartile Range:\", interquartile_range)"
      ]
    },
    {
      "cell_type": "code",
      "execution_count": 18,
      "id": "d3505901",
      "metadata": {
        "id": "d3505901"
      },
      "outputs": [],
      "source": [
        "def compute_skewness(audio_file):\n",
        "    audio_data, _ = librosa.load(audio_file)\n",
        "    spectral_centroids = librosa.feature.spectral_centroid(y=audio_data)\n",
        "    skewness = np.mean((spectral_centroids - np.mean(spectral_centroids))**3) / np.std(spectral_centroids)**3\n",
        "    return skewness\n",
        "    "
      ]
    },
    {
      "cell_type": "code",
      "execution_count": 19,
      "id": "21d23f0f",
      "metadata": {
        "id": "21d23f0f",
        "outputId": "48d3a481-57b5-4430-dc9f-1c91f31fb2cf",
        "colab": {
          "base_uri": "https://localhost:8080/"
        }
      },
      "outputs": [
        {
          "output_type": "stream",
          "name": "stdout",
          "text": [
            "Skewness: 0.18007278264779683\n"
          ]
        }
      ],
      "source": [
        "skewness = compute_skewness(audio_path)\n",
        "print(\"Skewness:\", skewness)"
      ]
    },
    {
      "cell_type": "code",
      "execution_count": 20,
      "id": "30adf471",
      "metadata": {
        "id": "30adf471"
      },
      "outputs": [],
      "source": [
        "def compute_kurtosis(audio_file):\n",
        "    audio_data, _ = librosa.load(audio_file)\n",
        "    spectral_rolloff = librosa.feature.spectral_rolloff(y=audio_data)\n",
        "    kurtosis = np.mean((spectral_rolloff - np.mean(spectral_rolloff))**4) / np.std(spectral_rolloff)**4 - 3\n",
        "    return kurtosis"
      ]
    },
    {
      "cell_type": "code",
      "execution_count": 21,
      "id": "13613bd6",
      "metadata": {
        "id": "13613bd6",
        "outputId": "30c9b282-2e0d-42cd-b2bc-c43fd68724bc",
        "colab": {
          "base_uri": "https://localhost:8080/"
        }
      },
      "outputs": [
        {
          "output_type": "stream",
          "name": "stdout",
          "text": [
            "Kurtosis: 2.0147509033131925\n"
          ]
        }
      ],
      "source": [
        "kurtosis = compute_kurtosis(audio_path)\n",
        "print(\"Kurtosis:\", kurtosis)"
      ]
    },
    {
      "cell_type": "code",
      "execution_count": 22,
      "id": "89a82f8c",
      "metadata": {
        "id": "89a82f8c"
      },
      "outputs": [],
      "source": [
        "def compute_spectral_entropy(audio_file):\n",
        "    audio_data, _ = librosa.load(audio_file)\n",
        "    spectrogram = np.abs(librosa.stft(audio_data))\n",
        "    spectral_entropy = entropy(spectrogram, axis=0).mean()\n",
        "    return spectral_entropy"
      ]
    },
    {
      "cell_type": "code",
      "execution_count": 23,
      "id": "8023f6f9",
      "metadata": {
        "id": "8023f6f9",
        "outputId": "c18976be-083c-4514-84b9-ca8a4dc9c4af",
        "colab": {
          "base_uri": "https://localhost:8080/"
        }
      },
      "outputs": [
        {
          "output_type": "stream",
          "name": "stdout",
          "text": [
            "Spectral Entropy: 4.7107263\n"
          ]
        }
      ],
      "source": [
        "spectral_entropy = compute_spectral_entropy(audio_path)\n",
        "print(\"Spectral Entropy:\", spectral_entropy)"
      ]
    },
    {
      "cell_type": "code",
      "execution_count": 24,
      "id": "839faca8",
      "metadata": {
        "id": "839faca8"
      },
      "outputs": [],
      "source": [
        "def compute_spectral_features(audio_file):\n",
        "    audio_data, _ = librosa.load(audio_file)\n",
        "    spectrogram = np.abs(librosa.stft(audio_data))\n",
        "    \n",
        "    # Spectral flatness\n",
        "    flatness = librosa.feature.spectral_flatness(S=spectrogram).mean()\n",
        "    \n",
        "    # Spectral centroid\n",
        "    centroid_data = librosa.feature.spectral_centroid(S=spectrogram)\n",
        "    centroid = centroid_data.mean()\n",
        "    \n",
        "    # Spectral peak frequency\n",
        "    peak_freq = spectrogram.max()\n",
        "    \n",
        "    # Spectral bandwidth\n",
        "    bandwidth = librosa.feature.spectral_bandwidth(S=spectrogram).mean()\n",
        "    \n",
        "    # Mean frequency\n",
        "    mean_freq = np.mean(centroid_data)\n",
        "    \n",
        "    # Minimum frequency\n",
        "    min_freq = np.min(centroid_data)\n",
        "    \n",
        "    # Maximum frequency\n",
        "    max_freq = np.max(centroid_data)\n",
        "    \n",
        "    return flatness, centroid, peak_freq, bandwidth, mean_freq, min_freq, max_freq\n"
      ]
    },
    {
      "cell_type": "code",
      "execution_count": 25,
      "id": "ff5e87ae",
      "metadata": {
        "id": "ff5e87ae",
        "outputId": "214325cb-361c-4077-db66-2e9c46571817",
        "colab": {
          "base_uri": "https://localhost:8080/"
        }
      },
      "outputs": [
        {
          "output_type": "stream",
          "name": "stdout",
          "text": [
            "Spectral Flatness: 0.0023664844\n",
            "Spectral Centroid: 2639.106878980175\n",
            "Spectral Peak Frequency: 116.83646\n",
            "Spectral Bandwidth: 2084.0336184206276\n",
            "Mean Frequency: 2639.106878980175\n",
            "Minimum Frequency: 1617.0613328601214\n",
            "Maximum Frequency: 3885.0565294740177\n"
          ]
        }
      ],
      "source": [
        "flatness, centroid, peak_freq, bandwidth, mean_freq, min_freq, max_freq = compute_spectral_features(audio_path)\n",
        "\n",
        "print(\"Spectral Flatness:\", flatness)\n",
        "print(\"Spectral Centroid:\", centroid)\n",
        "print(\"Spectral Peak Frequency:\", peak_freq)\n",
        "print(\"Spectral Bandwidth:\", bandwidth)\n",
        "print(\"Mean Frequency:\", mean_freq)\n",
        "print(\"Minimum Frequency:\", min_freq)\n",
        "print(\"Maximum Frequency:\", max_freq)"
      ]
    },
    {
      "cell_type": "code",
      "execution_count": 26,
      "id": "49c17f8f",
      "metadata": {
        "id": "49c17f8f"
      },
      "outputs": [],
      "source": [
        "def compute_dominant_frequencies(audio_file):\n",
        "    audio_data, sample_rate = librosa.load(audio_file)\n",
        "    \n",
        "    # Compute the spectrogram\n",
        "    spectrogram = np.abs(librosa.stft(audio_data))\n",
        "    \n",
        "    # Compute the dominant frequencies\n",
        "    frequencies = librosa.fft_frequencies(sr=sample_rate, n_fft=spectrogram.shape[0])\n",
        "    magnitudes = np.abs(spectrogram)\n",
        "    dominant_frequencies = frequencies[np.argmax(magnitudes, axis=0)]\n",
        "    \n",
        "    # Compute statistics of the dominant frequencies\n",
        "    mean_frequency = np.mean(dominant_frequencies)\n",
        "    min_frequency = np.min(dominant_frequencies)\n",
        "    max_frequency = np.max(dominant_frequencies)\n",
        "    \n",
        "    return mean_frequency, min_frequency, max_frequency\n"
      ]
    },
    {
      "cell_type": "code",
      "execution_count": 27,
      "id": "725fd720",
      "metadata": {
        "id": "725fd720",
        "outputId": "ddaff454-4dba-42e9-f334-fcc2d5042868",
        "colab": {
          "base_uri": "https://localhost:8080/"
        }
      },
      "outputs": [
        {
          "output_type": "stream",
          "name": "stdout",
          "text": [
            "Mean Dominant Frequency: 1577.0630081300812\n",
            "Minimum Dominant Frequency: 193.60975609756096\n",
            "Maximum Dominant Frequency: 8776.975609756097\n"
          ]
        }
      ],
      "source": [
        "# Example usage\n",
        "\n",
        "mean_freq, min_freq, max_freq = compute_dominant_frequencies(audio_path)\n",
        "\n",
        "# Print the computed values\n",
        "print(\"Mean Dominant Frequency:\", mean_freq)\n",
        "print(\"Minimum Dominant Frequency:\", min_freq)\n",
        "print(\"Maximum Dominant Frequency:\", max_freq)"
      ]
    },
    {
      "cell_type": "code",
      "execution_count": 28,
      "id": "37a4b766",
      "metadata": {
        "id": "37a4b766"
      },
      "outputs": [],
      "source": [
        "def compute_modulation_index(audio_file):\n",
        "    audio_data, sample_rate = librosa.load(audio_file)\n",
        "    \n",
        "    # Compute the spectrogram\n",
        "    spectrogram = np.abs(librosa.stft(audio_data))\n",
        "    \n",
        "    # Compute the magnitude modulation spectrum\n",
        "    magnitude_spectrum = np.abs(spectrogram)\n",
        "    modulation_spectrum = np.diff(magnitude_spectrum, axis=1)\n",
        "    \n",
        "    # Compute the modulation index\n",
        "    modulation_index = np.mean(modulation_spectrum) / np.mean(magnitude_spectrum[:, :-1])\n",
        "    \n",
        "    return modulation_index"
      ]
    },
    {
      "cell_type": "code",
      "execution_count": 29,
      "id": "84208be7",
      "metadata": {
        "id": "84208be7",
        "outputId": "bbfaea32-86a8-4c0c-8828-829c13e95752",
        "colab": {
          "base_uri": "https://localhost:8080/"
        }
      },
      "outputs": [
        {
          "output_type": "stream",
          "name": "stdout",
          "text": [
            "Modulation Index: 0.0045333235\n"
          ]
        }
      ],
      "source": [
        "modulation_index = compute_modulation_index(audio_path)\n",
        "\n",
        "# Print the computed modulation index\n",
        "print(\"Modulation Index:\", modulation_index)"
      ]
    },
    {
      "cell_type": "code",
      "execution_count": null,
      "id": "561fb77f",
      "metadata": {
        "id": "561fb77f"
      },
      "outputs": [],
      "source": [
        "#Now over to modeling the gender"
      ]
    }
  ],
  "metadata": {
    "kernelspec": {
      "display_name": "Python 3",
      "language": "python",
      "name": "python3"
    },
    "language_info": {
      "codemirror_mode": {
        "name": "ipython",
        "version": 3
      },
      "file_extension": ".py",
      "mimetype": "text/x-python",
      "name": "python",
      "nbconvert_exporter": "python",
      "pygments_lexer": "ipython3",
      "version": "3.9.5"
    },
    "colab": {
      "provenance": [],
      "include_colab_link": true
    }
  },
  "nbformat": 4,
  "nbformat_minor": 5
}