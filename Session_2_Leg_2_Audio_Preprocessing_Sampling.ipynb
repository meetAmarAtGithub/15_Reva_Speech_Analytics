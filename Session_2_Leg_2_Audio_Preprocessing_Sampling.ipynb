{
  "cells": [
    {
      "cell_type": "markdown",
      "metadata": {
        "id": "view-in-github",
        "colab_type": "text"
      },
      "source": [
        "<a href=\"https://colab.research.google.com/github/meetAmarAtGithub/15_Reva_Speech_Analytics/blob/main/Session_2_Leg_2_Audio_Preprocessing_Sampling.ipynb\" target=\"_parent\"><img src=\"https://colab.research.google.com/assets/colab-badge.svg\" alt=\"Open In Colab\"/></a>"
      ]
    },
    {
      "cell_type": "markdown",
      "id": "31891ba9",
      "metadata": {
        "id": "31891ba9"
      },
      "source": [
        "# **Audio sampling techniques for analysis**"
      ]
    },
    {
      "cell_type": "markdown",
      "id": "91981c3c",
      "metadata": {
        "id": "91981c3c"
      },
      "source": [
        "Audio resampling, also known as sample rate conversion or resampling, is the process of changing the sample rate of an audio signal. The sample rate refers to the number of samples taken per second to represent the audio waveform digitally.\n",
        "\n",
        "Resampling is performed to alter the duration or playback speed of an audio signal or to match the sample rates of different audio sources. It involves modifying the sequence of audio samples to either increase or decrease the number of samples per second.\n",
        "\n",
        "When upsampling (increasing the sample rate), new samples need to be generated to fill in the gaps between existing samples. This requires interpolation techniques to estimate the new sample values based on the original samples. Conversely, when downsampling (decreasing the sample rate), the process involves discarding some of the original samples to reduce the overall data rate. Filtering is often applied to remove frequencies beyond the new Nyquist limit (half the new sample rate) to avoid aliasing.\n",
        "\n",
        "Resampling algorithms can vary in complexity and performance. Common interpolation methods include nearest-neighbor, linear interpolation, spline interpolation, sinc interpolation, and polyphase filtering. The choice of resampling algorithm depends on factors such as the desired quality, computational efficiency, and specific requirements of the application.\n",
        "\n",
        "Audio resampling is widely used in various audio-related applications, including music production, audio editing, multimedia playback, telecommunication systems, digital signal processing, and audio analysis. It allows for time scaling, synchronization, matching sample rates, compatibility, and various other operations that require manipulating the temporal characteristics of audio signals."
      ]
    },
    {
      "cell_type": "markdown",
      "id": "746a68e8",
      "metadata": {
        "id": "746a68e8"
      },
      "source": [
        "**Why audio resampling**"
      ]
    },
    {
      "cell_type": "markdown",
      "id": "7db76485",
      "metadata": {
        "id": "7db76485"
      },
      "source": [
        "Resampling is often needed in audio analysis for several reasons.By employing resampling techniques, audio analysts can align, synchronize, manipulate, and process audio signals effectively, facilitating various tasks such as feature extraction, classification, transcription, audio effects, and many other applications in audio analysis.\n",
        "\n",
        "    Matching Sample Rates: Audio signals may have different sample rates, and resampling allows us to bring them to a common sample rate. This is crucial when working with audio data from various sources or when combining audio signals for analysis or processing.\n",
        "\n",
        "    Time Alignment: Resampling allows for precise time alignment of audio signals. By resampling signals to the same sample rate, we can accurately synchronize and compare different audio segments or perform time-dependent analysis across multiple signals.\n",
        "\n",
        "    Time Scaling: Resampling enables time scaling of audio signals. It allows us to speed up or slow down the playback speed of audio, which can be useful for tasks like time-stretching, tempo adjustment, audio effects, or synchronization with other media.\n",
        "\n",
        "    Filtering and Signal Processing: Resampling is often used in signal processing applications. It allows for efficient filtering operations by changing the sample rate and effectively adjusting the frequency response of the signal.\n",
        "\n",
        "    Downsampling and Upsampling: Resampling is commonly used to downsample or upsample audio signals. Downsampling reduces the sample rate, which can be useful for reducing computational requirements or focusing on specific frequency ranges. Upsampling increases the sample rate, which can enhance the quality or resolution of the signal.\n",
        "\n",
        "    Interpolation and Extrapolation: Resampling techniques, such as interpolation, are used to estimate the values between existing samples or to extrapolate beyond the available data points. This is useful for tasks like waveform reconstruction, generating synthetic audio, or  enhancing the resolution of the signal.\n",
        "\n",
        "    Compatibility and Integration: Resampling ensures compatibility between audio signals and systems that have different sample rate requirements. It allows for integration of audio data into different platforms, devices, or software that expect specific sample rates."
      ]
    },
    {
      "cell_type": "markdown",
      "id": "121faa1b",
      "metadata": {
        "id": "121faa1b"
      },
      "source": [
        "**Frequently used audio resampling techniques**"
      ]
    },
    {
      "cell_type": "markdown",
      "id": "2247f74b",
      "metadata": {
        "id": "2247f74b"
      },
      "source": [
        "The following ten frequently used audio resampling techniques:\n",
        "\n",
        "     Nearest Neighbor Resampling: The new samples are selected by picking the nearest existing sample in the original signal.\n",
        "\n",
        "    Linear Interpolation Resampling: New samples are generated by linearly interpolating between neighboring existing samples.\n",
        "\n",
        "    Sinc Interpolation Resampling: Sinc interpolation uses a sinc function to interpolate new samples based on the existing samples.\n",
        "\n",
        "    Polyphase Filtering Resampling: Resampling is achieved through multistage filtering using polyphase filters.\n",
        "\n",
        "    FFT-based Resampling: Fast Fourier Transform (FFT) is used to perform resampling in the frequency domain.\n",
        "\n",
        "    Kaiser Window Resampling: Resampling is performed by applying a Kaiser window function to the original samples.\n",
        "\n",
        "    Lagrange Polynomial Interpolation Resampling: Lagrange polynomials are used to interpolate new samples based on the original samples.\n",
        "\n",
        "    Cubic Convolution Resampling: Resampling is achieved using a cubic convolution function to interpolate new samples.\n",
        "\n",
        "    All-Pass Interpolation Resampling: All-pass filters are used to modify the phase of the original samples during resampling.\n",
        "\n",
        "    Direct-form Filter Resampling: Resampling is performed using direct-form digital filters, such as FIR or IIR filters."
      ]
    },
    {
      "cell_type": "code",
      "execution_count": null,
      "id": "6c3d793c",
      "metadata": {
        "id": "6c3d793c"
      },
      "outputs": [],
      "source": [
        "#Sample implementation"
      ]
    },
    {
      "cell_type": "code",
      "execution_count": null,
      "id": "7d265d3d",
      "metadata": {
        "id": "7d265d3d"
      },
      "outputs": [],
      "source": [
        "import librosa\n",
        "import numpy as np\n",
        "from scipy.interpolate import interp1d"
      ]
    },
    {
      "cell_type": "code",
      "execution_count": null,
      "id": "d755457d",
      "metadata": {
        "id": "d755457d"
      },
      "outputs": [],
      "source": [
        "# Specify the path to the audio file\n",
        "audio_path = \"D:\\\\RACE\\\\Speech Analytics\\\\Session 1\\\\Data\\\\session1_violin-origional.wav\"\n",
        "\n",
        "# Load the audio file\n",
        "audio, sr = librosa.load(audio_path)"
      ]
    },
    {
      "cell_type": "code",
      "execution_count": null,
      "id": "5f5f13ae",
      "metadata": {
        "id": "5f5f13ae",
        "outputId": "71896f72-60dd-48fc-d809-444d52d9f7cd"
      },
      "outputs": [
        {
          "data": {
            "text/plain": [
              "110250"
            ]
          },
          "execution_count": 15,
          "metadata": {},
          "output_type": "execute_result"
        }
      ],
      "source": [
        "len(audio)"
      ]
    },
    {
      "cell_type": "code",
      "execution_count": null,
      "id": "38d483e3",
      "metadata": {
        "id": "38d483e3",
        "outputId": "b95d8a57-bc4d-4282-a557-253928d9483a"
      },
      "outputs": [
        {
          "data": {
            "text/plain": [
              "22050"
            ]
          },
          "execution_count": 16,
          "metadata": {},
          "output_type": "execute_result"
        }
      ],
      "source": [
        "sr"
      ]
    },
    {
      "cell_type": "markdown",
      "id": "9b4b5fcc",
      "metadata": {
        "id": "9b4b5fcc"
      },
      "source": [
        "**Nearest neighbour resampling**"
      ]
    },
    {
      "cell_type": "markdown",
      "id": "5ecf1d81",
      "metadata": {
        "id": "5ecf1d81"
      },
      "source": [
        "Nearest Neighbor Resampling is a simple resampling technique that selects the nearest existing sample in the original audio signal to determine the resampled value. It is based on the assumption that the nearest sample provides a reasonable approximation of the original audio waveform.\n",
        "\n",
        "Mathematically, the Nearest Neighbor Resampling can be defined as follows:\n",
        "\n",
        "        Let x[n] be the original audio signal with a sample rate of Fs and y[m] be the resampled signal with a higher sample rate Fs'.\n",
        "        The resampling ratio is given by Fs' / Fs.\n",
        "        To compute y[m], where m is the resampled index and n is the original index:\n"
      ]
    },
    {
      "cell_type": "code",
      "execution_count": null,
      "id": "e87ab1b8",
      "metadata": {
        "id": "e87ab1b8"
      },
      "outputs": [],
      "source": [
        "def nearest_neighbor_resample(audio, target_length):\n",
        "    original_length = len(audio)\n",
        "    x = np.arange(original_length)\n",
        "    f = interp1d(x, audio, kind='nearest')\n",
        "    resampled_audio = f(np.linspace(0, original_length - 1, target_length))\n",
        "    return resampled_audio"
      ]
    },
    {
      "cell_type": "code",
      "execution_count": null,
      "id": "2d862d63",
      "metadata": {
        "id": "2d862d63",
        "outputId": "590d4464-f77e-4b1e-a74f-16c3d72849ac"
      },
      "outputs": [
        {
          "name": "stdout",
          "output_type": "stream",
          "text": [
            "110250 17640\n"
          ]
        }
      ],
      "source": [
        "target_sr = int(0.8* sr)\n",
        "nnrs = nearest_neighbor_resample(audio, target_sr)\n",
        "print(len(audio), len(nnrs))"
      ]
    },
    {
      "cell_type": "markdown",
      "id": "df32df0d",
      "metadata": {
        "id": "df32df0d"
      },
      "source": [
        "**Linear interpolation**"
      ]
    },
    {
      "cell_type": "markdown",
      "id": "deb6dd64",
      "metadata": {
        "id": "deb6dd64"
      },
      "source": [
        "Linear Interpolation Resampling is a technique used to estimate new sample values by interpolating between neighboring existing samples in the original audio signal. It provides a smoother resampled waveform compared to nearest neighbor resampling.\n",
        "\n",
        "Mathematically, Linear Interpolation Resampling can be defined as follows:\n",
        "\n",
        "        Let x[n] be the original audio signal with a sample rate of Fs and y[m] be the resampled signal with a higher sample rate Fs'.\n",
        "        The resampling ratio is given by Fs' / Fs.\n",
        "        To compute y[m], where m is the resampled index and n is the original index:\n",
        "        m = round(n * (Fs' / Fs))\n",
        "        y[m] = (1 - fractional_part) * x[floor(n)] + fractional_part * x[ceil(n)]"
      ]
    },
    {
      "cell_type": "code",
      "execution_count": null,
      "id": "b9672e4b",
      "metadata": {
        "id": "b9672e4b"
      },
      "outputs": [],
      "source": [
        "def linear_interpolation_resample(audio, target_length):\n",
        "    original_length = len(audio)\n",
        "    x = np.linspace(0, original_length - 1, original_length)\n",
        "    f = interp1d(x, audio, kind='linear')\n",
        "    resampled_audio = f(np.linspace(0, original_length - 1, target_length))\n",
        "    return resampled_audio"
      ]
    },
    {
      "cell_type": "code",
      "execution_count": null,
      "id": "441d1700",
      "metadata": {
        "id": "441d1700",
        "outputId": "5fd8c347-2e79-4b45-d192-185112e8447b"
      },
      "outputs": [
        {
          "name": "stdout",
          "output_type": "stream",
          "text": [
            "110250 17640\n"
          ]
        }
      ],
      "source": [
        "lirs = linear_interpolation_resample(audio, target_sr)\n",
        "print(len(audio), len(lirs))"
      ]
    },
    {
      "cell_type": "markdown",
      "id": "ac88e884",
      "metadata": {
        "id": "ac88e884"
      },
      "source": [
        "**Polyphase resampling**"
      ]
    },
    {
      "cell_type": "markdown",
      "id": "21969b91",
      "metadata": {
        "id": "21969b91"
      },
      "source": [
        "Polyphase resampling is a technique used to efficiently perform sample rate conversion or resampling by dividing the process into multiple stages using polyphase filters. It helps reduce the computational complexity and allows for more flexible resampling ratios.\n",
        "\n",
        "Polyphase resampling involves the following steps:\n",
        "\n",
        "    Filter Design:\n",
        "        Design a low-pass filter with a cutoff frequency corresponding to half the desired new sample rate.\n",
        "        Divide the filter coefficients into multiple sets or phases, each representing a different filter tap group.\n",
        "\n",
        "    Decimation:\n",
        "        Apply downsampling to the original audio signal to reduce its sample rate.\n",
        "        The downsampling factor determines the ratio of the original sample rate to the desired new sample rate.\n",
        "\n",
        "    Polyphase Decomposition:\n",
        "        Decompose the low-pass filter into multiple polyphase filter matrices, where each matrix contains the filter coefficients for a specific phase.\n",
        "        Each polyphase matrix represents a different filter tap group.\n",
        "\n",
        "    Filtering:\n",
        "        Apply the polyphase filters to the downsampled audio signal by multiplying the filter coefficients with the corresponding samples.\n",
        "        This filtering operation is performed for each phase or filter tap group separately.\n",
        "\n",
        "    Interpolation:\n",
        "        Apply upsampling to the filtered signal by inserting zeros between the samples to increase the sample rate.\n",
        "        The upsampling factor determines the ratio of the desired new sample rate to the downsampled sample rate.\n",
        "\n",
        "    Polyphase Reconstruction:\n",
        "        Reconstruct the resampled audio signal by combining the interpolated samples from each phase or filter tap group.\n",
        "        This reconstruction step involves summing the filtered and interpolated samples from each phase.\n",
        "\n",
        "Polyphase resampling provides a more efficient approach to resampling by utilizing the polyphase filters. It reduces the computational complexity compared to direct resampling techniques and allows for flexible resampling ratios. By dividing the resampling process into multiple stages and utilizing polyphase filter matrices, polyphase resampling achieves accurate sample rate conversion while maintaining computational efficiency, making it well-suited for real-time audio processing and other time-critical applications."
      ]
    },
    {
      "cell_type": "code",
      "execution_count": null,
      "id": "e04d3c5c",
      "metadata": {
        "id": "e04d3c5c"
      },
      "outputs": [],
      "source": [
        "from scipy.signal import resample_poly\n",
        "\n",
        "def polyphase_resample(audio, target_length, up_factor, down_factor):\n",
        "    resampled_audio = resample_poly(audio, up_factor, down_factor, axis=0)\n",
        "    return resampled_audio[:target_length]"
      ]
    },
    {
      "cell_type": "code",
      "execution_count": null,
      "id": "fbc8f842",
      "metadata": {
        "id": "fbc8f842",
        "outputId": "9e81d2b9-3009-4681-a92f-6c675e7a6d91"
      },
      "outputs": [
        {
          "name": "stdout",
          "output_type": "stream",
          "text": [
            "110250 17640\n"
          ]
        }
      ],
      "source": [
        "pprs = polyphase_resample(audio, target_sr, 5000, 3000)\n",
        "print(len(audio), len(pprs))"
      ]
    },
    {
      "cell_type": "markdown",
      "id": "28ee412a",
      "metadata": {
        "id": "28ee412a"
      },
      "source": [
        "**Fast Fourier Transforms (FFT) based resampling**"
      ]
    },
    {
      "cell_type": "markdown",
      "id": "0563c2db",
      "metadata": {
        "id": "0563c2db"
      },
      "source": [
        "FFT (Fast Fourier Transform) resampling is a technique used in audio analysis to resample audio signals by manipulating their frequency content. It involves transforming the audio signal from the time domain to the frequency domain using the Fourier Transform, manipulating the frequency domain representation, and then applying the inverse Fourier Transform to obtain the resampled audio signal in the time domain.\n",
        "\n",
        "Mathematical Formulation:\n",
        "\n",
        "    Given an audio signal x[n] of length N, where n represents the discrete time index ranging from 0 to N-1.\n",
        "    Compute the discrete Fourier transform (DFT) of x[n] using the FFT algorithm to obtain the frequency domain representation X[k], where k represents the discrete frequency index ranging from 0 to N-1.\n",
        "        X[k] = ∑[n=0 to N-1] (x[n] * exp(-j2πkn/N))\n",
        "    Manipulate the frequency domain representation X[k] by modifying the amplitudes or phases of the spectral components as desired.\n",
        "        This can involve adjusting the magnitudes, shifting the frequencies, or applying any other frequency domain processing.\n",
        "    Apply the inverse discrete Fourier transform (IDFT) to the manipulated frequency domain representation to obtain the resampled audio signal y[n].\n",
        "        y[n] = (1/N) * ∑[k=0 to N-1] (X[k] * exp(j2πkn/N))\n",
        "\n",
        "Note that during FFT resampling, the length of the resampled audio signal may differ from the original audio signal length N, depending on the desired resampling ratio. The resampling ratio determines the scaling factor applied to the frequency domain representation.\n",
        "\n",
        "The FFT resampling technique allows for efficient frequency domain manipulation of audio signals and can be used to change the sample rate, adjust the pitch, or perform other frequency-based modifications. It is commonly employed in various audio analysis and processing tasks."
      ]
    },
    {
      "cell_type": "code",
      "execution_count": null,
      "id": "8e0a382b",
      "metadata": {
        "id": "8e0a382b"
      },
      "outputs": [],
      "source": [
        "from scipy.fft import fft, ifft\n",
        "\n",
        "def fft_resample(audio, target_length):\n",
        "    audio_fft = fft(audio)\n",
        "    resampled_audio = np.real(ifft(audio_fft[:target_length]))\n",
        "    return resampled_audio"
      ]
    },
    {
      "cell_type": "code",
      "execution_count": null,
      "id": "20e5b6ac",
      "metadata": {
        "id": "20e5b6ac",
        "outputId": "91e8fcb2-1e32-48a0-8db7-1df813ae9b3b"
      },
      "outputs": [
        {
          "name": "stdout",
          "output_type": "stream",
          "text": [
            "[-0.0824108   0.00693217  0.01062605 ...  0.32677647  0.15200552\n",
            " -0.06411109]\n",
            "110250 17640\n"
          ]
        }
      ],
      "source": [
        "fftrs = fft_resample(audio, target_sr)\n",
        "print(fftrs)\n",
        "print(len(audio), len(fftrs))"
      ]
    },
    {
      "cell_type": "markdown",
      "id": "821db237",
      "metadata": {
        "id": "821db237"
      },
      "source": [
        "**Sinc interpolation resampling**"
      ]
    },
    {
      "cell_type": "markdown",
      "id": "1d74da61",
      "metadata": {
        "id": "1d74da61"
      },
      "source": [
        "Sinc interpolation is a high-quality method for resampling audio signals. It uses the sinc function as an interpolation kernel to estimate new sample values between the existing samples in the original signal.\n",
        "\n",
        "Mathematically, sinc interpolation can be defined as follows:\n",
        "\n",
        "    Upsampling:\n",
        "        Let x[n] be the original audio signal with a sample rate of Fs and y[m] be the resampled signal with a higher sample rate Fs'.\n",
        "        The resampling ratio is given by Fs' / Fs.\n",
        "        To compute y[m], where m is the resampled index and n is the original index:\n",
        "\n",
        "        scss\n",
        "\n",
        "m = round(n * (Fs' / Fs))\n",
        "y[m] = Σ(x[k] * sinc((m - k) * (Fs / Fs')))\n",
        "\n",
        "where sinc(x) is defined as sin(pi * x) / (pi * x), and the summation is performed over the range k that covers neighboring samples around m."
      ]
    },
    {
      "cell_type": "code",
      "execution_count": null,
      "id": "29ed3beb",
      "metadata": {
        "id": "29ed3beb"
      },
      "outputs": [],
      "source": [
        "from scipy.signal import resample\n",
        "\n",
        "def sinc_interpolation_resample(audio, target_length):\n",
        "    resampled_audio = resample(audio, target_length, window='hann', axis=0)\n",
        "    return resampled_audio"
      ]
    },
    {
      "cell_type": "code",
      "execution_count": null,
      "id": "84cab5c8",
      "metadata": {
        "id": "84cab5c8",
        "outputId": "c9cd7a9e-546a-4309-bc4c-89e0c192fdd7"
      },
      "outputs": [
        {
          "name": "stdout",
          "output_type": "stream",
          "text": [
            "[-0.05330481  0.01649052 -0.01066211 ...  0.10165904  0.04839436\n",
            " -0.03741269]\n",
            "110250 17640\n"
          ]
        }
      ],
      "source": [
        "sirc = sinc_interpolation_resample(audio, target_sr)\n",
        "print(sirc)\n",
        "print(len(audio), len(sirc))"
      ]
    },
    {
      "cell_type": "markdown",
      "id": "deeffd48",
      "metadata": {
        "id": "deeffd48"
      },
      "source": [
        "**Lagrange interpolation**"
      ]
    },
    {
      "cell_type": "markdown",
      "id": "a3bc63e1",
      "metadata": {
        "id": "a3bc63e1"
      },
      "source": [
        "Lagrange interpolation is a method used for signal resampling that involves fitting a polynomial through a set of known data points to estimate new sample values. It is commonly used in various fields, including audio analysis and processing.\n",
        "\n",
        "Mathematically, Lagrange interpolation can be defined as follows:\n",
        "\n",
        "    Upsampling:\n",
        "        Let x[n] be the original audio signal with a sample rate of Fs and y[m] be the resampled signal with a higher sample rate Fs'.\n",
        "        The resampling ratio is given by Fs' / Fs.\n",
        "        To compute y[m], where m is the resampled index and n is the original index:\n",
        "\n",
        "        m = round(n * (Fs' / Fs))\n",
        "        y[m] = Σ(x[k] * L(m, k))\n",
        "\n",
        "        where L(m, k) is the Lagrange interpolation polynomial defined as:\n",
        "\n",
        "\n",
        "        L(m, k) = Π((m - j) / (k - j)) for j ≠ k, j = 0, 1, ..., N\n",
        "\n",
        "           where N is the number of neighboring samples used in the interpolation.\n",
        "\n",
        "Lagrange interpolation is a straightforward method for signal resampling and can provide reasonable results. However, it has some limitations, including the sensitivity to the distribution of data points and the potential introduction of artifacts when there are rapid changes in the signal. Other interpolation methods like spline interpolation or sinc interpolation are often preferred for higher accuracy and better performance in audio resampling applications."
      ]
    },
    {
      "cell_type": "code",
      "execution_count": null,
      "id": "7e6723d7",
      "metadata": {
        "id": "7e6723d7"
      },
      "outputs": [],
      "source": [
        "from scipy.interpolate import lagrange\n",
        "\n",
        "def lagrange_interpolation_resample(audio, target_length):\n",
        "    original_length = len(audio)\n",
        "    x = np.arange(original_length)\n",
        "    f = lagrange(x, audio)\n",
        "    resampled_audio = f(np.linspace(0, original_length - 1, target_length))\n",
        "    return resampled_audio"
      ]
    },
    {
      "cell_type": "code",
      "execution_count": null,
      "id": "0a539ab9",
      "metadata": {
        "id": "0a539ab9",
        "outputId": "444d32bc-d915-4409-c579-1950f49f0802"
      },
      "outputs": [
        {
          "ename": "KeyboardInterrupt",
          "evalue": "",
          "output_type": "error",
          "traceback": [
            "\u001b[1;31m---------------------------------------------------------------------------\u001b[0m",
            "\u001b[1;31mKeyboardInterrupt\u001b[0m                         Traceback (most recent call last)",
            "\u001b[1;32m<ipython-input-47-8bee5c99c11b>\u001b[0m in \u001b[0;36m<module>\u001b[1;34m\u001b[0m\n\u001b[1;32m----> 1\u001b[1;33m \u001b[0mlgirs\u001b[0m \u001b[1;33m=\u001b[0m \u001b[0mlagrange_interpolation_resample\u001b[0m\u001b[1;33m(\u001b[0m\u001b[0maudio\u001b[0m\u001b[1;33m,\u001b[0m \u001b[0mtarget_sr\u001b[0m\u001b[1;33m)\u001b[0m\u001b[1;33m\u001b[0m\u001b[1;33m\u001b[0m\u001b[0m\n\u001b[0m\u001b[0;32m      2\u001b[0m \u001b[0mprint\u001b[0m\u001b[1;33m(\u001b[0m\u001b[0mlgirs\u001b[0m\u001b[1;33m)\u001b[0m\u001b[1;33m\u001b[0m\u001b[1;33m\u001b[0m\u001b[0m\n\u001b[0;32m      3\u001b[0m \u001b[0mprint\u001b[0m\u001b[1;33m(\u001b[0m\u001b[0mlen\u001b[0m\u001b[1;33m(\u001b[0m\u001b[0maudio\u001b[0m\u001b[1;33m)\u001b[0m\u001b[1;33m,\u001b[0m \u001b[0mlen\u001b[0m\u001b[1;33m(\u001b[0m\u001b[0mlgirs\u001b[0m\u001b[1;33m)\u001b[0m\u001b[1;33m)\u001b[0m\u001b[1;33m\u001b[0m\u001b[1;33m\u001b[0m\u001b[0m\n",
            "\u001b[1;32m<ipython-input-46-8711732674b3>\u001b[0m in \u001b[0;36mlagrange_interpolation_resample\u001b[1;34m(audio, target_length)\u001b[0m\n\u001b[0;32m      4\u001b[0m     \u001b[0moriginal_length\u001b[0m \u001b[1;33m=\u001b[0m \u001b[0mlen\u001b[0m\u001b[1;33m(\u001b[0m\u001b[0maudio\u001b[0m\u001b[1;33m)\u001b[0m\u001b[1;33m\u001b[0m\u001b[1;33m\u001b[0m\u001b[0m\n\u001b[0;32m      5\u001b[0m     \u001b[0mx\u001b[0m \u001b[1;33m=\u001b[0m \u001b[0mnp\u001b[0m\u001b[1;33m.\u001b[0m\u001b[0marange\u001b[0m\u001b[1;33m(\u001b[0m\u001b[0moriginal_length\u001b[0m\u001b[1;33m)\u001b[0m\u001b[1;33m\u001b[0m\u001b[1;33m\u001b[0m\u001b[0m\n\u001b[1;32m----> 6\u001b[1;33m     \u001b[0mf\u001b[0m \u001b[1;33m=\u001b[0m \u001b[0mlagrange\u001b[0m\u001b[1;33m(\u001b[0m\u001b[0mx\u001b[0m\u001b[1;33m,\u001b[0m \u001b[0maudio\u001b[0m\u001b[1;33m)\u001b[0m\u001b[1;33m\u001b[0m\u001b[1;33m\u001b[0m\u001b[0m\n\u001b[0m\u001b[0;32m      7\u001b[0m     \u001b[0mresampled_audio\u001b[0m \u001b[1;33m=\u001b[0m \u001b[0mf\u001b[0m\u001b[1;33m(\u001b[0m\u001b[0mnp\u001b[0m\u001b[1;33m.\u001b[0m\u001b[0mlinspace\u001b[0m\u001b[1;33m(\u001b[0m\u001b[1;36m0\u001b[0m\u001b[1;33m,\u001b[0m \u001b[0moriginal_length\u001b[0m \u001b[1;33m-\u001b[0m \u001b[1;36m1\u001b[0m\u001b[1;33m,\u001b[0m \u001b[0mtarget_length\u001b[0m\u001b[1;33m)\u001b[0m\u001b[1;33m)\u001b[0m\u001b[1;33m\u001b[0m\u001b[1;33m\u001b[0m\u001b[0m\n\u001b[0;32m      8\u001b[0m     \u001b[1;32mreturn\u001b[0m \u001b[0mresampled_audio\u001b[0m\u001b[1;33m\u001b[0m\u001b[1;33m\u001b[0m\u001b[0m\n",
            "\u001b[1;32mE:\\Warchest\\WP-Old\\python-3.9.5.amd64\\lib\\site-packages\\scipy\\interpolate\\interpolate.py\u001b[0m in \u001b[0;36mlagrange\u001b[1;34m(x, w)\u001b[0m\n\u001b[0;32m     78\u001b[0m                 \u001b[1;32mcontinue\u001b[0m\u001b[1;33m\u001b[0m\u001b[1;33m\u001b[0m\u001b[0m\n\u001b[0;32m     79\u001b[0m             \u001b[0mfac\u001b[0m \u001b[1;33m=\u001b[0m \u001b[0mx\u001b[0m\u001b[1;33m[\u001b[0m\u001b[0mj\u001b[0m\u001b[1;33m]\u001b[0m\u001b[1;33m-\u001b[0m\u001b[0mx\u001b[0m\u001b[1;33m[\u001b[0m\u001b[0mk\u001b[0m\u001b[1;33m]\u001b[0m\u001b[1;33m\u001b[0m\u001b[1;33m\u001b[0m\u001b[0m\n\u001b[1;32m---> 80\u001b[1;33m             \u001b[0mpt\u001b[0m \u001b[1;33m*=\u001b[0m \u001b[0mpoly1d\u001b[0m\u001b[1;33m(\u001b[0m\u001b[1;33m[\u001b[0m\u001b[1;36m1.0\u001b[0m\u001b[1;33m,\u001b[0m \u001b[1;33m-\u001b[0m\u001b[0mx\u001b[0m\u001b[1;33m[\u001b[0m\u001b[0mk\u001b[0m\u001b[1;33m]\u001b[0m\u001b[1;33m]\u001b[0m\u001b[1;33m)\u001b[0m\u001b[1;33m/\u001b[0m\u001b[0mfac\u001b[0m\u001b[1;33m\u001b[0m\u001b[1;33m\u001b[0m\u001b[0m\n\u001b[0m\u001b[0;32m     81\u001b[0m         \u001b[0mp\u001b[0m \u001b[1;33m+=\u001b[0m \u001b[0mpt\u001b[0m\u001b[1;33m\u001b[0m\u001b[1;33m\u001b[0m\u001b[0m\n\u001b[0;32m     82\u001b[0m     \u001b[1;32mreturn\u001b[0m \u001b[0mp\u001b[0m\u001b[1;33m\u001b[0m\u001b[1;33m\u001b[0m\u001b[0m\n",
            "\u001b[1;32mE:\\Warchest\\WP-Old\\python-3.9.5.amd64\\lib\\site-packages\\numpy\\lib\\polynomial.py\u001b[0m in \u001b[0;36m__mul__\u001b[1;34m(self, other)\u001b[0m\n\u001b[0;32m   1328\u001b[0m         \u001b[1;32melse\u001b[0m\u001b[1;33m:\u001b[0m\u001b[1;33m\u001b[0m\u001b[1;33m\u001b[0m\u001b[0m\n\u001b[0;32m   1329\u001b[0m             \u001b[0mother\u001b[0m \u001b[1;33m=\u001b[0m \u001b[0mpoly1d\u001b[0m\u001b[1;33m(\u001b[0m\u001b[0mother\u001b[0m\u001b[1;33m)\u001b[0m\u001b[1;33m\u001b[0m\u001b[1;33m\u001b[0m\u001b[0m\n\u001b[1;32m-> 1330\u001b[1;33m             \u001b[1;32mreturn\u001b[0m \u001b[0mpoly1d\u001b[0m\u001b[1;33m(\u001b[0m\u001b[0mpolymul\u001b[0m\u001b[1;33m(\u001b[0m\u001b[0mself\u001b[0m\u001b[1;33m.\u001b[0m\u001b[0mcoeffs\u001b[0m\u001b[1;33m,\u001b[0m \u001b[0mother\u001b[0m\u001b[1;33m.\u001b[0m\u001b[0mcoeffs\u001b[0m\u001b[1;33m)\u001b[0m\u001b[1;33m)\u001b[0m\u001b[1;33m\u001b[0m\u001b[1;33m\u001b[0m\u001b[0m\n\u001b[0m\u001b[0;32m   1331\u001b[0m \u001b[1;33m\u001b[0m\u001b[0m\n\u001b[0;32m   1332\u001b[0m     \u001b[1;32mdef\u001b[0m \u001b[0m__rmul__\u001b[0m\u001b[1;33m(\u001b[0m\u001b[0mself\u001b[0m\u001b[1;33m,\u001b[0m \u001b[0mother\u001b[0m\u001b[1;33m)\u001b[0m\u001b[1;33m:\u001b[0m\u001b[1;33m\u001b[0m\u001b[1;33m\u001b[0m\u001b[0m\n",
            "\u001b[1;32m<__array_function__ internals>\u001b[0m in \u001b[0;36mpolymul\u001b[1;34m(*args, **kwargs)\u001b[0m\n",
            "\u001b[1;32mE:\\Warchest\\WP-Old\\python-3.9.5.amd64\\lib\\site-packages\\numpy\\lib\\polynomial.py\u001b[0m in \u001b[0;36mpolymul\u001b[1;34m(a1, a2)\u001b[0m\n\u001b[0;32m    956\u001b[0m     \u001b[0mtruepoly\u001b[0m \u001b[1;33m=\u001b[0m \u001b[1;33m(\u001b[0m\u001b[0misinstance\u001b[0m\u001b[1;33m(\u001b[0m\u001b[0ma1\u001b[0m\u001b[1;33m,\u001b[0m \u001b[0mpoly1d\u001b[0m\u001b[1;33m)\u001b[0m \u001b[1;32mor\u001b[0m \u001b[0misinstance\u001b[0m\u001b[1;33m(\u001b[0m\u001b[0ma2\u001b[0m\u001b[1;33m,\u001b[0m \u001b[0mpoly1d\u001b[0m\u001b[1;33m)\u001b[0m\u001b[1;33m)\u001b[0m\u001b[1;33m\u001b[0m\u001b[1;33m\u001b[0m\u001b[0m\n\u001b[0;32m    957\u001b[0m     \u001b[0ma1\u001b[0m\u001b[1;33m,\u001b[0m \u001b[0ma2\u001b[0m \u001b[1;33m=\u001b[0m \u001b[0mpoly1d\u001b[0m\u001b[1;33m(\u001b[0m\u001b[0ma1\u001b[0m\u001b[1;33m)\u001b[0m\u001b[1;33m,\u001b[0m \u001b[0mpoly1d\u001b[0m\u001b[1;33m(\u001b[0m\u001b[0ma2\u001b[0m\u001b[1;33m)\u001b[0m\u001b[1;33m\u001b[0m\u001b[1;33m\u001b[0m\u001b[0m\n\u001b[1;32m--> 958\u001b[1;33m     \u001b[0mval\u001b[0m \u001b[1;33m=\u001b[0m \u001b[0mNX\u001b[0m\u001b[1;33m.\u001b[0m\u001b[0mconvolve\u001b[0m\u001b[1;33m(\u001b[0m\u001b[0ma1\u001b[0m\u001b[1;33m,\u001b[0m \u001b[0ma2\u001b[0m\u001b[1;33m)\u001b[0m\u001b[1;33m\u001b[0m\u001b[1;33m\u001b[0m\u001b[0m\n\u001b[0m\u001b[0;32m    959\u001b[0m     \u001b[1;32mif\u001b[0m \u001b[0mtruepoly\u001b[0m\u001b[1;33m:\u001b[0m\u001b[1;33m\u001b[0m\u001b[1;33m\u001b[0m\u001b[0m\n\u001b[0;32m    960\u001b[0m         \u001b[0mval\u001b[0m \u001b[1;33m=\u001b[0m \u001b[0mpoly1d\u001b[0m\u001b[1;33m(\u001b[0m\u001b[0mval\u001b[0m\u001b[1;33m)\u001b[0m\u001b[1;33m\u001b[0m\u001b[1;33m\u001b[0m\u001b[0m\n",
            "\u001b[1;32m<__array_function__ internals>\u001b[0m in \u001b[0;36mconvolve\u001b[1;34m(*args, **kwargs)\u001b[0m\n",
            "\u001b[1;32mE:\\Warchest\\WP-Old\\python-3.9.5.amd64\\lib\\site-packages\\numpy\\core\\numeric.py\u001b[0m in \u001b[0;36mconvolve\u001b[1;34m(a, v, mode)\u001b[0m\n\u001b[0;32m    842\u001b[0m     \u001b[1;32mif\u001b[0m \u001b[0mlen\u001b[0m\u001b[1;33m(\u001b[0m\u001b[0mv\u001b[0m\u001b[1;33m)\u001b[0m \u001b[1;33m==\u001b[0m \u001b[1;36m0\u001b[0m\u001b[1;33m:\u001b[0m\u001b[1;33m\u001b[0m\u001b[1;33m\u001b[0m\u001b[0m\n\u001b[0;32m    843\u001b[0m         \u001b[1;32mraise\u001b[0m \u001b[0mValueError\u001b[0m\u001b[1;33m(\u001b[0m\u001b[1;34m'v cannot be empty'\u001b[0m\u001b[1;33m)\u001b[0m\u001b[1;33m\u001b[0m\u001b[1;33m\u001b[0m\u001b[0m\n\u001b[1;32m--> 844\u001b[1;33m     \u001b[1;32mreturn\u001b[0m \u001b[0mmultiarray\u001b[0m\u001b[1;33m.\u001b[0m\u001b[0mcorrelate\u001b[0m\u001b[1;33m(\u001b[0m\u001b[0ma\u001b[0m\u001b[1;33m,\u001b[0m \u001b[0mv\u001b[0m\u001b[1;33m[\u001b[0m\u001b[1;33m:\u001b[0m\u001b[1;33m:\u001b[0m\u001b[1;33m-\u001b[0m\u001b[1;36m1\u001b[0m\u001b[1;33m]\u001b[0m\u001b[1;33m,\u001b[0m \u001b[0mmode\u001b[0m\u001b[1;33m)\u001b[0m\u001b[1;33m\u001b[0m\u001b[1;33m\u001b[0m\u001b[0m\n\u001b[0m\u001b[0;32m    845\u001b[0m \u001b[1;33m\u001b[0m\u001b[0m\n\u001b[0;32m    846\u001b[0m \u001b[1;33m\u001b[0m\u001b[0m\n",
            "\u001b[1;31mKeyboardInterrupt\u001b[0m: "
          ]
        }
      ],
      "source": [
        "lgirs = lagrange_interpolation_resample(audio, target_sr)\n",
        "print(lgirs)\n",
        "print(len(audio), len(lgirs))"
      ]
    },
    {
      "cell_type": "markdown",
      "id": "feba010f",
      "metadata": {
        "id": "feba010f"
      },
      "source": [
        "High-quality resampling refers to the process of changing the sample rate of an audio signal while minimizing the introduction of artifacts and preserving the audio's original quality. The samplerate library in Python provides a reliable and efficient way to perform high-quality resampling.\n",
        "\n",
        "The samplerate library offers different resampling algorithms, including:\n",
        "\n",
        "    Sinc interpolation: This method uses a sinc function as an interpolation kernel to estimate the new sample values. It provides excellent audio quality with minimal distortion and aliasing artifacts. Sinc interpolation is computationally intensive but produces accurate results.\n",
        "\n",
        "    Polyphase filtering: Polyphase resampling divides the resampling process into multiple stages using polyphase filters. It reduces computational complexity while maintaining high-quality resampling. Polyphase filtering is particularly useful for real-time applications and efficient resampling.\n",
        "\n",
        "\n",
        "    Linear interpolation: Linear interpolation estimates new sample values by interpolating between neighboring samples using a straight line. It provides smoother resampling results compared to zero-order hold but may not capture the fine details of the original signal.\n",
        "\n",
        "    Fast Fourier Transform (FFT) resampling: This method employs the FFT algorithm to convert the audio signal into the frequency domain, perform resampling, and then apply an inverse FFT to obtain the resampled signal. It can provide efficient and accurate resampling, particularly for large sample rate changes.\n",
        "\n",
        "To perform high-quality resampling using the samplerate library, you need to follow these steps:\n",
        "\n",
        "    Load the original audio signal using a suitable library like librosa or soundfile.\n",
        "    Specify the desired sample rate for the resampled signal.\n",
        "    Choose the appropriate resampling algorithm from the samplerate library.\n",
        "    Use the selected resampling algorithm to resample the audio signal, providing the original sample rate, desired sample rate, and audio data.\n",
        "    Save the resampled signal to an audio file or use it for further analysis or processing.\n",
        "\n",
        "By employing high-quality resampling techniques offered by the samplerate library, you can ensure that the resampled audio maintains its original fidelity and minimizes artifacts introduced during the resampling process."
      ]
    }
  ],
  "metadata": {
    "kernelspec": {
      "display_name": "Python 3 (ipykernel)",
      "language": "python",
      "name": "python3"
    },
    "language_info": {
      "codemirror_mode": {
        "name": "ipython",
        "version": 3
      },
      "file_extension": ".py",
      "mimetype": "text/x-python",
      "name": "python",
      "nbconvert_exporter": "python",
      "pygments_lexer": "ipython3",
      "version": "3.9.5"
    },
    "colab": {
      "provenance": [],
      "include_colab_link": true
    }
  },
  "nbformat": 4,
  "nbformat_minor": 5
}