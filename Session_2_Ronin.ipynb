{
  "cells": [
    {
      "cell_type": "markdown",
      "metadata": {
        "id": "view-in-github",
        "colab_type": "text"
      },
      "source": [
        "<a href=\"https://colab.research.google.com/github/meetAmarAtGithub/15_Reva_Speech_Analytics/blob/main/Session_2_Ronin.ipynb\" target=\"_parent\"><img src=\"https://colab.research.google.com/assets/colab-badge.svg\" alt=\"Open In Colab\"/></a>"
      ]
    },
    {
      "cell_type": "code",
      "source": [
        "from google.colab import drive\n",
        "drive.mount('/content/gdrive')"
      ],
      "metadata": {
        "colab": {
          "base_uri": "https://localhost:8080/"
        },
        "id": "f0G7L9DFIg0D",
        "outputId": "75528acc-1142-4081-ed41-d53d8832b59e"
      },
      "id": "f0G7L9DFIg0D",
      "execution_count": 2,
      "outputs": [
        {
          "output_type": "stream",
          "name": "stdout",
          "text": [
            "Mounted at /content/gdrive\n"
          ]
        }
      ]
    },
    {
      "cell_type": "code",
      "source": [
        "%cd \"/content/gdrive/My Drive/Colab Notebooks/Reva/15_Speech_Analytics/\""
      ],
      "metadata": {
        "colab": {
          "base_uri": "https://localhost:8080/"
        },
        "id": "hJxOB_CKIhje",
        "outputId": "0b2ad649-026f-4e4f-bc5e-735f8cb44deb"
      },
      "id": "hJxOB_CKIhje",
      "execution_count": 3,
      "outputs": [
        {
          "output_type": "stream",
          "name": "stdout",
          "text": [
            "/content/gdrive/My Drive/Colab Notebooks/Reva/15_Speech_Analytics\n"
          ]
        }
      ]
    },
    {
      "cell_type": "code",
      "source": [
        "ls"
      ],
      "metadata": {
        "colab": {
          "base_uri": "https://localhost:8080/"
        },
        "id": "AFUfGHP8I2Ft",
        "outputId": "3a75aba2-e7a0-444e-d932-c5a8a0798a62"
      },
      "id": "AFUfGHP8I2Ft",
      "execution_count": 4,
      "outputs": [
        {
          "output_type": "stream",
          "name": "stdout",
          "text": [
            " 1_SpeechAnalytics.ipynb            session1_violin-origional.wav\n",
            " \u001b[0m\u001b[01;34mAudioFiles\u001b[0m/                       'Session 2_Ronin.ipynb'\n",
            " Session_1_Speech_analytics.ipynb   Sesssion2_SpeechAnalytics.ipynb\n"
          ]
        }
      ]
    },
    {
      "cell_type": "code",
      "execution_count": 1,
      "id": "465d8a44",
      "metadata": {
        "id": "465d8a44"
      },
      "outputs": [],
      "source": [
        "#Import libraries\n",
        "import librosa\n",
        "import numpy as np"
      ]
    },
    {
      "cell_type": "code",
      "execution_count": 5,
      "id": "915be319",
      "metadata": {
        "id": "915be319"
      },
      "outputs": [],
      "source": [
        "# Specify the path to the audio file\n",
        "audio_path = \"session1_violin-origional.wav\"\n",
        "\n",
        "# Load the audio file\n",
        "audio, sr = librosa.load(audio_path)"
      ]
    },
    {
      "cell_type": "code",
      "execution_count": 6,
      "id": "83b328e4",
      "metadata": {
        "id": "83b328e4",
        "outputId": "75de6ac0-7e99-4184-cd5c-cc869ab48c82",
        "colab": {
          "base_uri": "https://localhost:8080/"
        }
      },
      "outputs": [
        {
          "output_type": "execute_result",
          "data": {
            "text/plain": [
              "array([ 3.6351426e-05,  2.4562608e-04,  3.2114607e-04, ...,\n",
              "       -9.6683308e-02, -9.8030478e-02, -1.0250133e-01], dtype=float32)"
            ]
          },
          "metadata": {},
          "execution_count": 6
        }
      ],
      "source": [
        "audio"
      ]
    },
    {
      "cell_type": "code",
      "execution_count": 7,
      "id": "e010c200",
      "metadata": {
        "id": "e010c200",
        "outputId": "45948866-f93c-4fa6-9b26-2f503bccb077",
        "colab": {
          "base_uri": "https://localhost:8080/"
        }
      },
      "outputs": [
        {
          "output_type": "execute_result",
          "data": {
            "text/plain": [
              "110250"
            ]
          },
          "metadata": {},
          "execution_count": 7
        }
      ],
      "source": [
        "len(audio)"
      ]
    },
    {
      "cell_type": "code",
      "execution_count": 8,
      "id": "f781409b",
      "metadata": {
        "id": "f781409b"
      },
      "outputs": [],
      "source": [
        "#Min-max normalization\n",
        "def min_max_normalization(audio):\n",
        "    minx = np.min(audio)\n",
        "    maxx = np.max(audio)\n",
        "    normalised_data = (audio-minx)/(maxx-minx)\n",
        "    return normalised_data"
      ]
    },
    {
      "cell_type": "code",
      "execution_count": 9,
      "id": "57139783",
      "metadata": {
        "id": "57139783",
        "outputId": "2bb650c9-f78d-428d-974e-86a8c7d24ff2",
        "colab": {
          "base_uri": "https://localhost:8080/"
        }
      },
      "outputs": [
        {
          "output_type": "stream",
          "name": "stdout",
          "text": [
            "Original data: [3.6351426e-05 2.4562608e-04 3.2114607e-04 1.9103831e-04 2.6651236e-05]\n",
            "Scaled data: [0.42713943 0.42734385 0.4274176  0.4272905  0.42712995]\n"
          ]
        }
      ],
      "source": [
        "#Test min-max normalization\n",
        "mmnd = min_max_normalization(audio)\n",
        "print('Original data:', audio[:5])\n",
        "print('Scaled data:', mmnd[:5])"
      ]
    },
    {
      "cell_type": "code",
      "execution_count": 10,
      "id": "a45d3cf4",
      "metadata": {
        "id": "a45d3cf4"
      },
      "outputs": [],
      "source": [
        "#Z-score transform\n",
        "def z_score_transform(audio):\n",
        "    mu = np.mean(audio)\n",
        "    sd = np.std(audio)\n",
        "    normalised_data = (audio-mu)/sd\n",
        "    return normalised_data"
      ]
    },
    {
      "cell_type": "code",
      "execution_count": 11,
      "id": "adfff27d",
      "metadata": {
        "id": "adfff27d",
        "outputId": "31c2ec5f-17d7-4e41-eb03-bec12250675e",
        "colab": {
          "base_uri": "https://localhost:8080/"
        }
      },
      "outputs": [
        {
          "output_type": "stream",
          "name": "stdout",
          "text": [
            "[0.00096504 0.00341933 0.004305   0.00277915 0.00085128]\n"
          ]
        }
      ],
      "source": [
        "#Test z-transform\n",
        "ztd =  z_score_transform(audio)\n",
        "print(ztd[:5])"
      ]
    },
    {
      "cell_type": "code",
      "execution_count": 12,
      "id": "d7c55790",
      "metadata": {
        "id": "d7c55790"
      },
      "outputs": [],
      "source": [
        "#Peak amplitude normalization\n",
        "def peak_amplitude_transform(audio):\n",
        "    peak = max(audio)\n",
        "    print(peak)\n",
        "    normalised_data = audio/peak\n",
        "    return normalised_data"
      ]
    },
    {
      "cell_type": "code",
      "execution_count": 13,
      "id": "c7a1f1ad",
      "metadata": {
        "id": "c7a1f1ad",
        "outputId": "3415f197-5f15-4a1a-9e6d-7e271fcdaafc",
        "colab": {
          "base_uri": "https://localhost:8080/"
        }
      },
      "outputs": [
        {
          "output_type": "stream",
          "name": "stdout",
          "text": [
            "0.5865756\n",
            "[6.1972278e-05 4.1874580e-04 5.4749305e-04 3.2568403e-04 4.5435296e-05]\n"
          ]
        }
      ],
      "source": [
        "#Test peak amplitude transform\n",
        "pat = peak_amplitude_transform(audio)\n",
        "print(pat[:5])"
      ]
    },
    {
      "cell_type": "markdown",
      "id": "336313d4",
      "metadata": {
        "id": "336313d4"
      },
      "source": [
        "**Resampling**"
      ]
    },
    {
      "cell_type": "code",
      "execution_count": 14,
      "id": "65b5305c",
      "metadata": {
        "id": "65b5305c"
      },
      "outputs": [],
      "source": [
        "from scipy.interpolate import interp1d"
      ]
    },
    {
      "cell_type": "code",
      "execution_count": 15,
      "id": "20aebe95",
      "metadata": {
        "id": "20aebe95"
      },
      "outputs": [],
      "source": [
        "def nearest_neighbor_resample(audio, target_length):\n",
        "    original_length = len(audio)\n",
        "    x = np.arange(original_length)\n",
        "    f = interp1d(x, audio, kind='nearest')\n",
        "    resampled_audio = f(np.linspace(0, original_length - 1, target_length))\n",
        "    return resampled_audio"
      ]
    },
    {
      "cell_type": "code",
      "execution_count": 16,
      "id": "e5d76004",
      "metadata": {
        "id": "e5d76004",
        "outputId": "515beafb-a840-4067-fbac-a36adad539f3",
        "colab": {
          "base_uri": "https://localhost:8080/"
        }
      },
      "outputs": [
        {
          "output_type": "stream",
          "name": "stdout",
          "text": [
            "Current sample rate:  22050\n",
            "Target sample rate:  17640\n",
            "110250 17640\n",
            "[ 3.6351426e-05  3.2762761e-04  1.5134944e-04 -1.5314802e-04\n",
            " -9.8524135e-05]\n"
          ]
        }
      ],
      "source": [
        "print('Current sample rate: ', sr)\n",
        "target_sr = int(0.8* sr)\n",
        "print('Target sample rate: ', target_sr)\n",
        "nnrs = nearest_neighbor_resample(audio, target_sr)\n",
        "print(len(audio), len(nnrs))\n",
        "print(nnrs[:5])"
      ]
    },
    {
      "cell_type": "code",
      "execution_count": null,
      "id": "142bbeba",
      "metadata": {
        "id": "142bbeba"
      },
      "outputs": [],
      "source": [
        "#Audio analysis - Music genre classification"
      ]
    },
    {
      "cell_type": "code",
      "source": [
        "!pip install pyAudioAnalysis"
      ],
      "metadata": {
        "colab": {
          "base_uri": "https://localhost:8080/"
        },
        "id": "V9uHQdBDLVDV",
        "outputId": "a391961f-9d6f-4ae1-a5f8-8922d5da4e89"
      },
      "id": "V9uHQdBDLVDV",
      "execution_count": 32,
      "outputs": [
        {
          "output_type": "stream",
          "name": "stdout",
          "text": [
            "Looking in indexes: https://pypi.org/simple, https://us-python.pkg.dev/colab-wheels/public/simple/\n",
            "Collecting pyAudioAnalysis\n",
            "  Downloading pyAudioAnalysis-0.3.14.tar.gz (41.3 MB)\n",
            "\u001b[2K     \u001b[90m━━━━━━━━━━━━━━━━━━━━━━━━━━━━━━━━━━━━━━━━\u001b[0m \u001b[32m41.3/41.3 MB\u001b[0m \u001b[31m4.0 MB/s\u001b[0m eta \u001b[36m0:00:00\u001b[0m\n",
            "\u001b[?25h  Preparing metadata (setup.py) ... \u001b[?25l\u001b[?25hdone\n",
            "Building wheels for collected packages: pyAudioAnalysis\n",
            "  Building wheel for pyAudioAnalysis (setup.py) ... \u001b[?25l\u001b[?25hdone\n",
            "  Created wheel for pyAudioAnalysis: filename=pyAudioAnalysis-0.3.14-py3-none-any.whl size=41264374 sha256=2b14f3e1bdeec1b7b65c1a2be8d5ebd57f76964fe84b3655dd2b7f445cfbd3f0\n",
            "  Stored in directory: /root/.cache/pip/wheels/a7/54/73/fa830689c2440d2c81ff175c60e374930ad1607a8881e0f43f\n",
            "Successfully built pyAudioAnalysis\n",
            "Installing collected packages: pyAudioAnalysis\n",
            "Successfully installed pyAudioAnalysis-0.3.14\n"
          ]
        }
      ]
    },
    {
      "cell_type": "code",
      "source": [
        "!pip install eyed3"
      ],
      "metadata": {
        "colab": {
          "base_uri": "https://localhost:8080/"
        },
        "id": "wyifjJCkL6zk",
        "outputId": "60d5ae02-2f89-4432-a7d2-da47a57d2b25"
      },
      "id": "wyifjJCkL6zk",
      "execution_count": 36,
      "outputs": [
        {
          "output_type": "stream",
          "name": "stdout",
          "text": [
            "Looking in indexes: https://pypi.org/simple, https://us-python.pkg.dev/colab-wheels/public/simple/\n",
            "Collecting eyed3\n",
            "  Downloading eyed3-0.9.7-py3-none-any.whl (246 kB)\n",
            "\u001b[2K     \u001b[90m━━━━━━━━━━━━━━━━━━━━━━━━━━━━━━━━━━━━━━━\u001b[0m \u001b[32m246.1/246.1 kB\u001b[0m \u001b[31m4.8 MB/s\u001b[0m eta \u001b[36m0:00:00\u001b[0m\n",
            "\u001b[?25hCollecting coverage[toml]<6.0.0,>=5.3.1 (from eyed3)\n",
            "  Downloading coverage-5.5-cp310-cp310-manylinux1_x86_64.whl (238 kB)\n",
            "\u001b[2K     \u001b[90m━━━━━━━━━━━━━━━━━━━━━━━━━━━━━━━━━━━━━━\u001b[0m \u001b[32m239.0/239.0 kB\u001b[0m \u001b[31m19.3 MB/s\u001b[0m eta \u001b[36m0:00:00\u001b[0m\n",
            "\u001b[?25hCollecting deprecation<3.0.0,>=2.1.0 (from eyed3)\n",
            "  Downloading deprecation-2.1.0-py2.py3-none-any.whl (11 kB)\n",
            "Collecting filetype<2.0.0,>=1.0.7 (from eyed3)\n",
            "  Downloading filetype-1.2.0-py2.py3-none-any.whl (19 kB)\n",
            "Requirement already satisfied: toml in /usr/local/lib/python3.10/dist-packages (from coverage[toml]<6.0.0,>=5.3.1->eyed3) (0.10.2)\n",
            "Requirement already satisfied: packaging in /usr/local/lib/python3.10/dist-packages (from deprecation<3.0.0,>=2.1.0->eyed3) (23.1)\n",
            "Installing collected packages: filetype, deprecation, coverage, eyed3\n",
            "Successfully installed coverage-5.5 deprecation-2.1.0 eyed3-0.9.7 filetype-1.2.0\n"
          ]
        }
      ]
    },
    {
      "cell_type": "code",
      "source": [
        "!pip install pydub"
      ],
      "metadata": {
        "colab": {
          "base_uri": "https://localhost:8080/"
        },
        "id": "bNs2__XRMFVa",
        "outputId": "09bc5136-b0ed-4582-ecbf-f170afa1e56c"
      },
      "id": "bNs2__XRMFVa",
      "execution_count": 38,
      "outputs": [
        {
          "output_type": "stream",
          "name": "stdout",
          "text": [
            "Looking in indexes: https://pypi.org/simple, https://us-python.pkg.dev/colab-wheels/public/simple/\n",
            "Collecting pydub\n",
            "  Downloading pydub-0.25.1-py2.py3-none-any.whl (32 kB)\n",
            "Installing collected packages: pydub\n",
            "Successfully installed pydub-0.25.1\n"
          ]
        }
      ]
    },
    {
      "cell_type": "code",
      "execution_count": 39,
      "id": "2cb492a9",
      "metadata": {
        "id": "2cb492a9"
      },
      "outputs": [],
      "source": [
        "#Import the required files\n",
        "from pyAudioAnalysis import MidTermFeatures as aF"
      ]
    },
    {
      "cell_type": "code",
      "execution_count": 40,
      "id": "45ba45fc",
      "metadata": {
        "id": "45ba45fc"
      },
      "outputs": [],
      "source": [
        "#Import base libraries\n",
        "import numpy as np\n",
        "import matplotlib.pyplot as plt\n",
        "\n",
        "#Import classifiers\n",
        "#Local models\n",
        "from sklearn.naive_bayes import GaussianNB\n",
        "\n",
        "#Linear models\n",
        "from sklearn.linear_model import LogisticRegression\n",
        "\n",
        "#Non linear models\n",
        "from sklearn import tree\n",
        "\n",
        "#Validation libraries\n",
        "from sklearn.metrics import confusion_matrix\n"
      ]
    },
    {
      "cell_type": "code",
      "execution_count": 50,
      "id": "d6021b8e",
      "metadata": {
        "id": "d6021b8e"
      },
      "outputs": [],
      "source": [
        "#Load the data\n",
        "path = \"/content/gdrive/My Drive/Colab Notebooks/Reva/15_Speech_Analytics/AudioFiles\""
      ]
    },
    {
      "cell_type": "code",
      "execution_count": 55,
      "id": "03d69cd7",
      "metadata": {
        "id": "03d69cd7"
      },
      "outputs": [],
      "source": [
        "dirs = [path+\"/classical/\", path+\"/Metal/\"] "
      ]
    },
    {
      "cell_type": "code",
      "execution_count": 56,
      "id": "52058e80",
      "metadata": {
        "id": "52058e80",
        "outputId": "3bd8c86c-36cc-4593-c56a-2dffb1ca2ff1",
        "colab": {
          "base_uri": "https://localhost:8080/"
        }
      },
      "outputs": [
        {
          "output_type": "execute_result",
          "data": {
            "text/plain": [
              "['/content/gdrive/My Drive/Colab Notebooks/Reva/15_Speech_Analytics/AudioFiles/classical/',\n",
              " '/content/gdrive/My Drive/Colab Notebooks/Reva/15_Speech_Analytics/AudioFiles/Metal/']"
            ]
          },
          "metadata": {},
          "execution_count": 56
        }
      ],
      "source": [
        "dirs"
      ]
    },
    {
      "cell_type": "code",
      "execution_count": 57,
      "id": "b5e150df",
      "metadata": {
        "id": "b5e150df"
      },
      "outputs": [],
      "source": [
        "#Define classes\n",
        "class_names = ['classical', 'metal'] "
      ]
    },
    {
      "cell_type": "code",
      "execution_count": 58,
      "id": "dfb4682a",
      "metadata": {
        "id": "dfb4682a",
        "outputId": "138a821e-0a11-4193-a0c0-59518e473470",
        "colab": {
          "base_uri": "https://localhost:8080/"
        }
      },
      "outputs": [
        {
          "output_type": "stream",
          "name": "stdout",
          "text": [
            "['classical', 'metal']\n"
          ]
        }
      ],
      "source": [
        "print(class_names)"
      ]
    },
    {
      "cell_type": "code",
      "execution_count": 59,
      "id": "5933208c",
      "metadata": {
        "id": "5933208c"
      },
      "outputs": [],
      "source": [
        "#initialize minimu window, minimum step, window size and step size\n",
        "m_win, m_step, s_win, s_step = 1, 1, 0.1, 0.05"
      ]
    },
    {
      "cell_type": "code",
      "execution_count": 60,
      "id": "9262423a",
      "metadata": {
        "id": "9262423a"
      },
      "outputs": [],
      "source": [
        "# segment-level feature extraction:\n",
        "features = [] "
      ]
    },
    {
      "cell_type": "code",
      "execution_count": 61,
      "id": "df9d2202",
      "metadata": {
        "id": "df9d2202",
        "outputId": "3ad1e818-9c51-40f0-89f5-b76a5ff8bf9e",
        "colab": {
          "base_uri": "https://localhost:8080/"
        }
      },
      "outputs": [
        {
          "output_type": "stream",
          "name": "stdout",
          "text": [
            "/content/gdrive/My Drive/Colab Notebooks/Reva/15_Speech_Analytics/AudioFiles/classical/\n",
            "Analyzing file 1 of 10: /content/gdrive/My Drive/Colab Notebooks/Reva/15_Speech_Analytics/AudioFiles/classical/data_music_classical_classical.00012.au.wav\n",
            "Analyzing file 2 of 10: /content/gdrive/My Drive/Colab Notebooks/Reva/15_Speech_Analytics/AudioFiles/classical/data_music_classical_classical.00017.au.wav\n",
            "Analyzing file 3 of 10: /content/gdrive/My Drive/Colab Notebooks/Reva/15_Speech_Analytics/AudioFiles/classical/data_music_classical_classical.00023.au.wav\n",
            "Analyzing file 4 of 10: /content/gdrive/My Drive/Colab Notebooks/Reva/15_Speech_Analytics/AudioFiles/classical/data_music_classical_classical.00027.au.wav\n",
            "Analyzing file 5 of 10: /content/gdrive/My Drive/Colab Notebooks/Reva/15_Speech_Analytics/AudioFiles/classical/data_music_classical_classical.00030.au.wav\n",
            "Analyzing file 6 of 10: /content/gdrive/My Drive/Colab Notebooks/Reva/15_Speech_Analytics/AudioFiles/classical/data_music_classical_classical.00040.au.wav\n",
            "Analyzing file 7 of 10: /content/gdrive/My Drive/Colab Notebooks/Reva/15_Speech_Analytics/AudioFiles/classical/data_music_classical_classical.00048.au.wav\n",
            "Analyzing file 8 of 10: /content/gdrive/My Drive/Colab Notebooks/Reva/15_Speech_Analytics/AudioFiles/classical/data_music_classical_classical.00052.au.wav\n",
            "Analyzing file 9 of 10: /content/gdrive/My Drive/Colab Notebooks/Reva/15_Speech_Analytics/AudioFiles/classical/data_music_classical_classical.00057.au.wav\n",
            "Analyzing file 10 of 10: /content/gdrive/My Drive/Colab Notebooks/Reva/15_Speech_Analytics/AudioFiles/classical/data_music_classical_classical.00062.au.wav\n",
            "Feature extraction complexity ratio: 11.9 x realtime\n",
            "/content/gdrive/My Drive/Colab Notebooks/Reva/15_Speech_Analytics/AudioFiles/Metal/\n",
            "Analyzing file 1 of 10: /content/gdrive/My Drive/Colab Notebooks/Reva/15_Speech_Analytics/AudioFiles/Metal/data_music_metal_metal.00015.au.wav\n",
            "Analyzing file 2 of 10: /content/gdrive/My Drive/Colab Notebooks/Reva/15_Speech_Analytics/AudioFiles/Metal/data_music_metal_metal.00023.au.wav\n",
            "Analyzing file 3 of 10: /content/gdrive/My Drive/Colab Notebooks/Reva/15_Speech_Analytics/AudioFiles/Metal/data_music_metal_metal.00034.au.wav\n",
            "Analyzing file 4 of 10: /content/gdrive/My Drive/Colab Notebooks/Reva/15_Speech_Analytics/AudioFiles/Metal/data_music_metal_metal.00038.au.wav\n",
            "Analyzing file 5 of 10: /content/gdrive/My Drive/Colab Notebooks/Reva/15_Speech_Analytics/AudioFiles/Metal/data_music_metal_metal.00043.au.wav\n",
            "Analyzing file 6 of 10: /content/gdrive/My Drive/Colab Notebooks/Reva/15_Speech_Analytics/AudioFiles/Metal/data_music_metal_metal.00052.au.wav\n",
            "Analyzing file 7 of 10: /content/gdrive/My Drive/Colab Notebooks/Reva/15_Speech_Analytics/AudioFiles/Metal/data_music_metal_metal.00070.au.wav\n",
            "Analyzing file 8 of 10: /content/gdrive/My Drive/Colab Notebooks/Reva/15_Speech_Analytics/AudioFiles/Metal/data_music_metal_metal.00076.au.wav\n",
            "Analyzing file 9 of 10: /content/gdrive/My Drive/Colab Notebooks/Reva/15_Speech_Analytics/AudioFiles/Metal/data_music_metal_metal.00088.au.wav\n",
            "Analyzing file 10 of 10: /content/gdrive/My Drive/Colab Notebooks/Reva/15_Speech_Analytics/AudioFiles/Metal/data_music_metal_metal.00098.au.wav\n",
            "Feature extraction complexity ratio: 19.2 x realtime\n"
          ]
        }
      ],
      "source": [
        "#Extract the features\n",
        "for d in dirs: # get feature matrix for each directory (class)\n",
        "    print(d)\n",
        "    f, _, fn = aF.directory_feature_extraction(d, m_win, m_step, \n",
        "                                                   s_win, s_step) \n",
        "    features.append(f)"
      ]
    },
    {
      "cell_type": "code",
      "execution_count": 62,
      "id": "fe0f6c75",
      "metadata": {
        "id": "fe0f6c75",
        "outputId": "9fa374f9-446e-4220-cbd4-34fdfdd4d1ad",
        "colab": {
          "base_uri": "https://localhost:8080/"
        }
      },
      "outputs": [
        {
          "output_type": "execute_result",
          "data": {
            "text/plain": [
              "[array([[1.80389961e-01, 5.83426779e-02, 3.24215393e+00, ...,\n",
              "         8.16622670e-03, 2.00000000e+02, 9.37499989e-02],\n",
              "        [2.36084579e-01, 4.51324260e-02, 3.20337700e+00, ...,\n",
              "         5.92134326e-03, 1.71428571e+02, 1.87499998e-01],\n",
              "        [1.39812924e-01, 7.41176724e-02, 3.25051884e+00, ...,\n",
              "         5.08672374e-03, 4.00000000e+02, 1.36363635e-01],\n",
              "        ...,\n",
              "        [1.65239444e-01, 2.48579223e-02, 3.17368998e+00, ...,\n",
              "         6.63576808e-03, 2.40000000e+02, 1.37254901e-01],\n",
              "        [2.52816020e-01, 3.15424944e-02, 3.04960657e+00, ...,\n",
              "         2.04765510e-02, 1.50000000e+02, 2.22222220e-01],\n",
              "        [2.33021540e-01, 3.46355248e-02, 3.20578801e+00, ...,\n",
              "         9.23241609e-03, 2.00000000e+02, 1.39534882e-01]]),\n",
              " array([[2.32165207e-01, 4.08303634e-02, 3.15282509e+00, ...,\n",
              "         1.26967985e-02, 1.71428571e+02, 1.79999999e-01],\n",
              "        [1.61682366e-01, 5.12111765e-02, 3.05479382e+00, ...,\n",
              "         2.85935370e-02, 1.50000000e+02, 2.22222220e-01],\n",
              "        [2.63026151e-01, 1.82443685e-02, 2.90003955e+00, ...,\n",
              "         6.32769922e-03, 1.50000000e+02, 1.62790696e-01],\n",
              "        ...,\n",
              "        [2.10822739e-01, 4.42815314e-02, 2.95486328e+00, ...,\n",
              "         1.88774049e-02, 3.00000000e+02, 2.64150941e-01],\n",
              "        [1.38462552e-01, 3.28916002e-02, 3.00062377e+00, ...,\n",
              "         1.50672839e-02, 2.40000000e+02, 1.76470587e-01],\n",
              "        [2.36875041e-01, 2.59477510e-02, 3.06589205e+00, ...,\n",
              "         1.31432195e-02, 1.50000000e+02, 1.73913042e-01]])]"
            ]
          },
          "metadata": {},
          "execution_count": 62
        }
      ],
      "source": [
        "features[:2]"
      ]
    },
    {
      "cell_type": "code",
      "execution_count": 63,
      "id": "687e3ac9",
      "metadata": {
        "id": "687e3ac9",
        "outputId": "01056e81-ab36-4a4a-f1f3-50c4f66bfb81",
        "colab": {
          "base_uri": "https://localhost:8080/"
        }
      },
      "outputs": [
        {
          "output_type": "stream",
          "name": "stdout",
          "text": [
            "(10, 138) (10, 138)\n"
          ]
        }
      ],
      "source": [
        "print(features[0].shape, features[1].shape)"
      ]
    },
    {
      "cell_type": "code",
      "execution_count": 64,
      "id": "9babd36a",
      "metadata": {
        "id": "9babd36a",
        "outputId": "8d4621de-ef06-44d5-e6a5-0d6748422afa",
        "colab": {
          "base_uri": "https://localhost:8080/"
        }
      },
      "outputs": [
        {
          "output_type": "execute_result",
          "data": {
            "text/plain": [
              "['__add__',\n",
              " '__class__',\n",
              " '__class_getitem__',\n",
              " '__contains__',\n",
              " '__delattr__',\n",
              " '__delitem__',\n",
              " '__dir__',\n",
              " '__doc__',\n",
              " '__eq__',\n",
              " '__format__',\n",
              " '__ge__',\n",
              " '__getattribute__',\n",
              " '__getitem__',\n",
              " '__gt__',\n",
              " '__hash__',\n",
              " '__iadd__',\n",
              " '__imul__',\n",
              " '__init__',\n",
              " '__init_subclass__',\n",
              " '__iter__',\n",
              " '__le__',\n",
              " '__len__',\n",
              " '__lt__',\n",
              " '__mul__',\n",
              " '__ne__',\n",
              " '__new__',\n",
              " '__reduce__',\n",
              " '__reduce_ex__',\n",
              " '__repr__',\n",
              " '__reversed__',\n",
              " '__rmul__',\n",
              " '__setattr__',\n",
              " '__setitem__',\n",
              " '__sizeof__',\n",
              " '__str__',\n",
              " '__subclasshook__',\n",
              " 'append',\n",
              " 'clear',\n",
              " 'copy',\n",
              " 'count',\n",
              " 'extend',\n",
              " 'index',\n",
              " 'insert',\n",
              " 'pop',\n",
              " 'remove',\n",
              " 'reverse',\n",
              " 'sort']"
            ]
          },
          "metadata": {},
          "execution_count": 64
        }
      ],
      "source": [
        "dir(features)"
      ]
    },
    {
      "cell_type": "code",
      "execution_count": 65,
      "id": "f1d6c4eb",
      "metadata": {
        "id": "f1d6c4eb"
      },
      "outputs": [],
      "source": [
        "# select 2 features and create feature matrices for the two classes:\n",
        "f1 = np.array([features[0][:, fn.index('spectral_centroid_mean')],\n",
        "               features[0][:, fn.index('energy_entropy_mean')]])"
      ]
    },
    {
      "cell_type": "code",
      "execution_count": 66,
      "id": "8a2d5233",
      "metadata": {
        "id": "8a2d5233"
      },
      "outputs": [],
      "source": [
        "f2 = np.array([features[1][:, fn.index('spectral_centroid_mean')],\n",
        "               features[1][:, fn.index('energy_entropy_mean')]])"
      ]
    },
    {
      "cell_type": "code",
      "execution_count": 67,
      "id": "be130fcf",
      "metadata": {
        "id": "be130fcf"
      },
      "outputs": [],
      "source": [
        "X = np.concatenate((f1.T, f2.T), axis = 0)"
      ]
    },
    {
      "cell_type": "code",
      "execution_count": 68,
      "id": "f033114a",
      "metadata": {
        "id": "f033114a",
        "outputId": "df3e8d25-7693-44f3-ca8f-b4f3c3b9c31c",
        "colab": {
          "base_uri": "https://localhost:8080/"
        }
      },
      "outputs": [
        {
          "output_type": "execute_result",
          "data": {
            "text/plain": [
              "array([[0.26691139, 3.24215393],\n",
              "       [0.2960767 , 3.203377  ]])"
            ]
          },
          "metadata": {},
          "execution_count": 68
        }
      ],
      "source": [
        "X[:2]"
      ]
    },
    {
      "cell_type": "code",
      "execution_count": 69,
      "id": "2ddf3f2c",
      "metadata": {
        "id": "2ddf3f2c"
      },
      "outputs": [],
      "source": [
        "#Create labels\n",
        "y = np.concatenate((np.zeros(f1.shape[1]), np.ones(f2.shape[1]))) "
      ]
    },
    {
      "cell_type": "code",
      "execution_count": 70,
      "id": "baa68ccc",
      "metadata": {
        "id": "baa68ccc",
        "outputId": "b09e971e-84f3-413d-c3c8-9071f1f7abcd",
        "colab": {
          "base_uri": "https://localhost:8080/"
        }
      },
      "outputs": [
        {
          "output_type": "execute_result",
          "data": {
            "text/plain": [
              "array([0., 0., 0., 0., 0., 0., 0., 0., 0., 0., 1., 1., 1., 1., 1., 1., 1.,\n",
              "       1., 1., 1.])"
            ]
          },
          "metadata": {},
          "execution_count": 70
        }
      ],
      "source": [
        "y"
      ]
    },
    {
      "cell_type": "code",
      "execution_count": 71,
      "id": "4ad3fe77",
      "metadata": {
        "id": "4ad3fe77",
        "outputId": "452e18ea-770b-4d42-815d-699e4981a06a",
        "colab": {
          "base_uri": "https://localhost:8080/",
          "height": 75
        }
      },
      "outputs": [
        {
          "output_type": "execute_result",
          "data": {
            "text/plain": [
              "GaussianNB()"
            ],
            "text/html": [
              "<style>#sk-container-id-1 {color: black;background-color: white;}#sk-container-id-1 pre{padding: 0;}#sk-container-id-1 div.sk-toggleable {background-color: white;}#sk-container-id-1 label.sk-toggleable__label {cursor: pointer;display: block;width: 100%;margin-bottom: 0;padding: 0.3em;box-sizing: border-box;text-align: center;}#sk-container-id-1 label.sk-toggleable__label-arrow:before {content: \"▸\";float: left;margin-right: 0.25em;color: #696969;}#sk-container-id-1 label.sk-toggleable__label-arrow:hover:before {color: black;}#sk-container-id-1 div.sk-estimator:hover label.sk-toggleable__label-arrow:before {color: black;}#sk-container-id-1 div.sk-toggleable__content {max-height: 0;max-width: 0;overflow: hidden;text-align: left;background-color: #f0f8ff;}#sk-container-id-1 div.sk-toggleable__content pre {margin: 0.2em;color: black;border-radius: 0.25em;background-color: #f0f8ff;}#sk-container-id-1 input.sk-toggleable__control:checked~div.sk-toggleable__content {max-height: 200px;max-width: 100%;overflow: auto;}#sk-container-id-1 input.sk-toggleable__control:checked~label.sk-toggleable__label-arrow:before {content: \"▾\";}#sk-container-id-1 div.sk-estimator input.sk-toggleable__control:checked~label.sk-toggleable__label {background-color: #d4ebff;}#sk-container-id-1 div.sk-label input.sk-toggleable__control:checked~label.sk-toggleable__label {background-color: #d4ebff;}#sk-container-id-1 input.sk-hidden--visually {border: 0;clip: rect(1px 1px 1px 1px);clip: rect(1px, 1px, 1px, 1px);height: 1px;margin: -1px;overflow: hidden;padding: 0;position: absolute;width: 1px;}#sk-container-id-1 div.sk-estimator {font-family: monospace;background-color: #f0f8ff;border: 1px dotted black;border-radius: 0.25em;box-sizing: border-box;margin-bottom: 0.5em;}#sk-container-id-1 div.sk-estimator:hover {background-color: #d4ebff;}#sk-container-id-1 div.sk-parallel-item::after {content: \"\";width: 100%;border-bottom: 1px solid gray;flex-grow: 1;}#sk-container-id-1 div.sk-label:hover label.sk-toggleable__label {background-color: #d4ebff;}#sk-container-id-1 div.sk-serial::before {content: \"\";position: absolute;border-left: 1px solid gray;box-sizing: border-box;top: 0;bottom: 0;left: 50%;z-index: 0;}#sk-container-id-1 div.sk-serial {display: flex;flex-direction: column;align-items: center;background-color: white;padding-right: 0.2em;padding-left: 0.2em;position: relative;}#sk-container-id-1 div.sk-item {position: relative;z-index: 1;}#sk-container-id-1 div.sk-parallel {display: flex;align-items: stretch;justify-content: center;background-color: white;position: relative;}#sk-container-id-1 div.sk-item::before, #sk-container-id-1 div.sk-parallel-item::before {content: \"\";position: absolute;border-left: 1px solid gray;box-sizing: border-box;top: 0;bottom: 0;left: 50%;z-index: -1;}#sk-container-id-1 div.sk-parallel-item {display: flex;flex-direction: column;z-index: 1;position: relative;background-color: white;}#sk-container-id-1 div.sk-parallel-item:first-child::after {align-self: flex-end;width: 50%;}#sk-container-id-1 div.sk-parallel-item:last-child::after {align-self: flex-start;width: 50%;}#sk-container-id-1 div.sk-parallel-item:only-child::after {width: 0;}#sk-container-id-1 div.sk-dashed-wrapped {border: 1px dashed gray;margin: 0 0.4em 0.5em 0.4em;box-sizing: border-box;padding-bottom: 0.4em;background-color: white;}#sk-container-id-1 div.sk-label label {font-family: monospace;font-weight: bold;display: inline-block;line-height: 1.2em;}#sk-container-id-1 div.sk-label-container {text-align: center;}#sk-container-id-1 div.sk-container {/* jupyter's `normalize.less` sets `[hidden] { display: none; }` but bootstrap.min.css set `[hidden] { display: none !important; }` so we also need the `!important` here to be able to override the default hidden behavior on the sphinx rendered scikit-learn.org. See: https://github.com/scikit-learn/scikit-learn/issues/21755 */display: inline-block !important;position: relative;}#sk-container-id-1 div.sk-text-repr-fallback {display: none;}</style><div id=\"sk-container-id-1\" class=\"sk-top-container\"><div class=\"sk-text-repr-fallback\"><pre>GaussianNB()</pre><b>In a Jupyter environment, please rerun this cell to show the HTML representation or trust the notebook. <br />On GitHub, the HTML representation is unable to render, please try loading this page with nbviewer.org.</b></div><div class=\"sk-container\" hidden><div class=\"sk-item\"><div class=\"sk-estimator sk-toggleable\"><input class=\"sk-toggleable__control sk-hidden--visually\" id=\"sk-estimator-id-1\" type=\"checkbox\" checked><label for=\"sk-estimator-id-1\" class=\"sk-toggleable__label sk-toggleable__label-arrow\">GaussianNB</label><div class=\"sk-toggleable__content\"><pre>GaussianNB()</pre></div></div></div></div></div>"
            ]
          },
          "metadata": {},
          "execution_count": 71
        }
      ],
      "source": [
        "#Build naive Bayesian model\n",
        "gnb = GaussianNB()\n",
        "gnb.fit(X, y)"
      ]
    },
    {
      "cell_type": "code",
      "execution_count": 72,
      "id": "f36118a7",
      "metadata": {
        "id": "f36118a7"
      },
      "outputs": [],
      "source": [
        "y_pred = gnb.predict(X)"
      ]
    },
    {
      "cell_type": "code",
      "execution_count": 73,
      "id": "3b1b8a52",
      "metadata": {
        "id": "3b1b8a52",
        "outputId": "661a4154-6800-49e8-aaf9-714be5a8f200",
        "colab": {
          "base_uri": "https://localhost:8080/"
        }
      },
      "outputs": [
        {
          "output_type": "execute_result",
          "data": {
            "text/plain": [
              "array([0., 0., 0., 0., 0., 0., 0., 0., 1., 0., 1., 1., 1., 1., 1., 1., 1.,\n",
              "       1., 1., 1.])"
            ]
          },
          "metadata": {},
          "execution_count": 73
        }
      ],
      "source": [
        "y_pred"
      ]
    },
    {
      "cell_type": "code",
      "execution_count": 77,
      "id": "8f6f90b1",
      "metadata": {
        "id": "8f6f90b1",
        "outputId": "39f29d1b-0ef5-4638-8824-11b40ec936e7",
        "colab": {
          "base_uri": "https://localhost:8080/"
        }
      },
      "outputs": [
        {
          "output_type": "execute_result",
          "data": {
            "text/plain": [
              "array([[ 9,  1],\n",
              "       [ 0, 10]])"
            ]
          },
          "metadata": {},
          "execution_count": 77
        }
      ],
      "source": [
        "#Confusion matrix for NB\n",
        "y_pred = gnb.predict(X)\n",
        "confusion_matrix(y, y_pred)"
      ]
    },
    {
      "cell_type": "code",
      "execution_count": 75,
      "id": "06e1d161",
      "metadata": {
        "id": "06e1d161",
        "outputId": "997208a2-92b8-4763-e21d-f96610901d81",
        "colab": {
          "base_uri": "https://localhost:8080/"
        }
      },
      "outputs": [
        {
          "output_type": "execute_result",
          "data": {
            "text/plain": [
              "array([[ 9,  1],\n",
              "       [ 0, 10]])"
            ]
          },
          "metadata": {},
          "execution_count": 75
        }
      ],
      "source": [
        "#Logistic regression model\n",
        "logreg = LogisticRegression()\n",
        "logreg.fit(X, y)\n",
        "y_pred = logreg.predict(X)\n",
        "confusion_matrix(y, y_pred)"
      ]
    },
    {
      "cell_type": "code",
      "execution_count": 76,
      "id": "dff98466",
      "metadata": {
        "id": "dff98466",
        "outputId": "5ac04739-e2b9-4522-f95c-063d7c78b7bc",
        "colab": {
          "base_uri": "https://localhost:8080/"
        }
      },
      "outputs": [
        {
          "output_type": "execute_result",
          "data": {
            "text/plain": [
              "array([[10,  0],\n",
              "       [ 0, 10]])"
            ]
          },
          "metadata": {},
          "execution_count": 76
        }
      ],
      "source": [
        "#Decision tree classifier\n",
        "dt = tree.DecisionTreeClassifier()\n",
        "dt.fit(X, y)\n",
        "y_pred = dt.predict(X)\n",
        "confusion_matrix(y, y_pred)"
      ]
    },
    {
      "cell_type": "code",
      "execution_count": null,
      "id": "76557f30",
      "metadata": {
        "id": "76557f30"
      },
      "outputs": [],
      "source": []
    }
  ],
  "metadata": {
    "kernelspec": {
      "display_name": "Python 3",
      "language": "python",
      "name": "python3"
    },
    "language_info": {
      "codemirror_mode": {
        "name": "ipython",
        "version": 3
      },
      "file_extension": ".py",
      "mimetype": "text/x-python",
      "name": "python",
      "nbconvert_exporter": "python",
      "pygments_lexer": "ipython3",
      "version": "3.9.5"
    },
    "colab": {
      "provenance": [],
      "include_colab_link": true
    }
  },
  "nbformat": 4,
  "nbformat_minor": 5
}