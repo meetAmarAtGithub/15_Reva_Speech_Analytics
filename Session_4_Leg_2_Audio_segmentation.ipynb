{
  "cells": [
    {
      "cell_type": "markdown",
      "metadata": {
        "id": "view-in-github",
        "colab_type": "text"
      },
      "source": [
        "<a href=\"https://colab.research.google.com/github/meetAmarAtGithub/15_Reva_Speech_Analytics/blob/main/Session_4_Leg_2_Audio_segmentation.ipynb\" target=\"_parent\"><img src=\"https://colab.research.google.com/assets/colab-badge.svg\" alt=\"Open In Colab\"/></a>"
      ]
    },
    {
      "cell_type": "code",
      "execution_count": null,
      "id": "0d46914e",
      "metadata": {
        "id": "0d46914e"
      },
      "outputs": [],
      "source": [
        "#Audio classification through segmentation"
      ]
    },
    {
      "cell_type": "code",
      "execution_count": null,
      "id": "1b4ad6c6",
      "metadata": {
        "id": "1b4ad6c6"
      },
      "outputs": [],
      "source": [
        "#Import the required files\n",
        "from pyAudioAnalysis import MidTermFeatures as aF\n",
        "import os\n",
        "import numpy as np\n",
        "import pandas as pd\n",
        "from sklearn.svm import SVC\n",
        "import seaborn as sns"
      ]
    },
    {
      "cell_type": "code",
      "execution_count": null,
      "id": "10a3d7af",
      "metadata": {
        "id": "10a3d7af"
      },
      "outputs": [],
      "source": [
        "path = 'D:\\RACE\\Speech Analytics\\Audio segmentation analysis'"
      ]
    },
    {
      "cell_type": "code",
      "execution_count": null,
      "id": "643c7068",
      "metadata": {
        "id": "643c7068"
      },
      "outputs": [],
      "source": [
        "dirs = [path+\"\\\\classical\\\\\", path+\"\\\\janapada\\\\\"] "
      ]
    },
    {
      "cell_type": "code",
      "execution_count": null,
      "id": "b06381b5",
      "metadata": {
        "id": "b06381b5",
        "outputId": "8a3d95be-d0c5-4bd4-8000-a21689eaffe5"
      },
      "outputs": [
        {
          "name": "stdout",
          "output_type": "stream",
          "text": [
            "['D:\\\\RACE\\\\Speech Analytics\\\\Audio segmentation analysis\\\\classical\\\\', 'D:\\\\RACE\\\\Speech Analytics\\\\Audio segmentation analysis\\\\janapada\\\\']\n"
          ]
        }
      ],
      "source": [
        "print(dirs)"
      ]
    },
    {
      "cell_type": "code",
      "execution_count": null,
      "id": "ef325a2c",
      "metadata": {
        "id": "ef325a2c"
      },
      "outputs": [],
      "source": [
        "class_names = ['classical', 'janapada'] "
      ]
    },
    {
      "cell_type": "code",
      "execution_count": null,
      "id": "a4985f61",
      "metadata": {
        "id": "a4985f61",
        "outputId": "bf801664-9712-4ec3-a52c-26f2da3af5ae"
      },
      "outputs": [
        {
          "name": "stdout",
          "output_type": "stream",
          "text": [
            "['classical', 'janapada']\n"
          ]
        }
      ],
      "source": [
        "print(class_names)"
      ]
    },
    {
      "cell_type": "code",
      "execution_count": null,
      "id": "a95d3c62",
      "metadata": {
        "id": "a95d3c62"
      },
      "outputs": [],
      "source": [
        "#initialize minimu window, minimum step, window size and step size\n",
        "m_win, m_step, s_win, s_step = 1, 1, 0.1, 0.05"
      ]
    },
    {
      "cell_type": "code",
      "execution_count": null,
      "id": "fed94fde",
      "metadata": {
        "id": "fed94fde"
      },
      "outputs": [],
      "source": [
        "# segment-level feature extraction:\n",
        "features = [] "
      ]
    },
    {
      "cell_type": "code",
      "execution_count": null,
      "id": "8f91225d",
      "metadata": {
        "id": "8f91225d",
        "outputId": "431af83a-43dd-4986-86f1-81561747fbaa"
      },
      "outputs": [
        {
          "name": "stdout",
          "output_type": "stream",
          "text": [
            "D:\\RACE\\Speech Analytics\\Audio segmentation analysis\\classical\\\n",
            "Analyzing file 1 of 12: D:\\RACE\\Speech Analytics\\Audio segmentation analysis\\classical\\classic_balamurali_20_clip1.wav\n",
            "Analyzing file 2 of 12: D:\\RACE\\Speech Analytics\\Audio segmentation analysis\\classical\\classic_balamurali_20_clip12.wav\n",
            "Analyzing file 3 of 12: D:\\RACE\\Speech Analytics\\Audio segmentation analysis\\classical\\classic_balamurali_20_clip15.wav\n",
            "Analyzing file 4 of 12: D:\\RACE\\Speech Analytics\\Audio segmentation analysis\\classical\\classic_balamurali_20_clip17.wav\n",
            "Analyzing file 5 of 12: D:\\RACE\\Speech Analytics\\Audio segmentation analysis\\classical\\classic_balamurali_20_clip19.wav\n",
            "Analyzing file 6 of 12: D:\\RACE\\Speech Analytics\\Audio segmentation analysis\\classical\\classic_general_8_clip1.wav\n",
            "Analyzing file 7 of 12: D:\\RACE\\Speech Analytics\\Audio segmentation analysis\\classical\\classic_general_8_clip4.wav\n",
            "Analyzing file 8 of 12: D:\\RACE\\Speech Analytics\\Audio segmentation analysis\\classical\\classic_general_8_clip6.wav\n",
            "Analyzing file 9 of 12: D:\\RACE\\Speech Analytics\\Audio segmentation analysis\\classical\\classic_jaya_8_clip1.wav\n",
            "Analyzing file 10 of 12: D:\\RACE\\Speech Analytics\\Audio segmentation analysis\\classical\\classic_jaya_8_clip3.wav\n",
            "Analyzing file 11 of 12: D:\\RACE\\Speech Analytics\\Audio segmentation analysis\\classical\\classic_purandara_8_clip2.wav\n",
            "Analyzing file 12 of 12: D:\\RACE\\Speech Analytics\\Audio segmentation analysis\\classical\\classic_purandara_8_clip4.wav\n",
            "Feature extraction complexity ratio: 20.0 x realtime\n",
            "D:\\RACE\\Speech Analytics\\Audio segmentation analysis\\janapada\\\n",
            "Analyzing file 1 of 12: D:\\RACE\\Speech Analytics\\Audio segmentation analysis\\janapada\\janapada_general_11_clip1.wav\n",
            "Analyzing file 2 of 12: D:\\RACE\\Speech Analytics\\Audio segmentation analysis\\janapada\\janapada_general_11_clip2.wav\n",
            "Analyzing file 3 of 12: D:\\RACE\\Speech Analytics\\Audio segmentation analysis\\janapada\\janapada_general_11_clip4.wav\n",
            "Analyzing file 4 of 12: D:\\RACE\\Speech Analytics\\Audio segmentation analysis\\janapada\\janapada_general_11_clip7.wav\n",
            "Analyzing file 5 of 12: D:\\RACE\\Speech Analytics\\Audio segmentation analysis\\janapada\\janapada_general_11_clip8.wav\n",
            "Analyzing file 6 of 12: D:\\RACE\\Speech Analytics\\Audio segmentation analysis\\janapada\\janapada_general_20_clip1.wav\n",
            "Analyzing file 7 of 12: D:\\RACE\\Speech Analytics\\Audio segmentation analysis\\janapada\\janapada_general_20_clip12.wav\n",
            "Analyzing file 8 of 12: D:\\RACE\\Speech Analytics\\Audio segmentation analysis\\janapada\\janapada_general_20_clip15.wav\n",
            "Analyzing file 9 of 12: D:\\RACE\\Speech Analytics\\Audio segmentation analysis\\janapada\\janapada_general_20_clip19.wav\n",
            "Analyzing file 10 of 12: D:\\RACE\\Speech Analytics\\Audio segmentation analysis\\janapada\\janapada_general_20_clip5.wav\n",
            "Analyzing file 11 of 12: D:\\RACE\\Speech Analytics\\Audio segmentation analysis\\janapada\\janapada_santha_10_clip10.wav\n",
            "Analyzing file 12 of 12: D:\\RACE\\Speech Analytics\\Audio segmentation analysis\\janapada\\janapada_santha_10_clip4.wav\n",
            "Feature extraction complexity ratio: 21.7 x realtime\n"
          ]
        }
      ],
      "source": [
        "features = [] \n",
        "for d in dirs: # get feature matrix for each directory (class)\n",
        "    print(d)\n",
        "    f, files, fn = aF.directory_feature_extraction(d, m_win, m_step, \n",
        "                                                   s_win, s_step) \n",
        "    features.append(f)"
      ]
    },
    {
      "cell_type": "code",
      "execution_count": null,
      "id": "1edba72a",
      "metadata": {
        "id": "1edba72a",
        "outputId": "693fb22f-b330-41bf-8ada-23acbd9c4102"
      },
      "outputs": [
        {
          "data": {
            "text/plain": [
              "[array([[8.00740715e-02, 4.14463284e-02, 3.20947091e+00, ...,\n",
              "         7.66296102e-03, 1.33333333e+02, 1.08024691e-01],\n",
              "        [7.54174663e-02, 4.02357478e-02, 3.15959009e+00, ...,\n",
              "         7.51078840e-03, 1.00000000e+02, 8.76623370e-02],\n",
              "        [7.45686399e-02, 2.74512732e-02, 3.25717264e+00, ...,\n",
              "         1.00112213e-02, 1.33333333e+02, 7.71929819e-02],\n",
              "        ...,\n",
              "        [1.28900973e-01, 5.90030407e-02, 3.25841310e+00, ...,\n",
              "         8.89701840e-03, 1.71428571e+02, 1.15089513e-01],\n",
              "        [9.92485752e-02, 9.85562238e-02, 3.15156212e+00, ...,\n",
              "         1.13277593e-02, 1.50000000e+02, 1.13300492e-01],\n",
              "        [7.76132709e-02, 7.35339682e-02, 3.14672609e+00, ...,\n",
              "         1.35675239e-02, 2.40000000e+02, 1.09452736e-01]]),\n",
              " array([[1.53786148e-01, 2.22325749e-02, 3.15236629e+00, ...,\n",
              "         1.35185571e-02, 1.50000000e+02, 1.10192837e-01],\n",
              "        [1.48264963e-01, 3.25877830e-02, 3.14880308e+00, ...,\n",
              "         1.31307246e-02, 1.50000000e+02, 1.09452736e-01],\n",
              "        [1.27794065e-01, 4.06843721e-02, 3.17579634e+00, ...,\n",
              "         1.42150880e-02, 1.20000000e+02, 1.18811880e-01],\n",
              "        ...,\n",
              "        [8.81898485e-02, 1.13139344e-01, 3.08820125e+00, ...,\n",
              "         9.75772314e-03, 1.50000000e+02, 9.73451321e-02],\n",
              "        [1.60221713e-01, 3.28179253e-02, 3.04012012e+00, ...,\n",
              "         9.11830296e-03, 1.71428571e+02, 1.09042553e-01],\n",
              "        [1.82979212e-01, 1.65528307e-02, 3.09465896e+00, ...,\n",
              "         9.21280137e-03, 2.40000000e+02, 1.02102101e-01]])]"
            ]
          },
          "execution_count": 11,
          "metadata": {},
          "output_type": "execute_result"
        }
      ],
      "source": [
        "features"
      ]
    },
    {
      "cell_type": "code",
      "execution_count": null,
      "id": "352ab074",
      "metadata": {
        "id": "352ab074",
        "outputId": "01053271-321f-421c-a82a-d0a731834f06"
      },
      "outputs": [
        {
          "name": "stdout",
          "output_type": "stream",
          "text": [
            "(12, 138) (12, 138)\n"
          ]
        }
      ],
      "source": [
        "print(features[0].shape, features[1].shape)"
      ]
    },
    {
      "cell_type": "code",
      "execution_count": null,
      "id": "651f7029",
      "metadata": {
        "id": "651f7029"
      },
      "outputs": [],
      "source": [
        "# select 2 features and create feature matrices for the two classes:\n",
        "f1 = np.array([features[0][:, fn.index('spectral_centroid_mean')],\n",
        "               features[0][:, fn.index('energy_entropy_mean')]])"
      ]
    },
    {
      "cell_type": "code",
      "execution_count": null,
      "id": "a0e7ff7c",
      "metadata": {
        "id": "a0e7ff7c"
      },
      "outputs": [],
      "source": [
        "f2 = np.array([features[1][:, fn.index('spectral_centroid_mean')],\n",
        "               features[1][:, fn.index('energy_entropy_mean')]])"
      ]
    },
    {
      "cell_type": "code",
      "execution_count": null,
      "id": "40d12848",
      "metadata": {
        "id": "40d12848"
      },
      "outputs": [],
      "source": [
        "# select 2 features and create feature matrices for the two classes:\n",
        "f1 = np.array([features[0][:, fn.index('spectral_centroid_mean')],\n",
        "               features[0][:, fn.index('energy_entropy_mean')]])\n",
        "f2 = np.array([features[1][:, fn.index('spectral_centroid_mean')],\n",
        "               features[1][:, fn.index('energy_entropy_mean')]])"
      ]
    },
    {
      "cell_type": "code",
      "execution_count": null,
      "id": "74f5203f",
      "metadata": {
        "id": "74f5203f"
      },
      "outputs": [],
      "source": [
        "#Prepare the data\n",
        "y = np.concatenate((np.zeros(f1.shape[1]), np.ones(f2.shape[1]))) \n",
        "f = np.concatenate((f1.T, f2.T), axis = 0)"
      ]
    },
    {
      "cell_type": "code",
      "execution_count": null,
      "id": "2b15555a",
      "metadata": {
        "id": "2b15555a"
      },
      "outputs": [],
      "source": [
        "#We need to scale the features\n",
        "f_s = f/f.max()"
      ]
    },
    {
      "cell_type": "code",
      "execution_count": null,
      "id": "a244f554",
      "metadata": {
        "id": "a244f554"
      },
      "outputs": [],
      "source": [
        "#Create a data frame\n",
        "df = pd.DataFrame(f, columns = ['scm', 'eem'])\n",
        "df['label'] = y\n",
        "df['label'] = df['label'].astype(int)"
      ]
    },
    {
      "cell_type": "code",
      "execution_count": null,
      "id": "d87fcd5e",
      "metadata": {
        "id": "d87fcd5e",
        "outputId": "5071bccc-9985-4b89-80e7-a16f6bd38a1a"
      },
      "outputs": [
        {
          "data": {
            "text/html": [
              "<div>\n",
              "<style scoped>\n",
              "    .dataframe tbody tr th:only-of-type {\n",
              "        vertical-align: middle;\n",
              "    }\n",
              "\n",
              "    .dataframe tbody tr th {\n",
              "        vertical-align: top;\n",
              "    }\n",
              "\n",
              "    .dataframe thead th {\n",
              "        text-align: right;\n",
              "    }\n",
              "</style>\n",
              "<table border=\"1\" class=\"dataframe\">\n",
              "  <thead>\n",
              "    <tr style=\"text-align: right;\">\n",
              "      <th></th>\n",
              "      <th>scm</th>\n",
              "      <th>eem</th>\n",
              "      <th>label</th>\n",
              "    </tr>\n",
              "  </thead>\n",
              "  <tbody>\n",
              "    <tr>\n",
              "      <th>0</th>\n",
              "      <td>0.149426</td>\n",
              "      <td>3.209471</td>\n",
              "      <td>0</td>\n",
              "    </tr>\n",
              "    <tr>\n",
              "      <th>1</th>\n",
              "      <td>0.140915</td>\n",
              "      <td>3.159590</td>\n",
              "      <td>0</td>\n",
              "    </tr>\n",
              "    <tr>\n",
              "      <th>2</th>\n",
              "      <td>0.163044</td>\n",
              "      <td>3.257173</td>\n",
              "      <td>0</td>\n",
              "    </tr>\n",
              "    <tr>\n",
              "      <th>3</th>\n",
              "      <td>0.118440</td>\n",
              "      <td>3.094551</td>\n",
              "      <td>0</td>\n",
              "    </tr>\n",
              "    <tr>\n",
              "      <th>4</th>\n",
              "      <td>0.172501</td>\n",
              "      <td>3.183388</td>\n",
              "      <td>0</td>\n",
              "    </tr>\n",
              "  </tbody>\n",
              "</table>\n",
              "</div>"
            ],
            "text/plain": [
              "        scm       eem  label\n",
              "0  0.149426  3.209471      0\n",
              "1  0.140915  3.159590      0\n",
              "2  0.163044  3.257173      0\n",
              "3  0.118440  3.094551      0\n",
              "4  0.172501  3.183388      0"
            ]
          },
          "execution_count": 34,
          "metadata": {},
          "output_type": "execute_result"
        }
      ],
      "source": [
        "df.head()"
      ]
    },
    {
      "cell_type": "code",
      "execution_count": null,
      "id": "ae474606",
      "metadata": {
        "id": "ae474606",
        "outputId": "65ab2af1-195a-44e9-9b34-c675bcb58207"
      },
      "outputs": [
        {
          "data": {
            "text/plain": [
              "<seaborn.axisgrid.PairGrid at 0x1a39820cbe0>"
            ]
          },
          "execution_count": 35,
          "metadata": {},
          "output_type": "execute_result"
        },
        {
          "data": {
            "image/png": "[encoded data removed]",
            "text/plain": [
              "<Figure size 402.375x360 with 6 Axes>"
            ]
          },
          "metadata": {
            "needs_background": "light"
          },
          "output_type": "display_data"
        }
      ],
      "source": [
        "#Visualize the songs\n",
        "sns.pairplot(df, hue = 'label')"
      ]
    },
    {
      "cell_type": "code",
      "execution_count": null,
      "id": "45f7078b",
      "metadata": {
        "id": "45f7078b",
        "outputId": "e3dd0a0b-cfd2-4fa7-bdf2-131dfe84e663"
      },
      "outputs": [
        {
          "name": "stderr",
          "output_type": "stream",
          "text": [
            "E:\\Warchest\\WP-Old\\python-3.9.5.amd64\\Lib\\site-packages\\pyAudioAnalysis\\..\\sklearn\\cluster\\_kmeans.py:1334: UserWarning: KMeans is known to have a memory leak on Windows with MKL, when there are less chunks than available threads. You can avoid it by setting the environment variable OMP_NUM_THREADS=1.\n",
            "  warnings.warn(\n"
          ]
        }
      ],
      "source": [
        "#Lets build the kmeans clusters\n",
        "from sklearn.cluster import KMeans\n",
        "\n",
        "km = KMeans(\n",
        "    n_clusters=2, init='random',\n",
        "    n_init=10, max_iter=300, \n",
        "    tol=1e-04, random_state=0\n",
        ")\n",
        "y_km = km.fit_predict(df[['scm', 'eem']])"
      ]
    },
    {
      "cell_type": "code",
      "execution_count": null,
      "id": "28ce5c11",
      "metadata": {
        "id": "28ce5c11"
      },
      "outputs": [],
      "source": [
        "df['predicted'] = y_km"
      ]
    },
    {
      "cell_type": "code",
      "execution_count": null,
      "id": "96da6e88",
      "metadata": {
        "id": "96da6e88",
        "outputId": "674cb6ee-dcb5-4c30-c5da-d6ebfa4845c6"
      },
      "outputs": [
        {
          "data": {
            "text/plain": [
              "array([[ 6,  6],\n",
              "       [11,  1]], dtype=int64)"
            ]
          },
          "execution_count": 41,
          "metadata": {},
          "output_type": "execute_result"
        }
      ],
      "source": [
        "from sklearn.metrics import confusion_matrix\n",
        "\n",
        "confusion_matrix(df.label, df.predicted)"
      ]
    },
    {
      "cell_type": "code",
      "execution_count": null,
      "id": "9afe7694",
      "metadata": {
        "id": "9afe7694"
      },
      "outputs": [],
      "source": []
    }
  ],
  "metadata": {
    "kernelspec": {
      "display_name": "Python 3",
      "language": "python",
      "name": "python3"
    },
    "language_info": {
      "codemirror_mode": {
        "name": "ipython",
        "version": 3
      },
      "file_extension": ".py",
      "mimetype": "text/x-python",
      "name": "python",
      "nbconvert_exporter": "python",
      "pygments_lexer": "ipython3",
      "version": "3.9.5"
    },
    "colab": {
      "provenance": [],
      "include_colab_link": true
    }
  },
  "nbformat": 4,
  "nbformat_minor": 5
}