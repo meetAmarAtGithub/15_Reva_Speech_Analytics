{
  "nbformat": 4,
  "nbformat_minor": 0,
  "metadata": {
    "colab": {
      "provenance": [],
      "authorship_tag": "ABX9TyNKnZE3YModf39Dn+0JD9LO",
      "include_colab_link": true
    },
    "kernelspec": {
      "name": "python3",
      "display_name": "Python 3"
    },
    "language_info": {
      "name": "python"
    }
  },
  "cells": [
    {
      "cell_type": "markdown",
      "metadata": {
        "id": "view-in-github",
        "colab_type": "text"
      },
      "source": [
        "<a href=\"https://colab.research.google.com/github/meetAmarAtGithub/15_Reva_Speech_Analytics/blob/main/Sesssion2_SpeechAnalytics.ipynb\" target=\"_parent\"><img src=\"https://colab.research.google.com/assets/colab-badge.svg\" alt=\"Open In Colab\"/></a>"
      ]
    },
    {
      "cell_type": "code",
      "source": [
        "from google.colab import drive\n",
        "drive.mount('/content/gdrive')"
      ],
      "metadata": {
        "colab": {
          "base_uri": "https://localhost:8080/"
        },
        "id": "8qFWHreMHdjT",
        "outputId": "8b7e3db8-989c-44a3-a399-5b7c96deb39f"
      },
      "execution_count": 33,
      "outputs": [
        {
          "output_type": "stream",
          "name": "stdout",
          "text": [
            "Drive already mounted at /content/gdrive; to attempt to forcibly remount, call drive.mount(\"/content/gdrive\", force_remount=True).\n"
          ]
        }
      ]
    },
    {
      "cell_type": "code",
      "source": [
        "%cd \"/content/gdrive/My Drive/Colab Notebooks/Reva/15_Speech_Analytics/\""
      ],
      "metadata": {
        "colab": {
          "base_uri": "https://localhost:8080/"
        },
        "id": "BbZRlXfAH7oB",
        "outputId": "0f1608cc-67f6-4f5b-fc5e-9738c7e57b99"
      },
      "execution_count": 34,
      "outputs": [
        {
          "output_type": "stream",
          "name": "stdout",
          "text": [
            "/content/gdrive/My Drive/Colab Notebooks/Reva/15_Speech_Analytics\n"
          ]
        }
      ]
    },
    {
      "cell_type": "code",
      "execution_count": 35,
      "metadata": {
        "id": "PEJxtezHCe4T"
      },
      "outputs": [],
      "source": [
        "import numpy as np\n",
        "import librosa"
      ]
    },
    {
      "cell_type": "code",
      "source": [
        "ls"
      ],
      "metadata": {
        "colab": {
          "base_uri": "https://localhost:8080/"
        },
        "id": "IrhaUlDKWeDM",
        "outputId": "4073cf9e-b663-440e-856f-2e82a6b2b410"
      },
      "execution_count": 38,
      "outputs": [
        {
          "output_type": "stream",
          "name": "stdout",
          "text": [
            "1_SpeechAnalytics.ipynb           session1_violin-origional.wav\n",
            "Session_1_Speech_analytics.ipynb  Sesssion2_SpeechAnalytics.ipynb\n"
          ]
        }
      ]
    },
    {
      "cell_type": "code",
      "source": [
        "# Specify the path to the audio file\n",
        "#C:\\Users\\Amarnath\\Desktop\\Reva\\15_Speech_Analytics\n",
        "#audio_path = \"C:\\\\Users\\\\Amarnath\\\\Desktop\\\\Reva\\\\15_Speech_Analytics\\\\session1_violin_origional.wav\"\n",
        "audio_path = 'session1_violin-origional.wav'\n",
        "\n",
        "# Load the audio file\n",
        "audio, sample_rate = librosa.load(audio_path)"
      ],
      "metadata": {
        "id": "oB9OQ3DjCjan"
      },
      "execution_count": 40,
      "outputs": []
    },
    {
      "cell_type": "code",
      "source": [
        "len(audio)"
      ],
      "metadata": {
        "colab": {
          "base_uri": "https://localhost:8080/"
        },
        "id": "EKkXHWq5D6n-",
        "outputId": "77d22ca2-4e23-45b3-c171-414087ae770c"
      },
      "execution_count": 41,
      "outputs": [
        {
          "output_type": "execute_result",
          "data": {
            "text/plain": [
              "110250"
            ]
          },
          "metadata": {},
          "execution_count": 41
        }
      ]
    },
    {
      "cell_type": "code",
      "source": [
        "#Min-max transform score\n",
        "def min_max_normalization(audio):\n",
        "  minx = np.min(audio)\n",
        "  maxx = np.max(audio)\n",
        "  normalized_data = (audio - minx) / (maxx - minx)\n",
        "  return normalized_data"
      ],
      "metadata": {
        "id": "l7Do1_VvDP8y"
      },
      "execution_count": 42,
      "outputs": []
    },
    {
      "cell_type": "code",
      "source": [
        "mmnd = min_max_normalization(audio)\n",
        "print(\"Original data : \", audio[:5])\n",
        "print(\"Scaled data : \", mmnd[:5])"
      ],
      "metadata": {
        "colab": {
          "base_uri": "https://localhost:8080/"
        },
        "id": "m7e91UJLFgPS",
        "outputId": "59ffa888-0cab-4790-8add-dd1b8765b5da"
      },
      "execution_count": 43,
      "outputs": [
        {
          "output_type": "stream",
          "name": "stdout",
          "text": [
            "Original data :  [3.6351426e-05 2.4562608e-04 3.2114607e-04 1.9103831e-04 2.6651236e-05]\n",
            "Scaled data :  [0.42713943 0.42734385 0.4274176  0.4272905  0.42712995]\n"
          ]
        }
      ]
    },
    {
      "cell_type": "code",
      "source": [
        "#Z-Trnasform score\n",
        "def z_score_transform(audio):\n",
        "  mu = np.mean(audio)\n",
        "  sd = np.std(audio)\n",
        "  normalized_data = (audio - mu) / sd\n",
        "  return normalized_data"
      ],
      "metadata": {
        "id": "PP7FzujDEiZj"
      },
      "execution_count": 44,
      "outputs": []
    },
    {
      "cell_type": "code",
      "source": [
        "#Test Z-transform\n",
        "ztd = z_score_transform(audio)\n",
        "print(ztd[:5])"
      ],
      "metadata": {
        "colab": {
          "base_uri": "https://localhost:8080/"
        },
        "id": "szXg-Hq_FDFo",
        "outputId": "2e00db5a-c11c-4b32-b9bf-575845fd6ba8"
      },
      "execution_count": 45,
      "outputs": [
        {
          "output_type": "stream",
          "name": "stdout",
          "text": [
            "[0.00096504 0.00341933 0.004305   0.00277915 0.00085128]\n"
          ]
        }
      ]
    },
    {
      "cell_type": "code",
      "source": [
        "#Peak  amplitude transform\n",
        "def peak_amplitude_audio(audio):\n",
        "  peak = max(audio)\n",
        "  normalized_peak = audio / peak\n",
        "  return normalized_peak"
      ],
      "metadata": {
        "id": "YkDaqRxLGi_r"
      },
      "execution_count": 46,
      "outputs": []
    },
    {
      "cell_type": "code",
      "source": [
        "#Test peak amplitude transform\n",
        "pat= peak_amplitude_audio(audio)\n",
        "print(pat[:5])"
      ],
      "metadata": {
        "colab": {
          "base_uri": "https://localhost:8080/"
        },
        "id": "PEqDsluHG6fp",
        "outputId": "e8a78470-b9e5-4dc2-aadb-b4dd0526f2c7"
      },
      "execution_count": 47,
      "outputs": [
        {
          "output_type": "stream",
          "name": "stdout",
          "text": [
            "[6.1972278e-05 4.1874580e-04 5.4749305e-04 3.2568403e-04 4.5435296e-05]\n"
          ]
        }
      ]
    },
    {
      "cell_type": "markdown",
      "source": [
        "Resampling"
      ],
      "metadata": {
        "id": "8HwogWVtIxDJ"
      }
    },
    {
      "cell_type": "code",
      "source": [
        "from scipy.interpolate  import interp1d"
      ],
      "metadata": {
        "id": "8OfPDILEHAwP"
      },
      "execution_count": 48,
      "outputs": []
    },
    {
      "cell_type": "code",
      "source": [
        "def nearest_neighbour_resampling(audio, target_length):\n",
        "  original_length = len(audio)\n",
        "  x = np.arange(original_length)\n",
        "  f = interp1d(x, audio, kind = 'nearest')\n",
        "  resampled_audio = f (np.linspace(0, original_length -  1, target_length))\n",
        "  return resampled_audio"
      ],
      "metadata": {
        "id": "EXwk5_jgJMV1"
      },
      "execution_count": 51,
      "outputs": []
    },
    {
      "cell_type": "code",
      "source": [
        "print(\"current sample rate - \", sample_rate)\n",
        "target_sr = int(0.8 * sample_rate)\n",
        "print(\"Target Sample rate - \" , target_sr)\n",
        "nnrs = nearest_neighbour_resampling(audio , target_sr)\n",
        "print(len(audio), len(nnrs))\n",
        "print(nnrs[:5])"
      ],
      "metadata": {
        "colab": {
          "base_uri": "https://localhost:8080/"
        },
        "id": "E9bDLU23Krgi",
        "outputId": "048bcfa8-5610-46e3-d9ad-fd92424f150e"
      },
      "execution_count": 52,
      "outputs": [
        {
          "output_type": "stream",
          "name": "stdout",
          "text": [
            "current sample rate -  22050\n",
            "Target Sample rate -  17640\n",
            "110250 17640\n",
            "[ 3.6351426e-05  3.2762761e-04  1.5134944e-04 -1.5314802e-04\n",
            " -9.8524135e-05]\n"
          ]
        }
      ]
    },
    {
      "cell_type": "code",
      "source": [],
      "metadata": {
        "id": "y37Gw_rSW0Iz"
      },
      "execution_count": null,
      "outputs": []
    }
  ]
}