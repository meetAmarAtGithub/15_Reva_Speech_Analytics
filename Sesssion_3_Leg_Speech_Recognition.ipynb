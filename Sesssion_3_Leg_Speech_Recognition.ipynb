{
  "nbformat": 4,
  "nbformat_minor": 0,
  "metadata": {
    "colab": {
      "provenance": [],
      "authorship_tag": "ABX9TyM+9M5eP7eVycfGzqbu7mt1",
      "include_colab_link": true
    },
    "kernelspec": {
      "name": "python3",
      "display_name": "Python 3"
    },
    "language_info": {
      "name": "python"
    }
  },
  "cells": [
    {
      "cell_type": "markdown",
      "metadata": {
        "id": "view-in-github",
        "colab_type": "text"
      },
      "source": [
        "<a href=\"https://colab.research.google.com/github/meetAmarAtGithub/15_Reva_Speech_Analytics/blob/main/Sesssion_3_Leg_Speech_Recognition.ipynb\" target=\"_parent\"><img src=\"https://colab.research.google.com/assets/colab-badge.svg\" alt=\"Open In Colab\"/></a>"
      ]
    },
    {
      "cell_type": "markdown",
      "source": [
        "## Simple Speech Recognition\n"
      ],
      "metadata": {
        "id": "Xi0jFxG1_RaO"
      }
    },
    {
      "cell_type": "code",
      "source": [
        "from google.colab import drive\n",
        "drive.mount('/content/gdrive')"
      ],
      "metadata": {
        "colab": {
          "base_uri": "https://localhost:8080/"
        },
        "id": "uLj2oEYOFjKr",
        "outputId": "67ce3cdf-0443-44ff-f96c-71dc9a473155"
      },
      "execution_count": 8,
      "outputs": [
        {
          "output_type": "stream",
          "name": "stdout",
          "text": [
            "Mounted at /content/gdrive\n"
          ]
        }
      ]
    },
    {
      "cell_type": "code",
      "source": [
        "%cd \"/content/gdrive/My Drive/Colab Notebooks/Reva/15_Speech_Analytics/speech recognition mini dataset/\""
      ],
      "metadata": {
        "colab": {
          "base_uri": "https://localhost:8080/"
        },
        "id": "lnxPVcdaFubH",
        "outputId": "e99e896e-b4e4-4967-86f9-dfb1947e7200"
      },
      "execution_count": 9,
      "outputs": [
        {
          "output_type": "stream",
          "name": "stdout",
          "text": [
            "/content/gdrive/My Drive/Colab Notebooks/Reva/15_Speech_Analytics/speech recognition mini dataset\n"
          ]
        }
      ]
    },
    {
      "cell_type": "code",
      "source": [
        "!pip install pyAudioAnalysis"
      ],
      "metadata": {
        "colab": {
          "base_uri": "https://localhost:8080/"
        },
        "id": "SkBRR0Q4AZvS",
        "outputId": "56572080-46d9-4dd7-b92a-2f153a27a074"
      },
      "execution_count": 2,
      "outputs": [
        {
          "output_type": "stream",
          "name": "stdout",
          "text": [
            "Looking in indexes: https://pypi.org/simple, https://us-python.pkg.dev/colab-wheels/public/simple/\n",
            "Collecting pyAudioAnalysis\n",
            "  Downloading pyAudioAnalysis-0.3.14.tar.gz (41.3 MB)\n",
            "\u001b[2K     \u001b[90m━━━━━━━━━━━━━━━━━━━━━━━━━━━━━━━━━━━━━━━━\u001b[0m \u001b[32m41.3/41.3 MB\u001b[0m \u001b[31m8.7 MB/s\u001b[0m eta \u001b[36m0:00:00\u001b[0m\n",
            "\u001b[?25h  Preparing metadata (setup.py) ... \u001b[?25l\u001b[?25hdone\n",
            "Building wheels for collected packages: pyAudioAnalysis\n",
            "  Building wheel for pyAudioAnalysis (setup.py) ... \u001b[?25l\u001b[?25hdone\n",
            "  Created wheel for pyAudioAnalysis: filename=pyAudioAnalysis-0.3.14-py3-none-any.whl size=41264374 sha256=0f9c20ab7810820fc05f221abade3f4211737c5dad94581178420635e80213fb\n",
            "  Stored in directory: /root/.cache/pip/wheels/a7/54/73/fa830689c2440d2c81ff175c60e374930ad1607a8881e0f43f\n",
            "Successfully built pyAudioAnalysis\n",
            "Installing collected packages: pyAudioAnalysis\n",
            "Successfully installed pyAudioAnalysis-0.3.14\n"
          ]
        }
      ]
    },
    {
      "cell_type": "code",
      "source": [
        "!pip install eyed3"
      ],
      "metadata": {
        "colab": {
          "base_uri": "https://localhost:8080/"
        },
        "id": "cZ6wP3lAAehb",
        "outputId": "920b2df8-42b5-433b-f551-a2e154ef2413"
      },
      "execution_count": 3,
      "outputs": [
        {
          "output_type": "stream",
          "name": "stdout",
          "text": [
            "Looking in indexes: https://pypi.org/simple, https://us-python.pkg.dev/colab-wheels/public/simple/\n",
            "Collecting eyed3\n",
            "  Downloading eyed3-0.9.7-py3-none-any.whl (246 kB)\n",
            "\u001b[2K     \u001b[90m━━━━━━━━━━━━━━━━━━━━━━━━━━━━━━━━━━━━━━━\u001b[0m \u001b[32m246.1/246.1 kB\u001b[0m \u001b[31m9.1 MB/s\u001b[0m eta \u001b[36m0:00:00\u001b[0m\n",
            "\u001b[?25hCollecting coverage[toml]<6.0.0,>=5.3.1 (from eyed3)\n",
            "  Downloading coverage-5.5-cp310-cp310-manylinux1_x86_64.whl (238 kB)\n",
            "\u001b[2K     \u001b[90m━━━━━━━━━━━━━━━━━━━━━━━━━━━━━━━━━━━━━━\u001b[0m \u001b[32m239.0/239.0 kB\u001b[0m \u001b[31m26.8 MB/s\u001b[0m eta \u001b[36m0:00:00\u001b[0m\n",
            "\u001b[?25hCollecting deprecation<3.0.0,>=2.1.0 (from eyed3)\n",
            "  Downloading deprecation-2.1.0-py2.py3-none-any.whl (11 kB)\n",
            "Collecting filetype<2.0.0,>=1.0.7 (from eyed3)\n",
            "  Downloading filetype-1.2.0-py2.py3-none-any.whl (19 kB)\n",
            "Requirement already satisfied: toml in /usr/local/lib/python3.10/dist-packages (from coverage[toml]<6.0.0,>=5.3.1->eyed3) (0.10.2)\n",
            "Requirement already satisfied: packaging in /usr/local/lib/python3.10/dist-packages (from deprecation<3.0.0,>=2.1.0->eyed3) (23.1)\n",
            "Installing collected packages: filetype, deprecation, coverage, eyed3\n",
            "Successfully installed coverage-5.5 deprecation-2.1.0 eyed3-0.9.7 filetype-1.2.0\n"
          ]
        }
      ]
    },
    {
      "cell_type": "code",
      "source": [
        "!pip install pydub"
      ],
      "metadata": {
        "colab": {
          "base_uri": "https://localhost:8080/"
        },
        "id": "YNKK06HEAfQU",
        "outputId": "7a889843-0fb2-4e0f-ea6a-94345305684f"
      },
      "execution_count": 4,
      "outputs": [
        {
          "output_type": "stream",
          "name": "stdout",
          "text": [
            "Looking in indexes: https://pypi.org/simple, https://us-python.pkg.dev/colab-wheels/public/simple/\n",
            "Collecting pydub\n",
            "  Downloading pydub-0.25.1-py2.py3-none-any.whl (32 kB)\n",
            "Installing collected packages: pydub\n",
            "Successfully installed pydub-0.25.1\n"
          ]
        }
      ]
    },
    {
      "cell_type": "code",
      "execution_count": 52,
      "metadata": {
        "id": "3tXUdxA7-qn5"
      },
      "outputs": [],
      "source": [
        "#import the required files\n",
        "from pyAudioAnalysis import MidTermFeatures as aF\n",
        "import os\n",
        "import numpy as np\n",
        "from sklearn.svm import SVC\n",
        "import plotly.graph_objs as go\n",
        "import plotly"
      ]
    },
    {
      "cell_type": "code",
      "source": [
        "#Load the data\n",
        "path = \"/content/gdrive/My Drive/Colab Notebooks/Reva/15_Speech_Analytics/speech recognition mini dataset\""
      ],
      "metadata": {
        "id": "r9ixEf66H2p_"
      },
      "execution_count": 53,
      "outputs": []
    },
    {
      "cell_type": "code",
      "source": [
        "dirs = [path+\"/up/\", path+\"/down/\"] "
      ],
      "metadata": {
        "id": "e5AgFNQiAPfR"
      },
      "execution_count": 54,
      "outputs": []
    },
    {
      "cell_type": "code",
      "source": [
        "class_names = ['up', 'down'] \n",
        "print(class_names)"
      ],
      "metadata": {
        "colab": {
          "base_uri": "https://localhost:8080/"
        },
        "id": "KkDmFemiIDNm",
        "outputId": "1527a6e3-40dd-435e-dd99-799a1ad71838"
      },
      "execution_count": 55,
      "outputs": [
        {
          "output_type": "stream",
          "name": "stdout",
          "text": [
            "['up', 'down']\n"
          ]
        }
      ]
    },
    {
      "cell_type": "code",
      "source": [
        "#initialize minimu window, minimum step, window size and step size\n",
        "m_win, m_step, s_win, s_step = 1, 1, 0.1, 0.05"
      ],
      "metadata": {
        "id": "vnn4_gXSIHhT"
      },
      "execution_count": 56,
      "outputs": []
    },
    {
      "cell_type": "code",
      "source": [
        "# segment-level feature extraction:\n",
        "features = [] "
      ],
      "metadata": {
        "id": "ocCaZF-rIT0A"
      },
      "execution_count": 57,
      "outputs": []
    },
    {
      "cell_type": "code",
      "source": [
        "features = [] \n",
        "for d in dirs: # get feature matrix for each directory (class)\n",
        "    print(d)\n",
        "    f, files, fn = aF.directory_feature_extraction(d, m_win, m_step, \n",
        "                                                   s_win, s_step) \n",
        "    features.append(f)"
      ],
      "metadata": {
        "colab": {
          "base_uri": "https://localhost:8080/"
        },
        "id": "-yVJdBgPIWPX",
        "outputId": "91d98180-1916-4ae6-8993-f26ad8dd1050"
      },
      "execution_count": 58,
      "outputs": [
        {
          "output_type": "stream",
          "name": "stdout",
          "text": [
            "/content/gdrive/My Drive/Colab Notebooks/Reva/15_Speech_Analytics/speech recognition mini dataset/up/\n",
            "Analyzing file 1 of 6: /content/gdrive/My Drive/Colab Notebooks/Reva/15_Speech_Analytics/speech recognition mini dataset/up/0ab3b47d_nohash_0.wav\n",
            "Analyzing file 2 of 6: /content/gdrive/My Drive/Colab Notebooks/Reva/15_Speech_Analytics/speech recognition mini dataset/up/0ac15fe9_nohash_0.wav\n",
            "Analyzing file 3 of 6: /content/gdrive/My Drive/Colab Notebooks/Reva/15_Speech_Analytics/speech recognition mini dataset/up/0b40aa8e_nohash_1.wav\n",
            "Analyzing file 4 of 6: /content/gdrive/My Drive/Colab Notebooks/Reva/15_Speech_Analytics/speech recognition mini dataset/up/0c5027de_nohash_1.wav\n",
            "Analyzing file 5 of 6: /content/gdrive/My Drive/Colab Notebooks/Reva/15_Speech_Analytics/speech recognition mini dataset/up/0d2bcf9d_nohash_0.wav\n",
            "Analyzing file 6 of 6: /content/gdrive/My Drive/Colab Notebooks/Reva/15_Speech_Analytics/speech recognition mini dataset/up/0d2bcf9d_nohash_1.wav\n",
            "Feature extraction complexity ratio: 19.2 x realtime\n",
            "/content/gdrive/My Drive/Colab Notebooks/Reva/15_Speech_Analytics/speech recognition mini dataset/down/\n",
            "Analyzing file 1 of 10: /content/gdrive/My Drive/Colab Notebooks/Reva/15_Speech_Analytics/speech recognition mini dataset/down/00b01445_nohash_1.wav\n",
            "Analyzing file 2 of 10: /content/gdrive/My Drive/Colab Notebooks/Reva/15_Speech_Analytics/speech recognition mini dataset/down/00f0204f_nohash_0.wav\n",
            "Analyzing file 3 of 10: /content/gdrive/My Drive/Colab Notebooks/Reva/15_Speech_Analytics/speech recognition mini dataset/down/0a9f9af7_nohash_0.wav\n",
            "Analyzing file 4 of 10: /content/gdrive/My Drive/Colab Notebooks/Reva/15_Speech_Analytics/speech recognition mini dataset/down/0ab3b47d_nohash_0.wav\n",
            "Analyzing file 5 of 10: /content/gdrive/My Drive/Colab Notebooks/Reva/15_Speech_Analytics/speech recognition mini dataset/down/0ab3b47d_nohash_1.wav\n",
            "Analyzing file 6 of 10: /content/gdrive/My Drive/Colab Notebooks/Reva/15_Speech_Analytics/speech recognition mini dataset/down/0b77ee66_nohash_0.wav\n",
            "Analyzing file 7 of 10: /content/gdrive/My Drive/Colab Notebooks/Reva/15_Speech_Analytics/speech recognition mini dataset/down/0c2ca723_nohash_0.wav\n",
            "Analyzing file 8 of 10: /content/gdrive/My Drive/Colab Notebooks/Reva/15_Speech_Analytics/speech recognition mini dataset/down/0cd323ec_nohash_0.wav\n",
            "Analyzing file 9 of 10: /content/gdrive/My Drive/Colab Notebooks/Reva/15_Speech_Analytics/speech recognition mini dataset/down/0e17f595_nohash_0.wav\n",
            "Analyzing file 10 of 10: /content/gdrive/My Drive/Colab Notebooks/Reva/15_Speech_Analytics/speech recognition mini dataset/down/0e5193e6_nohash_0.wav\n",
            "Feature extraction complexity ratio: 21.0 x realtime\n"
          ]
        }
      ]
    },
    {
      "cell_type": "code",
      "source": [
        "features"
      ],
      "metadata": {
        "colab": {
          "base_uri": "https://localhost:8080/"
        },
        "id": "M7k3FFztIfBT",
        "outputId": "dbb6463f-4d40-49df-bdee-9889a898f08b"
      },
      "execution_count": 59,
      "outputs": [
        {
          "output_type": "execute_result",
          "data": {
            "text/plain": [
              "[array([[ 8.60120909e-02,  2.47440034e-02,  2.53891120e+00,\n",
              "          2.99563121e-01,  2.50476527e-01,  1.06079218e+00,\n",
              "          3.12751062e-03,  1.76000000e-01, -3.19376197e+01,\n",
              "          6.17611764e-01, -7.42737414e-01,  2.79366910e-01,\n",
              "          1.54879551e-01,  1.12555598e-01,  1.79155084e-01,\n",
              "         -2.73185029e-01,  1.78320909e-01,  5.06723897e-02,\n",
              "         -6.87264045e-02,  6.62465027e-02, -7.67686270e-02,\n",
              "          2.78384998e-03,  2.44667866e-03,  8.73647457e-02,\n",
              "          2.62152492e-03,  3.94828755e-03,  1.98358846e-03,\n",
              "          3.78439185e-03,  2.35912490e-03,  3.81848955e-03,\n",
              "          4.11877234e-03,  3.29353544e-03,  1.62358451e-03,\n",
              "          2.45511902e-02,  6.25390869e-03,  3.94315994e-07,\n",
              "         -7.93258779e-02, -1.17204382e-02, -6.53485513e-03,\n",
              "          6.68877177e-02,  1.15047178e-04,  7.50000000e-04,\n",
              "          3.54155817e-01, -3.95834863e-02, -5.27020820e-02,\n",
              "          5.95714929e-04, -1.61737243e-02,  6.21250736e-04,\n",
              "          4.42240843e-02, -3.55433659e-02,  2.12790791e-02,\n",
              "          1.00756769e-02,  9.99141515e-03,  2.12653880e-02,\n",
              "          1.04827666e-02,  2.74970702e-04,  1.80093123e-04,\n",
              "         -5.73855647e-03,  4.48864531e-04,  5.67298671e-04,\n",
              "          2.85283993e-04,  6.95962485e-04,  2.74836470e-04,\n",
              "          1.47959857e-04,  6.80874312e-04,  3.26519767e-04,\n",
              "          6.53931539e-05, -1.66152542e-03,  7.22441927e-02,\n",
              "          5.38337072e-02,  9.31394919e-01,  7.12706400e-02,\n",
              "          4.66367616e-02,  5.96816013e-01,  6.69678076e-03,\n",
              "          1.27557340e-01,  7.13465631e+00,  8.04732879e-01,\n",
              "          1.07754659e+00,  2.86233144e-01,  2.90678586e-01,\n",
              "          2.22573513e-01,  2.01250737e-01,  3.88854948e-01,\n",
              "          1.67280912e-01,  1.57057108e-01,  2.51397646e-01,\n",
              "          1.13391266e-01,  2.60383688e-01,  1.92934017e-03,\n",
              "          3.39316673e-03,  6.98253209e-02,  2.09553044e-03,\n",
              "          2.97171562e-03,  2.18212414e-03,  3.00428946e-03,\n",
              "          3.07451933e-03,  4.08592695e-03,  4.18363175e-03,\n",
              "          2.28845522e-03,  1.31900875e-03,  1.82832420e-02,\n",
              "          3.30602538e-02,  5.01194644e-02,  1.00488925e+00,\n",
              "          3.70165679e-02,  2.89173799e-02,  3.59949500e-01,\n",
              "          9.73258354e-03,  1.39149051e-01,  3.77833806e+00,\n",
              "          6.83196453e-01,  6.02723805e-01,  2.85117783e-01,\n",
              "          3.61508887e-01,  2.30149936e-01,  1.70155250e-01,\n",
              "          2.63511289e-01,  1.56628624e-01,  1.97543404e-01,\n",
              "          3.13827482e-01,  1.11916175e-01,  2.07803523e-01,\n",
              "          2.59940204e-03,  2.91900177e-03,  4.05287935e-02,\n",
              "          1.99967003e-03,  2.90028905e-03,  1.97454538e-03,\n",
              "          3.59123118e-03,  2.60664803e-03,  3.89463723e-03,\n",
              "          4.10816759e-03,  2.67629635e-03,  1.34320428e-03,\n",
              "          1.07536786e-02,  3.00000000e+02,  3.33333317e-01],\n",
              "        [ 1.22049965e-01,  2.76167811e-02,  3.00137613e+00,\n",
              "          3.43780096e-01,  2.43354408e-01,  1.40219374e+00,\n",
              "          1.70706569e-03,  3.37434211e-01, -2.74869432e+01,\n",
              "         -1.82718676e-01, -1.27892182e-01,  1.41564655e-01,\n",
              "          6.03109630e-01,  2.20025537e-01,  1.32742514e-01,\n",
              "          1.95224420e-01, -3.86288972e-03,  1.22538181e-01,\n",
              "         -2.44432039e-02,  6.56107402e-02, -1.95529559e-01,\n",
              "          1.02300376e-03,  5.42439010e-04,  2.37795524e-03,\n",
              "          1.33796257e-02,  5.52357242e-01,  1.22777419e-03,\n",
              "          2.31852353e-03,  2.48731051e-03,  5.70309648e-03,\n",
              "          2.52608181e-03,  1.02323813e-03,  1.19954047e-03,\n",
              "          1.53089496e-01,  4.73980448e-03,  1.07913730e-05,\n",
              "         -5.98408973e-03,  4.76232415e-04,  1.15357008e-04,\n",
              "          5.65556103e-02,  5.25051769e-05,  1.24342105e-02,\n",
              "          1.38774074e-01,  2.25762587e-02, -1.63681036e-02,\n",
              "         -1.73003587e-02, -8.15783484e-03, -7.43473673e-03,\n",
              "         -7.21399556e-03, -1.03196699e-02, -1.41090435e-02,\n",
              "          1.19336637e-03, -9.67074141e-03,  3.57379196e-03,\n",
              "         -1.96843142e-03,  5.38372547e-05,  2.56388403e-05,\n",
              "          2.04911897e-04, -3.18159054e-04, -1.50549079e-02,\n",
              "          3.91059012e-05,  8.97224565e-05,  2.82768395e-05,\n",
              "          8.82812556e-05, -2.04971468e-05,  1.41328026e-04,\n",
              "          5.88296281e-05, -4.17189880e-03,  3.52405999e-02,\n",
              "          6.42538488e-02,  5.61465455e-01,  5.04357478e-02,\n",
              "          2.02119809e-02,  5.42077007e-01,  2.73869178e-03,\n",
              "          1.18855198e-01,  3.69446989e+00,  1.69372912e-01,\n",
              "          8.70791326e-01,  3.93634030e-01,  3.36047235e-01,\n",
              "          1.50363230e-01,  1.16338302e-01,  1.90392897e-01,\n",
              "          3.49736379e-01,  1.38531708e-01,  2.06492690e-01,\n",
              "          1.60692339e-01,  1.78644773e-01,  1.07464037e-03,\n",
              "          4.64959362e-04,  1.50389969e-03,  6.25923924e-03,\n",
              "          3.22572831e-01,  1.37299784e-03,  4.79048479e-03,\n",
              "          3.81210664e-03,  1.17076762e-02,  1.60609426e-03,\n",
              "          1.08967575e-03,  1.12945876e-03,  8.74640967e-02,\n",
              "          2.09072591e-02,  5.44061484e-02,  7.63507809e-01,\n",
              "          4.05985971e-02,  1.49321091e-02,  3.39843109e-01,\n",
              "          3.74115155e-03,  8.08695279e-02,  2.67814104e+00,\n",
              "          1.94732001e-01,  6.31114476e-01,  3.05494618e-01,\n",
              "          2.68692413e-01,  1.89173729e-01,  1.49973076e-01,\n",
              "          2.16753648e-01,  2.66630474e-01,  1.70476243e-01,\n",
              "          1.34786962e-01,  1.43459017e-01,  1.42355332e-01,\n",
              "          7.44942635e-04,  5.42916105e-04,  1.79223185e-03,\n",
              "          5.15004643e-03,  2.43024578e-01,  1.34468284e-03,\n",
              "          6.36079245e-03,  3.61992585e-03,  9.67061991e-03,\n",
              "          2.31511957e-03,  1.14159826e-03,  1.05487240e-03,\n",
              "          6.64100173e-02,  1.50000000e+02,  2.22222218e-01],\n",
              "        [ 1.26625193e-01,  8.83157456e-03,  2.59955886e+00,\n",
              "          2.55827098e-01,  2.27287919e-01,  9.72228805e-01,\n",
              "          3.71250043e-03,  1.90000000e-01, -3.17146991e+01,\n",
              "          6.24892790e-01,  2.20621633e-02,  3.82483004e-01,\n",
              "          2.18327666e-01,  6.36880754e-02,  1.32290405e-01,\n",
              "         -1.03260617e-01,  1.87012173e-01, -6.24771194e-03,\n",
              "         -4.65995170e-02,  1.05605564e-01, -2.84732066e-02,\n",
              "          3.58997925e-03,  3.23841348e-03,  1.71663499e-01,\n",
              "          3.08914605e-03,  5.19324006e-02,  2.52875027e-03,\n",
              "          7.19764434e-02,  1.14018739e-03,  2.35514557e-03,\n",
              "          5.82344363e-03,  2.00334587e-02,  1.89388394e-03,\n",
              "          5.33160096e-02,  4.80563510e-03, -1.42766318e-07,\n",
              "          1.34679124e-03,  1.51312820e-03, -9.57376439e-04,\n",
              "          4.25622077e-02,  9.06062135e-05,  1.43421053e-02,\n",
              "          1.42648298e-02, -2.73961297e-02, -9.01109551e-03,\n",
              "          5.11247865e-03, -1.64001120e-02, -1.05498800e-02,\n",
              "          1.49715669e-02,  7.92096274e-03,  1.51644982e-02,\n",
              "          1.73643157e-03, -6.57510534e-03,  1.14706707e-02,\n",
              "         -8.18459292e-03,  1.09534782e-05,  4.58156787e-05,\n",
              "         -2.77814430e-02,  1.67105799e-04,  5.47589264e-03,\n",
              "          5.05930765e-06, -4.87795399e-03, -1.17899072e-06,\n",
              "         -1.07321044e-05,  7.34642191e-05, -8.95051810e-05,\n",
              "         -1.16112112e-05, -6.47543874e-03,  4.91681785e-02,\n",
              "          2.03594658e-02,  6.49481697e-01,  2.87033285e-02,\n",
              "          4.17485947e-02,  4.54103868e-01,  3.33070512e-03,\n",
              "          1.50335152e-01,  5.38716688e+00,  7.09301397e-01,\n",
              "          8.08766889e-01,  2.11871447e-01,  1.98940495e-01,\n",
              "          2.70096164e-01,  1.66350718e-01,  3.19524960e-01,\n",
              "          1.89212027e-01,  1.65556754e-01,  2.58250116e-01,\n",
              "          1.52360583e-01,  2.07929815e-01,  2.69983197e-03,\n",
              "          5.74506555e-03,  1.51887415e-01,  2.46869876e-03,\n",
              "          4.35747244e-02,  1.62201328e-03,  7.00487513e-02,\n",
              "          1.17554002e-03,  3.21784776e-03,  4.37564790e-03,\n",
              "          2.34066881e-02,  2.25988061e-03,  4.13328823e-02,\n",
              "          4.20740314e-02,  1.66709072e-02,  7.72635211e-01,\n",
              "          3.04614813e-02,  2.88781625e-02,  4.50164195e-01,\n",
              "          4.76052453e-03,  1.36184719e-01,  3.49947105e+00,\n",
              "          5.15314959e-01,  5.19138191e-01,  2.47659870e-01,\n",
              "          1.32766719e-01,  2.38116518e-01,  1.56470512e-01,\n",
              "          3.48548721e-01,  1.80345706e-01,  1.89741241e-01,\n",
              "          2.51942626e-01,  1.43365114e-01,  2.02466319e-01,\n",
              "          3.01017393e-03,  6.13905053e-03,  1.13245091e-01,\n",
              "          1.73765490e-03,  3.54300164e-02,  2.17959514e-03,\n",
              "          8.29798896e-02,  1.15519879e-03,  4.04187099e-03,\n",
              "          3.30920869e-03,  2.62350589e-02,  2.74870817e-03,\n",
              "          3.38482529e-02,  1.33333333e+02,  3.74999991e-01],\n",
              "        [ 1.62799118e-01,  6.48927322e-03,  2.53272293e+00,\n",
              "          2.66139438e-01,  2.02559065e-01,  1.60184358e+00,\n",
              "          2.91243412e-03,  3.43157895e-01, -3.25873589e+01,\n",
              "          1.07417803e+00, -4.69754963e-01,  1.16873265e-01,\n",
              "          2.47747549e-01, -1.50275585e-01,  6.81725637e-01,\n",
              "          7.59038130e-02, -4.08250974e-01,  3.18915379e-01,\n",
              "          1.83176759e-01,  3.37842221e-02,  2.96698841e-02,\n",
              "          4.32113493e-03,  2.32547093e-03,  5.66748247e-03,\n",
              "          6.16123438e-03,  1.44877523e-02,  3.82180067e-02,\n",
              "          8.69844249e-03,  8.17381741e-03,  5.34189941e-03,\n",
              "          3.67678013e-03,  1.88396639e-02,  3.18523652e-03,\n",
              "          1.18193581e-02, -6.58306178e-05,  2.17285416e-06,\n",
              "          1.54617088e-02, -8.66215189e-03, -5.68322874e-03,\n",
              "         -8.32896645e-02,  1.73737535e-04, -1.79605263e-02,\n",
              "          2.53614184e-01,  3.08126262e-02, -1.00468916e-01,\n",
              "          8.99077738e-04, -6.41845040e-02,  1.54637764e-02,\n",
              "          7.08251957e-02, -4.45360413e-02, -6.37194108e-02,\n",
              "          1.56832113e-02,  8.75872803e-04, -5.71063710e-03,\n",
              "          3.14392201e-02, -1.15771803e-04, -6.25114708e-05,\n",
              "         -2.36640322e-04, -5.42395563e-04, -1.83017129e-03,\n",
              "         -4.00576571e-03,  2.38826541e-04,  6.95825339e-04,\n",
              "         -1.00849267e-05, -4.34329745e-04, -1.06751141e-03,\n",
              "         -4.96844041e-05, -1.03577041e-03,  4.65419675e-02,\n",
              "          1.44617640e-02,  7.89936382e-01,  8.94853183e-02,\n",
              "          4.58377875e-02,  5.18620136e-01,  1.98116865e-03,\n",
              "          1.67155660e-01,  5.79071385e+00,  6.34308182e-01,\n",
              "          9.20667770e-01,  7.70380668e-01,  4.79980229e-01,\n",
              "          3.52425043e-01,  5.48433677e-01,  2.70020637e-01,\n",
              "          6.12143225e-01,  4.18708183e-01,  3.44059460e-01,\n",
              "          2.29403895e-01,  2.64074444e-01,  4.00490365e-03,\n",
              "          2.49598470e-03,  3.72214727e-03,  5.23863890e-03,\n",
              "          1.33601627e-02,  3.23899344e-02,  4.71049858e-03,\n",
              "          8.15983937e-03,  3.81162553e-03,  3.28076536e-03,\n",
              "          1.98816827e-02,  3.18736734e-03,  8.52361379e-03,\n",
              "          3.67086719e-02,  1.13297131e-02,  9.60793162e-01,\n",
              "          5.82542981e-02,  3.60680561e-02,  4.12356457e-01,\n",
              "          2.36865893e-03,  1.06925646e-01,  2.87720508e+00,\n",
              "          6.47475356e-01,  5.84388955e-01,  4.95287790e-01,\n",
              "          2.55992034e-01,  3.95800194e-01,  3.78257747e-01,\n",
              "          2.91520965e-01,  3.45444267e-01,  3.96067925e-01,\n",
              "          2.58192105e-01,  3.00794397e-01,  1.95039110e-01,\n",
              "          4.49407678e-03,  3.10550223e-03,  4.89347286e-03,\n",
              "          5.45492141e-03,  1.52633278e-02,  2.93197448e-02,\n",
              "          5.95465806e-03,  6.34330513e-03,  5.33793378e-03,\n",
              "          3.98545194e-03,  1.86622727e-02,  3.99659594e-03,\n",
              "          7.86133550e-03,  1.33333333e+02,  2.30769227e-01],\n",
              "        [ 8.99246239e-02,  1.01857405e-02,  2.82402497e+00,\n",
              "          2.28167077e-01,  2.47011966e-01,  7.23173817e-01,\n",
              "          5.93594179e-03,  9.42763158e-02, -2.92575573e+01,\n",
              "          1.14741892e+00, -3.77003474e-01,  5.00576416e-01,\n",
              "          1.52534263e-01,  1.28338349e-01,  6.60807090e-02,\n",
              "         -1.11267225e-01,  1.90168520e-02, -1.28838749e-01,\n",
              "         -6.58929388e-02,  1.02628306e-01,  8.34533055e-02,\n",
              "          2.43234923e-03,  9.43574912e-04,  2.87802638e-01,\n",
              "          9.45195457e-03,  2.07893300e-02,  2.05996439e-03,\n",
              "          8.47664088e-02,  6.52018786e-04,  1.02240342e-03,\n",
              "          5.00331653e-03,  1.65360830e-02,  2.10599141e-03,\n",
              "          8.24673509e-02, -8.22882723e-04, -3.37554183e-03,\n",
              "          1.54068991e-02,  1.29485563e-03,  3.55151147e-03,\n",
              "         -2.70584363e-02,  7.34456616e-05, -6.64473684e-03,\n",
              "         -4.75127945e-01,  5.80087252e-02,  1.19003918e-01,\n",
              "         -2.60899637e-02,  2.94523022e-03,  2.45358211e-02,\n",
              "         -2.13759214e-03,  3.30320196e-02,  1.65508746e-02,\n",
              "          5.89057228e-02,  2.75257483e-02,  1.16020412e-02,\n",
              "         -5.09997327e-04,  4.48703189e-05,  8.49201573e-05,\n",
              "          1.12810369e-02, -1.05341650e-04,  1.40219253e-03,\n",
              "          1.48443172e-04,  5.75477553e-03,  3.70573638e-05,\n",
              "          8.34973919e-05, -1.05246565e-03,  8.15101451e-04,\n",
              "          7.08034727e-05,  3.17778484e-03,  3.73880240e-02,\n",
              "          2.47811958e-02,  3.25756115e-01,  2.56516281e-02,\n",
              "          2.65811847e-02,  4.72220929e-01,  7.81333728e-03,\n",
              "          8.11931135e-02,  3.13007141e+00,  4.73740320e-01,\n",
              "          8.66471562e-01,  2.80782820e-01,  6.15275174e-02,\n",
              "          1.74438101e-01,  1.11877334e-01,  3.51076460e-01,\n",
              "          1.55093579e-01,  3.53857385e-01,  2.50834910e-01,\n",
              "          1.32383274e-01,  2.16116023e-01,  2.04833648e-03,\n",
              "          9.16839475e-04,  2.14479534e-01,  8.50768245e-03,\n",
              "          2.10801568e-02,  1.66898281e-03,  7.03831836e-02,\n",
              "          6.27349939e-04,  9.01029828e-04,  5.78965697e-03,\n",
              "          1.22595517e-02,  1.64481083e-03,  5.82712204e-02,\n",
              "          2.46367514e-02,  1.62880905e-02,  4.47525122e-01,\n",
              "          2.31373088e-02,  1.15905522e-02,  2.17083929e-01,\n",
              "          9.61646785e-03,  4.52061299e-02,  1.16868439e+00,\n",
              "          2.20184341e-01,  2.84114518e-01,  1.64985110e-01,\n",
              "          9.32827514e-02,  1.12016191e-01,  8.51679379e-02,\n",
              "          2.26375490e-01,  1.45862171e-01,  1.88064483e-01,\n",
              "          1.89519184e-01,  1.17526660e-01,  1.83125681e-01,\n",
              "          2.53002097e-03,  1.21787856e-03,  1.86419197e-01,\n",
              "          1.10246490e-02,  2.62324590e-02,  2.13190332e-03,\n",
              "          7.44175830e-02,  8.60158543e-04,  8.89203097e-04,\n",
              "          4.73067371e-03,  1.70066704e-02,  2.04934090e-03,\n",
              "          4.86363979e-02,  2.40000000e+02,  4.99999953e-01],\n",
              "        [ 9.77255522e-02,  8.55135802e-03,  2.68315853e+00,\n",
              "          2.23839930e-01,  2.32131288e-01,  8.06611989e-01,\n",
              "          3.77665505e-03,  1.10263158e-01, -2.69961979e+01,\n",
              "          1.46974879e+00, -7.01297198e-01,  2.62457871e-01,\n",
              "         -5.18614195e-02,  3.09748877e-02,  1.35890481e-01,\n",
              "         -1.17033407e-02,  7.17647346e-02, -1.69595928e-01,\n",
              "         -1.61167977e-01, -7.71919277e-02, -3.21418068e-02,\n",
              "          4.11177494e-03,  7.23384245e-03,  1.24353196e-01,\n",
              "          1.18365347e-02,  6.53585941e-02,  2.83244979e-03,\n",
              "          4.70086936e-02,  1.32328674e-03,  3.12107590e-03,\n",
              "          5.88492945e-03,  2.91903971e-02,  1.95619109e-03,\n",
              "          4.34236708e-02,  6.91221487e-04,  1.05594016e-06,\n",
              "         -8.01724700e-03, -2.09297776e-05,  2.85439353e-04,\n",
              "         -8.77231321e-03,  1.55314848e-04, -3.02631579e-03,\n",
              "         -1.28573932e-02, -2.94617511e-03,  1.55071583e-03,\n",
              "          4.34556219e-03,  5.06056925e-03,  1.01221793e-02,\n",
              "         -1.90735763e-03, -6.49475634e-03, -1.17476737e-03,\n",
              "         -3.29079238e-03,  7.75705435e-03,  5.04746357e-03,\n",
              "         -3.31488013e-03, -7.16463862e-05, -1.04679974e-04,\n",
              "          6.40868799e-04,  2.52588208e-04, -1.17999861e-02,\n",
              "         -2.78705766e-04,  3.71319857e-04,  3.69079527e-05,\n",
              "          1.16182236e-04, -9.00376924e-05,  2.99989632e-03,\n",
              "         -4.32380199e-05, -2.52734702e-03,  1.91793186e-02,\n",
              "          1.66957273e-02,  5.75606518e-01,  4.71108936e-02,\n",
              "          4.60894855e-02,  3.15106294e-01,  2.28786795e-03,\n",
              "          6.50146478e-02,  2.86375265e+00,  4.72802863e-01,\n",
              "          9.66529598e-01,  2.77779606e-01,  1.63026832e-01,\n",
              "          3.66648789e-01,  2.02058690e-01,  2.82813618e-01,\n",
              "          1.98724851e-01,  2.91124967e-01,  3.36799166e-01,\n",
              "          2.71832778e-01,  1.82471938e-01,  3.36051877e-03,\n",
              "          1.11108955e-02,  7.49707343e-02,  9.12695821e-03,\n",
              "          8.18116716e-02,  2.41164989e-03,  5.43495155e-02,\n",
              "          9.72668726e-04,  2.62276197e-03,  3.65897590e-03,\n",
              "          3.49801958e-02,  1.47875314e-03,  2.47493333e-02,\n",
              "          1.79175414e-02,  1.21136850e-02,  6.93150845e-01,\n",
              "          2.76411729e-02,  2.34338875e-02,  3.17346935e-01,\n",
              "          2.77440242e-03,  5.80838717e-02,  1.43198876e+00,\n",
              "          4.50711303e-01,  5.03774941e-01,  2.86501389e-01,\n",
              "          2.13520158e-01,  2.46470236e-01,  2.46480545e-01,\n",
              "          2.26123606e-01,  2.86525980e-01,  2.17528481e-01,\n",
              "          2.39890066e-01,  1.85794054e-01,  1.94023663e-01,\n",
              "          4.48960443e-03,  9.87307910e-03,  5.48078820e-02,\n",
              "          9.58838663e-03,  8.71574546e-02,  2.57243131e-03,\n",
              "          4.79967310e-02,  9.90795264e-04,  2.99897059e-03,\n",
              "          4.74611255e-03,  3.99479771e-02,  1.81997537e-03,\n",
              "          2.19271458e-02,  2.00000000e+02,  2.85714278e-01]]),\n",
              " array([[2.12929133e-01, 1.71930579e-02, 3.04333429e+00, ...,\n",
              "         2.55471820e-03, 1.33333333e+02, 3.33333323e-01],\n",
              "        [6.99121161e-02, 1.40921175e-02, 3.07604465e+00, ...,\n",
              "         1.32899891e-02, 1.09090909e+02, 2.99999994e-01],\n",
              "        [1.10107880e-01, 1.82771566e-02, 3.07547475e+00, ...,\n",
              "         1.61364476e-02, 2.40000000e+02, 4.28571419e-01],\n",
              "        ...,\n",
              "        [3.27507324e-02, 3.21428597e-02, 3.09758179e+00, ...,\n",
              "         1.23358424e-02, 1.33333333e+02, 3.74999991e-01],\n",
              "        [1.34919851e-01, 3.10000132e-02, 2.84386506e+00, ...,\n",
              "         8.04096716e-03, 1.50000000e+02, 3.99999992e-01],\n",
              "        [1.19186334e-01, 1.63875546e-02, 2.99504267e+00, ...,\n",
              "         8.16649377e-03, 1.33333333e+02, 2.49999996e-01]])]"
            ]
          },
          "metadata": {},
          "execution_count": 59
        }
      ]
    },
    {
      "cell_type": "code",
      "source": [
        "print(features[0].shape, features[1].shape)"
      ],
      "metadata": {
        "colab": {
          "base_uri": "https://localhost:8080/"
        },
        "id": "G5ijbz0KIr69",
        "outputId": "5f0ea0ba-eb93-438e-ae40-d8b387e68787"
      },
      "execution_count": 60,
      "outputs": [
        {
          "output_type": "stream",
          "name": "stdout",
          "text": [
            "(6, 138) (10, 138)\n"
          ]
        }
      ]
    },
    {
      "cell_type": "code",
      "source": [
        "# select 2 features and create feature matrices for the two classes:\n",
        "f1 = np.array([features[0][:, fn.index('spectral_centroid_mean')],\n",
        "               features[0][:, fn.index('energy_entropy_mean')]])"
      ],
      "metadata": {
        "id": "_Acxt_eMI2aL"
      },
      "execution_count": 61,
      "outputs": []
    },
    {
      "cell_type": "code",
      "source": [
        "f2 = np.array([features[1][:, fn.index('spectral_centroid_mean')],\n",
        "               features[1][:, fn.index('energy_entropy_mean')]])"
      ],
      "metadata": {
        "id": "V0cOlYNAI5wj"
      },
      "execution_count": 62,
      "outputs": []
    },
    {
      "cell_type": "code",
      "source": [
        "# select 2 features and create feature matrices for the two classes:\n",
        "f1 = np.array([features[0][:, fn.index('spectral_centroid_mean')],\n",
        "               features[0][:, fn.index('energy_entropy_mean')]])\n",
        "f2 = np.array([features[1][:, fn.index('spectral_centroid_mean')],\n",
        "               features[1][:, fn.index('energy_entropy_mean')]])"
      ],
      "metadata": {
        "id": "pMBGZUylI8Jx"
      },
      "execution_count": 63,
      "outputs": []
    },
    {
      "cell_type": "code",
      "source": [
        "# plot 2D features\n",
        "p1 = go.Scatter(x=f1[0, :],  y=f1[1, :], name=class_names[0],\n",
        "                marker=dict(size=10,color='rgba(255, 182, 193, .9)'),\n",
        "                mode='markers')\n",
        "p2 = go.Scatter(x=f2[0, :], y=f2[1, :],  name=class_names[1], \n",
        "                marker=dict(size=10,color='rgba(100, 100, 220, .9)'),\n",
        "                mode='markers')\n",
        "mylayout = go.Layout(xaxis=dict(title=\"spectral_centroid_mean\"),\n",
        "                     yaxis=dict(title=\"energy_entropy_mean\"))\n",
        "\n",
        "y = np.concatenate((np.zeros(f1.shape[1]), np.ones(f2.shape[1]))) \n",
        "f = np.concatenate((f1.T, f2.T), axis = 0)"
      ],
      "metadata": {
        "id": "31AtRhGpI-U4"
      },
      "execution_count": 64,
      "outputs": []
    },
    {
      "cell_type": "code",
      "source": [
        "# train the svm classifier\n",
        "cl = SVC(kernel='rbf', C=20) \n",
        "cl.fit(f, y) "
      ],
      "metadata": {
        "colab": {
          "base_uri": "https://localhost:8080/",
          "height": 75
        },
        "id": "-yoB4VEhI_tG",
        "outputId": "1da13838-67fc-4045-966b-c08518c89907"
      },
      "execution_count": 65,
      "outputs": [
        {
          "output_type": "execute_result",
          "data": {
            "text/plain": [
              "SVC(C=20)"
            ],
            "text/html": [
              "<style>#sk-container-id-3 {color: black;background-color: white;}#sk-container-id-3 pre{padding: 0;}#sk-container-id-3 div.sk-toggleable {background-color: white;}#sk-container-id-3 label.sk-toggleable__label {cursor: pointer;display: block;width: 100%;margin-bottom: 0;padding: 0.3em;box-sizing: border-box;text-align: center;}#sk-container-id-3 label.sk-toggleable__label-arrow:before {content: \"▸\";float: left;margin-right: 0.25em;color: #696969;}#sk-container-id-3 label.sk-toggleable__label-arrow:hover:before {color: black;}#sk-container-id-3 div.sk-estimator:hover label.sk-toggleable__label-arrow:before {color: black;}#sk-container-id-3 div.sk-toggleable__content {max-height: 0;max-width: 0;overflow: hidden;text-align: left;background-color: #f0f8ff;}#sk-container-id-3 div.sk-toggleable__content pre {margin: 0.2em;color: black;border-radius: 0.25em;background-color: #f0f8ff;}#sk-container-id-3 input.sk-toggleable__control:checked~div.sk-toggleable__content {max-height: 200px;max-width: 100%;overflow: auto;}#sk-container-id-3 input.sk-toggleable__control:checked~label.sk-toggleable__label-arrow:before {content: \"▾\";}#sk-container-id-3 div.sk-estimator input.sk-toggleable__control:checked~label.sk-toggleable__label {background-color: #d4ebff;}#sk-container-id-3 div.sk-label input.sk-toggleable__control:checked~label.sk-toggleable__label {background-color: #d4ebff;}#sk-container-id-3 input.sk-hidden--visually {border: 0;clip: rect(1px 1px 1px 1px);clip: rect(1px, 1px, 1px, 1px);height: 1px;margin: -1px;overflow: hidden;padding: 0;position: absolute;width: 1px;}#sk-container-id-3 div.sk-estimator {font-family: monospace;background-color: #f0f8ff;border: 1px dotted black;border-radius: 0.25em;box-sizing: border-box;margin-bottom: 0.5em;}#sk-container-id-3 div.sk-estimator:hover {background-color: #d4ebff;}#sk-container-id-3 div.sk-parallel-item::after {content: \"\";width: 100%;border-bottom: 1px solid gray;flex-grow: 1;}#sk-container-id-3 div.sk-label:hover label.sk-toggleable__label {background-color: #d4ebff;}#sk-container-id-3 div.sk-serial::before {content: \"\";position: absolute;border-left: 1px solid gray;box-sizing: border-box;top: 0;bottom: 0;left: 50%;z-index: 0;}#sk-container-id-3 div.sk-serial {display: flex;flex-direction: column;align-items: center;background-color: white;padding-right: 0.2em;padding-left: 0.2em;position: relative;}#sk-container-id-3 div.sk-item {position: relative;z-index: 1;}#sk-container-id-3 div.sk-parallel {display: flex;align-items: stretch;justify-content: center;background-color: white;position: relative;}#sk-container-id-3 div.sk-item::before, #sk-container-id-3 div.sk-parallel-item::before {content: \"\";position: absolute;border-left: 1px solid gray;box-sizing: border-box;top: 0;bottom: 0;left: 50%;z-index: -1;}#sk-container-id-3 div.sk-parallel-item {display: flex;flex-direction: column;z-index: 1;position: relative;background-color: white;}#sk-container-id-3 div.sk-parallel-item:first-child::after {align-self: flex-end;width: 50%;}#sk-container-id-3 div.sk-parallel-item:last-child::after {align-self: flex-start;width: 50%;}#sk-container-id-3 div.sk-parallel-item:only-child::after {width: 0;}#sk-container-id-3 div.sk-dashed-wrapped {border: 1px dashed gray;margin: 0 0.4em 0.5em 0.4em;box-sizing: border-box;padding-bottom: 0.4em;background-color: white;}#sk-container-id-3 div.sk-label label {font-family: monospace;font-weight: bold;display: inline-block;line-height: 1.2em;}#sk-container-id-3 div.sk-label-container {text-align: center;}#sk-container-id-3 div.sk-container {/* jupyter's `normalize.less` sets `[hidden] { display: none; }` but bootstrap.min.css set `[hidden] { display: none !important; }` so we also need the `!important` here to be able to override the default hidden behavior on the sphinx rendered scikit-learn.org. See: https://github.com/scikit-learn/scikit-learn/issues/21755 */display: inline-block !important;position: relative;}#sk-container-id-3 div.sk-text-repr-fallback {display: none;}</style><div id=\"sk-container-id-3\" class=\"sk-top-container\"><div class=\"sk-text-repr-fallback\"><pre>SVC(C=20)</pre><b>In a Jupyter environment, please rerun this cell to show the HTML representation or trust the notebook. <br />On GitHub, the HTML representation is unable to render, please try loading this page with nbviewer.org.</b></div><div class=\"sk-container\" hidden><div class=\"sk-item\"><div class=\"sk-estimator sk-toggleable\"><input class=\"sk-toggleable__control sk-hidden--visually\" id=\"sk-estimator-id-3\" type=\"checkbox\" checked><label for=\"sk-estimator-id-3\" class=\"sk-toggleable__label sk-toggleable__label-arrow\">SVC</label><div class=\"sk-toggleable__content\"><pre>SVC(C=20)</pre></div></div></div></div></div>"
            ]
          },
          "metadata": {},
          "execution_count": 65
        }
      ]
    },
    {
      "cell_type": "code",
      "source": [
        "from sklearn.metrics import confusion_matrix\n",
        "\n",
        "y_pred = cl.predict(f)\n",
        "confusion_matrix(y, y_pred)"
      ],
      "metadata": {
        "colab": {
          "base_uri": "https://localhost:8080/"
        },
        "id": "dfUEXfeMJEKE",
        "outputId": "b60d1e1f-253e-4b29-aa17-ed9cb39c77ad"
      },
      "execution_count": 66,
      "outputs": [
        {
          "output_type": "execute_result",
          "data": {
            "text/plain": [
              "array([[4, 2],\n",
              "       [2, 8]])"
            ]
          },
          "metadata": {},
          "execution_count": 66
        }
      ]
    },
    {
      "cell_type": "code",
      "source": [
        "# Classify an unknown sample (song)\n",
        "from pyAudioAnalysis import audioTrainTest as aT\n",
        "file1 = \"/content/gdrive/My Drive/Colab Notebooks/Reva/15_Speech_Analytics/AudioFiles/classical/data_music_classical_classical.00012.au.wav\""
      ],
      "metadata": {
        "id": "quMTifJtJ1XP"
      },
      "execution_count": 67,
      "outputs": []
    },
    {
      "cell_type": "code",
      "source": [
        "#Prepocess into features\n",
        "from pyAudioAnalysis import MidTermFeatures as aF\n",
        "from pyAudioAnalysis import audioBasicIO as aIO \n",
        "\n",
        "# read audio data from file \n",
        "# (returns sampling freq and signal as a numpy array)\n",
        "fs, s = aIO.read_audio_file(file1)\n",
        "\n",
        "# get mid-term (segment) feature statistics \n",
        "# and respective short-term features:\n",
        "mt, st, mt_n = aF.mid_feature_extraction(s, fs, 1 * fs, 1 * fs, 0.05 * fs, 0.05 * fs)"
      ],
      "metadata": {
        "id": "07q766MSKKkg"
      },
      "execution_count": 68,
      "outputs": []
    },
    {
      "cell_type": "code",
      "source": [
        "print(mt)"
      ],
      "metadata": {
        "colab": {
          "base_uri": "https://localhost:8080/"
        },
        "id": "K39-E071KP-s",
        "outputId": "141e02c7-b75b-4fd0-e46d-87044dc93c07"
      },
      "execution_count": 69,
      "outputs": [
        {
          "output_type": "stream",
          "name": "stdout",
          "text": [
            "[[ 1.76190476e-01  1.83959900e-01]\n",
            " [ 7.63419523e-02  4.23456104e-02]\n",
            " [ 3.20161356e+00  3.19009134e+00]\n",
            " [ 2.42782639e-01  2.82885997e-01]\n",
            " [ 2.03396682e-01  2.37286138e-01]\n",
            " [ 1.68341334e+00  1.32856322e+00]\n",
            " [ 5.09442344e-03  8.26115928e-03]\n",
            " [ 2.80750000e-01  2.94250000e-01]\n",
            " [-2.17494087e+01 -2.38171243e+01]\n",
            " [ 2.23091755e+00  1.54395897e+00]\n",
            " [-7.42801346e-01 -6.46177574e-01]\n",
            " [-2.55080129e-01 -8.60804467e-01]\n",
            " [-6.50692566e-01 -5.68847114e-01]\n",
            " [-2.75907950e-02  3.11351423e-01]\n",
            " [-2.85582206e-01  3.62129980e-01]\n",
            " [ 4.37441608e-01  6.06176309e-01]\n",
            " [ 3.28315765e-01 -6.22075343e-03]\n",
            " [-2.50633135e-01 -4.13670017e-01]\n",
            " [-1.04403137e-01  6.74359796e-02]\n",
            " [ 5.42583685e-02  3.06882203e-01]\n",
            " [ 1.83362851e-01  8.84742827e-02]\n",
            " [ 1.79546963e-02  9.34039727e-03]\n",
            " [ 3.08985846e-02  3.90070399e-02]\n",
            " [ 5.32363517e-03  5.25062938e-03]\n",
            " [ 1.66054840e-02  9.54462983e-03]\n",
            " [ 1.98749519e-02  2.64048972e-02]\n",
            " [ 4.69843364e-03  3.30743507e-02]\n",
            " [ 3.95107502e-03  1.35554770e-02]\n",
            " [ 6.08213340e-04  1.88349701e-03]\n",
            " [ 7.32957457e-03  1.05559943e-03]\n",
            " [ 1.51478215e-02  6.55627167e-03]\n",
            " [ 2.82817781e-02  9.27307293e-03]\n",
            " [ 2.02119097e-02  1.06208628e-03]\n",
            " [ 1.67158084e-02  2.20948446e-02]\n",
            " [-1.75438596e-03  2.75689223e-03]\n",
            " [ 2.79071826e-03 -5.57744505e-03]\n",
            " [-6.40250130e-03  3.00473501e-03]\n",
            " [-9.26411280e-04  4.48214609e-03]\n",
            " [ 4.91336235e-04  1.60311240e-03]\n",
            " [-1.41391828e-02 -1.24226600e-02]\n",
            " [ 2.11628868e-04 -2.37965837e-06]\n",
            " [-2.25000000e-03  6.00000000e-03]\n",
            " [ 8.19365286e-03 -2.10830496e-01]\n",
            " [ 1.97455709e-02 -1.03762732e-01]\n",
            " [ 3.02768668e-02 -5.57933701e-02]\n",
            " [-1.53527762e-02 -3.15223511e-02]\n",
            " [-3.24500243e-02  2.70545383e-02]\n",
            " [-1.09234879e-02  3.72865216e-02]\n",
            " [-3.09654536e-03  6.09393795e-02]\n",
            " [-1.14219410e-02 -6.77656627e-03]\n",
            " [ 1.26414396e-02 -6.26386865e-02]\n",
            " [ 6.87947353e-04  6.97512156e-05]\n",
            " [-9.63471899e-03  3.01842092e-02]\n",
            " [ 7.34873017e-03 -6.68882906e-03]\n",
            " [-1.57348078e-02  1.31318543e-02]\n",
            " [ 6.80941390e-04 -6.88868616e-04]\n",
            " [ 5.01799236e-03 -5.56820236e-03]\n",
            " [ 7.12323468e-05 -3.02038895e-05]\n",
            " [-1.33799104e-03 -6.98112562e-05]\n",
            " [ 4.73319717e-04 -9.85155726e-04]\n",
            " [-4.05113360e-04  4.37606336e-03]\n",
            " [ 1.62913354e-05  1.13278309e-03]\n",
            " [-6.56435887e-05  4.35198664e-04]\n",
            " [-1.72874612e-05 -2.38206462e-04]\n",
            " [ 4.89377861e-04 -1.45118379e-03]\n",
            " [-1.63632527e-03 -6.40432410e-04]\n",
            " [-6.20131354e-04 -1.83475524e-05]\n",
            " [ 8.73906715e-04 -3.11689719e-04]\n",
            " [ 2.32570110e-02  5.21785010e-02]\n",
            " [ 1.92181455e-02  3.69623323e-02]\n",
            " [ 6.18685231e-02  4.39493667e-02]\n",
            " [ 1.53522641e-02  3.55570397e-02]\n",
            " [ 1.04045212e-02  1.68252399e-02]\n",
            " [ 1.96297911e-01  4.06465862e-01]\n",
            " [ 2.44821437e-03  4.49440300e-03]\n",
            " [ 7.72702239e-02  1.42005942e-01]\n",
            " [ 2.94881859e-01  1.22379769e+00]\n",
            " [ 2.92268377e-01  5.94992397e-01]\n",
            " [ 2.31359928e-01  3.39662039e-01]\n",
            " [ 1.84083691e-01  3.17351485e-01]\n",
            " [ 2.35361576e-01  2.31482393e-01]\n",
            " [ 2.18334265e-01  3.00377949e-01]\n",
            " [ 2.39818708e-01  2.80448486e-01]\n",
            " [ 1.92894340e-01  3.05019021e-01]\n",
            " [ 2.30691021e-01  5.39275946e-01]\n",
            " [ 1.63819730e-01  2.21860575e-01]\n",
            " [ 2.20894345e-01  3.11667116e-01]\n",
            " [ 1.90988920e-01  2.02140961e-01]\n",
            " [ 1.90755444e-01  1.86305476e-01]\n",
            " [ 2.50677656e-02  9.53571341e-03]\n",
            " [ 3.31409017e-02  4.76752481e-02]\n",
            " [ 4.22429594e-03  3.63519682e-03]\n",
            " [ 1.19213050e-02  7.35571726e-03]\n",
            " [ 1.56787966e-02  2.35922513e-02]\n",
            " [ 3.83528720e-03  4.96143349e-02]\n",
            " [ 2.65974696e-03  1.34644550e-02]\n",
            " [ 4.43183840e-04  2.52373263e-03]\n",
            " [ 3.26668130e-03  9.25145005e-04]\n",
            " [ 8.17065087e-03  4.66696331e-03]\n",
            " [ 1.54904200e-02  8.15514740e-03]\n",
            " [ 1.96995116e-02  7.82823977e-04]\n",
            " [ 6.59479082e-03  1.13790701e-02]\n",
            " [ 2.17785690e-02  5.25533492e-02]\n",
            " [ 2.13174488e-02  1.91155358e-02]\n",
            " [ 8.89580961e-02  7.09987937e-02]\n",
            " [ 1.09579503e-02  2.14333447e-02]\n",
            " [ 9.75615970e-03  1.08830881e-02]\n",
            " [ 2.09494888e-01  4.45506960e-01]\n",
            " [ 2.83193252e-03  6.39134325e-03]\n",
            " [ 7.83178619e-02  1.34132397e-01]\n",
            " [ 2.32899373e-01  4.33376385e-01]\n",
            " [ 2.26842008e-01  2.66197126e-01]\n",
            " [ 2.73860159e-01  2.02414414e-01]\n",
            " [ 2.27472489e-01  3.33997230e-01]\n",
            " [ 2.27961762e-01  3.10135089e-01]\n",
            " [ 2.52376401e-01  3.28462161e-01]\n",
            " [ 2.31699352e-01  2.47691015e-01]\n",
            " [ 2.15926715e-01  2.28360292e-01]\n",
            " [ 2.28195724e-01  3.50808040e-01]\n",
            " [ 2.15304383e-01  2.47429599e-01]\n",
            " [ 2.38464126e-01  2.53636705e-01]\n",
            " [ 2.28317681e-01  2.34572432e-01]\n",
            " [ 1.89045291e-01  2.11754505e-01]\n",
            " [ 2.40118673e-02  1.18484847e-02]\n",
            " [ 1.68873340e-02  4.32151182e-02]\n",
            " [ 6.01674413e-03  4.60663524e-03]\n",
            " [ 9.84443176e-03  8.04745320e-03]\n",
            " [ 1.96959435e-02  2.67760909e-02]\n",
            " [ 3.59500963e-03  3.16948306e-02]\n",
            " [ 2.95775498e-03  1.40616204e-02]\n",
            " [ 5.71240850e-04  9.46705326e-04]\n",
            " [ 3.47207568e-03  9.48628793e-04]\n",
            " [ 6.71979142e-03  6.56057952e-03]\n",
            " [ 1.39095850e-02  6.60576861e-03]\n",
            " [ 1.82622948e-02  9.66628656e-04]\n",
            " [ 5.38405801e-03  1.44498852e-02]]\n"
          ]
        }
      ]
    },
    {
      "cell_type": "code",
      "source": [
        "print(f1)"
      ],
      "metadata": {
        "colab": {
          "base_uri": "https://localhost:8080/"
        },
        "id": "9d-ZAUNOKgG8",
        "outputId": "15e43411-9b2e-4560-ad3a-261f10bda8b1"
      },
      "execution_count": 70,
      "outputs": [
        {
          "output_type": "stream",
          "name": "stdout",
          "text": [
            "[[0.29956312 0.3437801  0.2558271  0.26613944 0.22816708 0.22383993]\n",
            " [2.5389112  3.00137613 2.59955886 2.53272293 2.82402497 2.68315853]]\n"
          ]
        }
      ]
    },
    {
      "cell_type": "code",
      "source": [
        "# select 2 features and create feature matrices for the two classes:\n",
        "f = np.array(mt[:1, ])"
      ],
      "metadata": {
        "id": "QJ12BG6yKlTK"
      },
      "execution_count": 71,
      "outputs": []
    },
    {
      "cell_type": "code",
      "source": [
        "cl.predict(f)"
      ],
      "metadata": {
        "colab": {
          "base_uri": "https://localhost:8080/"
        },
        "id": "myrFG0qNKo3A",
        "outputId": "f870904f-41bb-42bf-821c-b8eeb000219d"
      },
      "execution_count": 72,
      "outputs": [
        {
          "output_type": "execute_result",
          "data": {
            "text/plain": [
              "array([0.])"
            ]
          },
          "metadata": {},
          "execution_count": 72
        }
      ]
    },
    {
      "cell_type": "markdown",
      "source": [
        "## KNN classifier"
      ],
      "metadata": {
        "id": "3k_Fq9Wxb-n4"
      }
    },
    {
      "cell_type": "code",
      "source": [
        "from sklearn.neighbors import KNeighborsClassifier"
      ],
      "metadata": {
        "id": "H2I4OO2kKrPg"
      },
      "execution_count": 73,
      "outputs": []
    },
    {
      "cell_type": "code",
      "source": [
        "knn = KNeighborsClassifier(n_neighbors=1)"
      ],
      "metadata": {
        "id": "V-Yyn9xNcnx1"
      },
      "execution_count": 74,
      "outputs": []
    },
    {
      "cell_type": "code",
      "source": [
        "y = np.concatenate((np.zeros(f1.shape[1]), np.ones(f2.shape[1]))) \n",
        "f = np.concatenate((f1.T, f2.T), axis = 0)"
      ],
      "metadata": {
        "id": "ABpbbq0scvF2"
      },
      "execution_count": 75,
      "outputs": []
    },
    {
      "cell_type": "code",
      "source": [
        "knn.fit(f,y)"
      ],
      "metadata": {
        "colab": {
          "base_uri": "https://localhost:8080/",
          "height": 75
        },
        "id": "hJIpnHU9c2PQ",
        "outputId": "ed3fb584-25a7-4664-b73a-c43083f50cf7"
      },
      "execution_count": 76,
      "outputs": [
        {
          "output_type": "execute_result",
          "data": {
            "text/plain": [
              "KNeighborsClassifier(n_neighbors=1)"
            ],
            "text/html": [
              "<style>#sk-container-id-4 {color: black;background-color: white;}#sk-container-id-4 pre{padding: 0;}#sk-container-id-4 div.sk-toggleable {background-color: white;}#sk-container-id-4 label.sk-toggleable__label {cursor: pointer;display: block;width: 100%;margin-bottom: 0;padding: 0.3em;box-sizing: border-box;text-align: center;}#sk-container-id-4 label.sk-toggleable__label-arrow:before {content: \"▸\";float: left;margin-right: 0.25em;color: #696969;}#sk-container-id-4 label.sk-toggleable__label-arrow:hover:before {color: black;}#sk-container-id-4 div.sk-estimator:hover label.sk-toggleable__label-arrow:before {color: black;}#sk-container-id-4 div.sk-toggleable__content {max-height: 0;max-width: 0;overflow: hidden;text-align: left;background-color: #f0f8ff;}#sk-container-id-4 div.sk-toggleable__content pre {margin: 0.2em;color: black;border-radius: 0.25em;background-color: #f0f8ff;}#sk-container-id-4 input.sk-toggleable__control:checked~div.sk-toggleable__content {max-height: 200px;max-width: 100%;overflow: auto;}#sk-container-id-4 input.sk-toggleable__control:checked~label.sk-toggleable__label-arrow:before {content: \"▾\";}#sk-container-id-4 div.sk-estimator input.sk-toggleable__control:checked~label.sk-toggleable__label {background-color: #d4ebff;}#sk-container-id-4 div.sk-label input.sk-toggleable__control:checked~label.sk-toggleable__label {background-color: #d4ebff;}#sk-container-id-4 input.sk-hidden--visually {border: 0;clip: rect(1px 1px 1px 1px);clip: rect(1px, 1px, 1px, 1px);height: 1px;margin: -1px;overflow: hidden;padding: 0;position: absolute;width: 1px;}#sk-container-id-4 div.sk-estimator {font-family: monospace;background-color: #f0f8ff;border: 1px dotted black;border-radius: 0.25em;box-sizing: border-box;margin-bottom: 0.5em;}#sk-container-id-4 div.sk-estimator:hover {background-color: #d4ebff;}#sk-container-id-4 div.sk-parallel-item::after {content: \"\";width: 100%;border-bottom: 1px solid gray;flex-grow: 1;}#sk-container-id-4 div.sk-label:hover label.sk-toggleable__label {background-color: #d4ebff;}#sk-container-id-4 div.sk-serial::before {content: \"\";position: absolute;border-left: 1px solid gray;box-sizing: border-box;top: 0;bottom: 0;left: 50%;z-index: 0;}#sk-container-id-4 div.sk-serial {display: flex;flex-direction: column;align-items: center;background-color: white;padding-right: 0.2em;padding-left: 0.2em;position: relative;}#sk-container-id-4 div.sk-item {position: relative;z-index: 1;}#sk-container-id-4 div.sk-parallel {display: flex;align-items: stretch;justify-content: center;background-color: white;position: relative;}#sk-container-id-4 div.sk-item::before, #sk-container-id-4 div.sk-parallel-item::before {content: \"\";position: absolute;border-left: 1px solid gray;box-sizing: border-box;top: 0;bottom: 0;left: 50%;z-index: -1;}#sk-container-id-4 div.sk-parallel-item {display: flex;flex-direction: column;z-index: 1;position: relative;background-color: white;}#sk-container-id-4 div.sk-parallel-item:first-child::after {align-self: flex-end;width: 50%;}#sk-container-id-4 div.sk-parallel-item:last-child::after {align-self: flex-start;width: 50%;}#sk-container-id-4 div.sk-parallel-item:only-child::after {width: 0;}#sk-container-id-4 div.sk-dashed-wrapped {border: 1px dashed gray;margin: 0 0.4em 0.5em 0.4em;box-sizing: border-box;padding-bottom: 0.4em;background-color: white;}#sk-container-id-4 div.sk-label label {font-family: monospace;font-weight: bold;display: inline-block;line-height: 1.2em;}#sk-container-id-4 div.sk-label-container {text-align: center;}#sk-container-id-4 div.sk-container {/* jupyter's `normalize.less` sets `[hidden] { display: none; }` but bootstrap.min.css set `[hidden] { display: none !important; }` so we also need the `!important` here to be able to override the default hidden behavior on the sphinx rendered scikit-learn.org. See: https://github.com/scikit-learn/scikit-learn/issues/21755 */display: inline-block !important;position: relative;}#sk-container-id-4 div.sk-text-repr-fallback {display: none;}</style><div id=\"sk-container-id-4\" class=\"sk-top-container\"><div class=\"sk-text-repr-fallback\"><pre>KNeighborsClassifier(n_neighbors=1)</pre><b>In a Jupyter environment, please rerun this cell to show the HTML representation or trust the notebook. <br />On GitHub, the HTML representation is unable to render, please try loading this page with nbviewer.org.</b></div><div class=\"sk-container\" hidden><div class=\"sk-item\"><div class=\"sk-estimator sk-toggleable\"><input class=\"sk-toggleable__control sk-hidden--visually\" id=\"sk-estimator-id-4\" type=\"checkbox\" checked><label for=\"sk-estimator-id-4\" class=\"sk-toggleable__label sk-toggleable__label-arrow\">KNeighborsClassifier</label><div class=\"sk-toggleable__content\"><pre>KNeighborsClassifier(n_neighbors=1)</pre></div></div></div></div></div>"
            ]
          },
          "metadata": {},
          "execution_count": 76
        }
      ]
    },
    {
      "cell_type": "code",
      "source": [
        "# select 2 features and create feature matrices for the two classes:\n",
        "fknn = np.array(mt[:1, ])"
      ],
      "metadata": {
        "id": "sA5FrLd8exJb"
      },
      "execution_count": 77,
      "outputs": []
    },
    {
      "cell_type": "code",
      "source": [
        "class_names[int(knn.predict(fknn)[0])]"
      ],
      "metadata": {
        "colab": {
          "base_uri": "https://localhost:8080/",
          "height": 35
        },
        "id": "3iORn87tc594",
        "outputId": "5655cd74-1329-48c9-b5a8-8b5bef9670ba"
      },
      "execution_count": 78,
      "outputs": [
        {
          "output_type": "execute_result",
          "data": {
            "text/plain": [
              "'up'"
            ],
            "application/vnd.google.colaboratory.intrinsic+json": {
              "type": "string"
            }
          },
          "metadata": {},
          "execution_count": 78
        }
      ]
    },
    {
      "cell_type": "code",
      "source": [
        "y_pred = knn.predict(f)\n",
        "confusion_matrix(y, y_pred)"
      ],
      "metadata": {
        "colab": {
          "base_uri": "https://localhost:8080/"
        },
        "id": "OfEVnqfBdg-3",
        "outputId": "3fd4047c-9609-44c6-bc59-a12db43f1ece"
      },
      "execution_count": 79,
      "outputs": [
        {
          "output_type": "execute_result",
          "data": {
            "text/plain": [
              "array([[ 6,  0],\n",
              "       [ 0, 10]])"
            ]
          },
          "metadata": {},
          "execution_count": 79
        }
      ]
    },
    {
      "cell_type": "markdown",
      "source": [
        "## Gaussian Naive Bayes"
      ],
      "metadata": {
        "id": "097f6eKsjtNl"
      }
    },
    {
      "cell_type": "code",
      "source": [
        "from sklearn.naive_bayes import GaussianNB"
      ],
      "metadata": {
        "id": "AbWF723Sf_M9"
      },
      "execution_count": 80,
      "outputs": []
    },
    {
      "cell_type": "code",
      "source": [
        "nb = GaussianNB()"
      ],
      "metadata": {
        "id": "TL0D-bGKj4lb"
      },
      "execution_count": 81,
      "outputs": []
    },
    {
      "cell_type": "code",
      "source": [
        "nb.fit(f, y)"
      ],
      "metadata": {
        "colab": {
          "base_uri": "https://localhost:8080/",
          "height": 75
        },
        "id": "3uNrySP_j8_z",
        "outputId": "97961e6f-c258-4c94-93a0-0457ffd3c59d"
      },
      "execution_count": 82,
      "outputs": [
        {
          "output_type": "execute_result",
          "data": {
            "text/plain": [
              "GaussianNB()"
            ],
            "text/html": [
              "<style>#sk-container-id-5 {color: black;background-color: white;}#sk-container-id-5 pre{padding: 0;}#sk-container-id-5 div.sk-toggleable {background-color: white;}#sk-container-id-5 label.sk-toggleable__label {cursor: pointer;display: block;width: 100%;margin-bottom: 0;padding: 0.3em;box-sizing: border-box;text-align: center;}#sk-container-id-5 label.sk-toggleable__label-arrow:before {content: \"▸\";float: left;margin-right: 0.25em;color: #696969;}#sk-container-id-5 label.sk-toggleable__label-arrow:hover:before {color: black;}#sk-container-id-5 div.sk-estimator:hover label.sk-toggleable__label-arrow:before {color: black;}#sk-container-id-5 div.sk-toggleable__content {max-height: 0;max-width: 0;overflow: hidden;text-align: left;background-color: #f0f8ff;}#sk-container-id-5 div.sk-toggleable__content pre {margin: 0.2em;color: black;border-radius: 0.25em;background-color: #f0f8ff;}#sk-container-id-5 input.sk-toggleable__control:checked~div.sk-toggleable__content {max-height: 200px;max-width: 100%;overflow: auto;}#sk-container-id-5 input.sk-toggleable__control:checked~label.sk-toggleable__label-arrow:before {content: \"▾\";}#sk-container-id-5 div.sk-estimator input.sk-toggleable__control:checked~label.sk-toggleable__label {background-color: #d4ebff;}#sk-container-id-5 div.sk-label input.sk-toggleable__control:checked~label.sk-toggleable__label {background-color: #d4ebff;}#sk-container-id-5 input.sk-hidden--visually {border: 0;clip: rect(1px 1px 1px 1px);clip: rect(1px, 1px, 1px, 1px);height: 1px;margin: -1px;overflow: hidden;padding: 0;position: absolute;width: 1px;}#sk-container-id-5 div.sk-estimator {font-family: monospace;background-color: #f0f8ff;border: 1px dotted black;border-radius: 0.25em;box-sizing: border-box;margin-bottom: 0.5em;}#sk-container-id-5 div.sk-estimator:hover {background-color: #d4ebff;}#sk-container-id-5 div.sk-parallel-item::after {content: \"\";width: 100%;border-bottom: 1px solid gray;flex-grow: 1;}#sk-container-id-5 div.sk-label:hover label.sk-toggleable__label {background-color: #d4ebff;}#sk-container-id-5 div.sk-serial::before {content: \"\";position: absolute;border-left: 1px solid gray;box-sizing: border-box;top: 0;bottom: 0;left: 50%;z-index: 0;}#sk-container-id-5 div.sk-serial {display: flex;flex-direction: column;align-items: center;background-color: white;padding-right: 0.2em;padding-left: 0.2em;position: relative;}#sk-container-id-5 div.sk-item {position: relative;z-index: 1;}#sk-container-id-5 div.sk-parallel {display: flex;align-items: stretch;justify-content: center;background-color: white;position: relative;}#sk-container-id-5 div.sk-item::before, #sk-container-id-5 div.sk-parallel-item::before {content: \"\";position: absolute;border-left: 1px solid gray;box-sizing: border-box;top: 0;bottom: 0;left: 50%;z-index: -1;}#sk-container-id-5 div.sk-parallel-item {display: flex;flex-direction: column;z-index: 1;position: relative;background-color: white;}#sk-container-id-5 div.sk-parallel-item:first-child::after {align-self: flex-end;width: 50%;}#sk-container-id-5 div.sk-parallel-item:last-child::after {align-self: flex-start;width: 50%;}#sk-container-id-5 div.sk-parallel-item:only-child::after {width: 0;}#sk-container-id-5 div.sk-dashed-wrapped {border: 1px dashed gray;margin: 0 0.4em 0.5em 0.4em;box-sizing: border-box;padding-bottom: 0.4em;background-color: white;}#sk-container-id-5 div.sk-label label {font-family: monospace;font-weight: bold;display: inline-block;line-height: 1.2em;}#sk-container-id-5 div.sk-label-container {text-align: center;}#sk-container-id-5 div.sk-container {/* jupyter's `normalize.less` sets `[hidden] { display: none; }` but bootstrap.min.css set `[hidden] { display: none !important; }` so we also need the `!important` here to be able to override the default hidden behavior on the sphinx rendered scikit-learn.org. See: https://github.com/scikit-learn/scikit-learn/issues/21755 */display: inline-block !important;position: relative;}#sk-container-id-5 div.sk-text-repr-fallback {display: none;}</style><div id=\"sk-container-id-5\" class=\"sk-top-container\"><div class=\"sk-text-repr-fallback\"><pre>GaussianNB()</pre><b>In a Jupyter environment, please rerun this cell to show the HTML representation or trust the notebook. <br />On GitHub, the HTML representation is unable to render, please try loading this page with nbviewer.org.</b></div><div class=\"sk-container\" hidden><div class=\"sk-item\"><div class=\"sk-estimator sk-toggleable\"><input class=\"sk-toggleable__control sk-hidden--visually\" id=\"sk-estimator-id-5\" type=\"checkbox\" checked><label for=\"sk-estimator-id-5\" class=\"sk-toggleable__label sk-toggleable__label-arrow\">GaussianNB</label><div class=\"sk-toggleable__content\"><pre>GaussianNB()</pre></div></div></div></div></div>"
            ]
          },
          "metadata": {},
          "execution_count": 82
        }
      ]
    },
    {
      "cell_type": "code",
      "source": [
        "y_pred = nb.predict(f)\n",
        "confusion_matrix(y, y_pred)"
      ],
      "metadata": {
        "colab": {
          "base_uri": "https://localhost:8080/"
        },
        "id": "RHFDdnIzj_8C",
        "outputId": "63acd0a4-7d33-4235-8f29-83be36d45ef7"
      },
      "execution_count": 84,
      "outputs": [
        {
          "output_type": "execute_result",
          "data": {
            "text/plain": [
              "array([[4, 2],\n",
              "       [2, 8]])"
            ]
          },
          "metadata": {},
          "execution_count": 84
        }
      ]
    },
    {
      "cell_type": "markdown",
      "source": [
        "## Random Forest Clasifier"
      ],
      "metadata": {
        "id": "aVQhAn9Zk0Qq"
      }
    },
    {
      "cell_type": "code",
      "source": [
        "from sklearn.ensemble import RandomForestClassifier"
      ],
      "metadata": {
        "id": "8QfVSfG3kDIf"
      },
      "execution_count": 86,
      "outputs": []
    },
    {
      "cell_type": "code",
      "source": [
        "rf = RandomForestClassifier()"
      ],
      "metadata": {
        "id": "8cupZ8wAlIeX"
      },
      "execution_count": 87,
      "outputs": []
    },
    {
      "cell_type": "code",
      "source": [
        "rf.fit(f, y)"
      ],
      "metadata": {
        "colab": {
          "base_uri": "https://localhost:8080/",
          "height": 75
        },
        "id": "toJuYamWlOp0",
        "outputId": "9af6942b-3211-4c7a-bbdc-e23468ee4704"
      },
      "execution_count": 88,
      "outputs": [
        {
          "output_type": "execute_result",
          "data": {
            "text/plain": [
              "RandomForestClassifier()"
            ],
            "text/html": [
              "<style>#sk-container-id-6 {color: black;background-color: white;}#sk-container-id-6 pre{padding: 0;}#sk-container-id-6 div.sk-toggleable {background-color: white;}#sk-container-id-6 label.sk-toggleable__label {cursor: pointer;display: block;width: 100%;margin-bottom: 0;padding: 0.3em;box-sizing: border-box;text-align: center;}#sk-container-id-6 label.sk-toggleable__label-arrow:before {content: \"▸\";float: left;margin-right: 0.25em;color: #696969;}#sk-container-id-6 label.sk-toggleable__label-arrow:hover:before {color: black;}#sk-container-id-6 div.sk-estimator:hover label.sk-toggleable__label-arrow:before {color: black;}#sk-container-id-6 div.sk-toggleable__content {max-height: 0;max-width: 0;overflow: hidden;text-align: left;background-color: #f0f8ff;}#sk-container-id-6 div.sk-toggleable__content pre {margin: 0.2em;color: black;border-radius: 0.25em;background-color: #f0f8ff;}#sk-container-id-6 input.sk-toggleable__control:checked~div.sk-toggleable__content {max-height: 200px;max-width: 100%;overflow: auto;}#sk-container-id-6 input.sk-toggleable__control:checked~label.sk-toggleable__label-arrow:before {content: \"▾\";}#sk-container-id-6 div.sk-estimator input.sk-toggleable__control:checked~label.sk-toggleable__label {background-color: #d4ebff;}#sk-container-id-6 div.sk-label input.sk-toggleable__control:checked~label.sk-toggleable__label {background-color: #d4ebff;}#sk-container-id-6 input.sk-hidden--visually {border: 0;clip: rect(1px 1px 1px 1px);clip: rect(1px, 1px, 1px, 1px);height: 1px;margin: -1px;overflow: hidden;padding: 0;position: absolute;width: 1px;}#sk-container-id-6 div.sk-estimator {font-family: monospace;background-color: #f0f8ff;border: 1px dotted black;border-radius: 0.25em;box-sizing: border-box;margin-bottom: 0.5em;}#sk-container-id-6 div.sk-estimator:hover {background-color: #d4ebff;}#sk-container-id-6 div.sk-parallel-item::after {content: \"\";width: 100%;border-bottom: 1px solid gray;flex-grow: 1;}#sk-container-id-6 div.sk-label:hover label.sk-toggleable__label {background-color: #d4ebff;}#sk-container-id-6 div.sk-serial::before {content: \"\";position: absolute;border-left: 1px solid gray;box-sizing: border-box;top: 0;bottom: 0;left: 50%;z-index: 0;}#sk-container-id-6 div.sk-serial {display: flex;flex-direction: column;align-items: center;background-color: white;padding-right: 0.2em;padding-left: 0.2em;position: relative;}#sk-container-id-6 div.sk-item {position: relative;z-index: 1;}#sk-container-id-6 div.sk-parallel {display: flex;align-items: stretch;justify-content: center;background-color: white;position: relative;}#sk-container-id-6 div.sk-item::before, #sk-container-id-6 div.sk-parallel-item::before {content: \"\";position: absolute;border-left: 1px solid gray;box-sizing: border-box;top: 0;bottom: 0;left: 50%;z-index: -1;}#sk-container-id-6 div.sk-parallel-item {display: flex;flex-direction: column;z-index: 1;position: relative;background-color: white;}#sk-container-id-6 div.sk-parallel-item:first-child::after {align-self: flex-end;width: 50%;}#sk-container-id-6 div.sk-parallel-item:last-child::after {align-self: flex-start;width: 50%;}#sk-container-id-6 div.sk-parallel-item:only-child::after {width: 0;}#sk-container-id-6 div.sk-dashed-wrapped {border: 1px dashed gray;margin: 0 0.4em 0.5em 0.4em;box-sizing: border-box;padding-bottom: 0.4em;background-color: white;}#sk-container-id-6 div.sk-label label {font-family: monospace;font-weight: bold;display: inline-block;line-height: 1.2em;}#sk-container-id-6 div.sk-label-container {text-align: center;}#sk-container-id-6 div.sk-container {/* jupyter's `normalize.less` sets `[hidden] { display: none; }` but bootstrap.min.css set `[hidden] { display: none !important; }` so we also need the `!important` here to be able to override the default hidden behavior on the sphinx rendered scikit-learn.org. See: https://github.com/scikit-learn/scikit-learn/issues/21755 */display: inline-block !important;position: relative;}#sk-container-id-6 div.sk-text-repr-fallback {display: none;}</style><div id=\"sk-container-id-6\" class=\"sk-top-container\"><div class=\"sk-text-repr-fallback\"><pre>RandomForestClassifier()</pre><b>In a Jupyter environment, please rerun this cell to show the HTML representation or trust the notebook. <br />On GitHub, the HTML representation is unable to render, please try loading this page with nbviewer.org.</b></div><div class=\"sk-container\" hidden><div class=\"sk-item\"><div class=\"sk-estimator sk-toggleable\"><input class=\"sk-toggleable__control sk-hidden--visually\" id=\"sk-estimator-id-6\" type=\"checkbox\" checked><label for=\"sk-estimator-id-6\" class=\"sk-toggleable__label sk-toggleable__label-arrow\">RandomForestClassifier</label><div class=\"sk-toggleable__content\"><pre>RandomForestClassifier()</pre></div></div></div></div></div>"
            ]
          },
          "metadata": {},
          "execution_count": 88
        }
      ]
    },
    {
      "cell_type": "code",
      "source": [
        "y_pred = rf.predict(f)\n",
        "confusion_matrix(y, y_pred)"
      ],
      "metadata": {
        "colab": {
          "base_uri": "https://localhost:8080/"
        },
        "id": "Q8SuwrrAlRQq",
        "outputId": "a3cd054a-00cd-4a43-edae-3349a2cae160"
      },
      "execution_count": 89,
      "outputs": [
        {
          "output_type": "execute_result",
          "data": {
            "text/plain": [
              "array([[ 6,  0],\n",
              "       [ 0, 10]])"
            ]
          },
          "metadata": {},
          "execution_count": 89
        }
      ]
    },
    {
      "cell_type": "code",
      "source": [],
      "metadata": {
        "id": "c41arP9ylUWi"
      },
      "execution_count": null,
      "outputs": []
    }
  ]
}